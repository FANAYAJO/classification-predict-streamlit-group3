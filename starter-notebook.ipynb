{
 "cells": [
  {
   "cell_type": "markdown",
   "id": "05600c92",
   "metadata": {},
   "source": [
    "<a id=\"cont\"></a>\n",
    "\n",
    "## Table of Contents\n",
    "\n",
    "<a href=#one>1. Importing Packages</a>\n",
    "\n",
    "<a href=#two>2. Loading Data</a>\n",
    "\n",
    "<a href=#three>3. Exploratory Data Analysis (EDA)</a>\n",
    "\n",
    "<a href=#four>4. Data Engineering</a>\n",
    "\n",
    "<a href=#five>5. Modeling</a>\n",
    "\n",
    "<a href=#six>6. Model Performance</a>\n",
    "\n",
    "<a href=#seven>7. Model Explanations</a>"
   ]
  },
  {
   "cell_type": "markdown",
   "id": "997462e2",
   "metadata": {},
   "source": [
    " <a id=\"one\"></a>\n",
    "## 1. Importing Packages\n",
    "<a href=#cont>Back to Table of Contents</a>\n",
    "\n",
    "---\n",
    "    \n",
    "| ⚡ Description: Importing Packages ⚡ |\n",
    "| :--------------------------- |\n",
    "| In this section we import the libraries that will be used throughout our analysis and modelling. |\n",
    "\n",
    "---"
   ]
  },
  {
   "cell_type": "code",
   "execution_count": null,
   "id": "475dbe93",
   "metadata": {
    "ExecuteTime": {
     "end_time": "2021-06-23T10:30:53.800892Z",
     "start_time": "2021-06-23T10:30:50.215449Z"
    }
   },
   "outputs": [],
   "source": [
    "# Libraries for data loading, data manipulation and data visulisation\n",
    "import re\n",
    "import time\n",
    "import numpy as np\n",
    "import pandas as pd\n",
    "import matplotlib.pyplot as plt\n",
    "import seaborn as sns\n",
    "from bs4 import BeautifulSoup\n",
    "import requests\n",
    "from requests.packages.urllib3.exceptions import InsecureRequestWarning\n",
    "requests.packages.urllib3.disable_warnings(InsecureRequestWarning)\n",
    "from multiprocesspandas import applyparallel\n",
    "\n",
    "%matplotlib inline\n",
    "# set plot style\n",
    "sns.set()\n",
    "\n",
    "# Libraries for Natural Language processing\n",
    "import nltk\n",
    "from nltk.corpus import stopwords\n",
    "from gensim.parsing.preprocessing import STOPWORDS\n",
    "from nltk.sentiment.vader import SentimentIntensityAnalyzer\n",
    "from nltk.stem import WordNetLemmatizer\n",
    "from nltk import pos_tag, PorterStemmer\n",
    "from nltk.tokenize import TreebankWordTokenizer\n",
    "\n",
    "# Libraries for data preparation and model building\n",
    "from sklearn import preprocessing\n",
    "from sklearn.utils import resample\n",
    "from sklearn.model_selection import train_test_split\n",
    "from sklearn.linear_model import LogisticRegression\n",
    "from sklearn.ensemble import RandomForestClassifier, GradientBoostingClassifier\n",
    "from sklearn.svm import SVC\n",
    "from sklearn.metrics import confusion_matrix, ConfusionMatrixDisplay\n",
    "from sklearn.metrics import f1_score, classification_report\n",
    "# from sklearn.preprocessing import LabelEncoder\n",
    "from sklearn.preprocessing import MinMaxScaler\n",
    "from sklearn.feature_extraction.text import TfidfVectorizer\n",
    "from sklearn.feature_extraction.text import CountVectorizer\n",
    "\n",
    "# Setting global constants to ensure notebook results are reproducible\n",
    "SEED = 42"
   ]
  },
  {
   "cell_type": "markdown",
   "id": "f22a6718",
   "metadata": {},
   "source": [
    "<a id=\"two\"></a>\n",
    "## 2. Loading the Data\n",
    "<a class=\"anchor\" id=\"1.1\"></a>\n",
    "<a href=#cont>Back to Table of Contents</a>\n",
    "\n",
    "---\n",
    "    \n",
    "| ⚡ Description: Loading the data ⚡ |\n",
    "| :--------------------------- |\n",
    "| In this section we load the data from the `train.csv` file into a DataFrame. |\n",
    "\n",
    "---"
   ]
  },
  {
   "cell_type": "code",
   "execution_count": 2,
   "id": "fbbb6c18",
   "metadata": {
    "ExecuteTime": {
     "end_time": "2021-06-28T08:49:35.311495Z",
     "start_time": "2021-06-28T08:49:35.295494Z"
    }
   },
   "outputs": [],
   "source": [
    "df = pd.read_csv('kaggle_data/train.csv', encoding='ascii', encoding_errors='ignore')# load the data"
   ]
  },
  {
   "cell_type": "markdown",
   "id": "81132ab3",
   "metadata": {
    "tags": []
   },
   "source": [
    "<a id=\"three\"></a>\n",
    "## 3. Exploratory Data Analysis (EDA)\n",
    "<a class=\"anchor\" id=\"1.1\"></a>\n",
    "<a href=#cont>Back to Table of Contents</a>\n",
    "\n",
    "---\n",
    "    \n",
    "| ⚡ Description: Exploratory data analysis ⚡ |\n",
    "| :--------------------------- |\n",
    "| In this section, we perform an in-depth analysis of all the variables in the DataFrame. |\n",
    "\n",
    "---\n"
   ]
  },
  {
   "cell_type": "markdown",
   "id": "03ae80f1-e3dd-4f2f-8165-c3c06edf9ec9",
   "metadata": {},
   "source": [
    "### What is EDA?\n",
    "\n",
    "- In a nutshell, exploratory data analysis (EDA) is what data analysts do with large amounts of data to uncover patterns and summarize the dataset's primary characteristics in addition to what they learn from modeling and hypothesis testing. EDA is a notion in data analytics that allows analysts to approach a database without making any assumptions. When a data analyst employs EDA, it's as if the data is revealing what they don't already know."
   ]
  },
  {
   "cell_type": "code",
   "execution_count": 3,
   "id": "e805134e",
   "metadata": {
    "ExecuteTime": {
     "end_time": "2021-06-28T08:52:37.824204Z",
     "start_time": "2021-06-28T08:52:37.811206Z"
    }
   },
   "outputs": [
    {
     "data": {
      "text/html": [
       "<div>\n",
       "<style scoped>\n",
       "    .dataframe tbody tr th:only-of-type {\n",
       "        vertical-align: middle;\n",
       "    }\n",
       "\n",
       "    .dataframe tbody tr th {\n",
       "        vertical-align: top;\n",
       "    }\n",
       "\n",
       "    .dataframe thead th {\n",
       "        text-align: right;\n",
       "    }\n",
       "</style>\n",
       "<table border=\"1\" class=\"dataframe\">\n",
       "  <thead>\n",
       "    <tr style=\"text-align: right;\">\n",
       "      <th></th>\n",
       "      <th>sentiment</th>\n",
       "      <th>message</th>\n",
       "      <th>tweetid</th>\n",
       "    </tr>\n",
       "  </thead>\n",
       "  <tbody>\n",
       "    <tr>\n",
       "      <th>0</th>\n",
       "      <td>1</td>\n",
       "      <td>PolySciMajor EPA chief doesn't think carbon di...</td>\n",
       "      <td>625221</td>\n",
       "    </tr>\n",
       "    <tr>\n",
       "      <th>1</th>\n",
       "      <td>1</td>\n",
       "      <td>It's not like we lack evidence of anthropogeni...</td>\n",
       "      <td>126103</td>\n",
       "    </tr>\n",
       "    <tr>\n",
       "      <th>2</th>\n",
       "      <td>2</td>\n",
       "      <td>RT @RawStory: Researchers say we have three ye...</td>\n",
       "      <td>698562</td>\n",
       "    </tr>\n",
       "    <tr>\n",
       "      <th>3</th>\n",
       "      <td>1</td>\n",
       "      <td>#TodayinMaker# WIRED : 2016 was a pivotal year...</td>\n",
       "      <td>573736</td>\n",
       "    </tr>\n",
       "    <tr>\n",
       "      <th>4</th>\n",
       "      <td>1</td>\n",
       "      <td>RT @SoyNovioDeTodas: It's 2016, and a racist, ...</td>\n",
       "      <td>466954</td>\n",
       "    </tr>\n",
       "  </tbody>\n",
       "</table>\n",
       "</div>"
      ],
      "text/plain": [
       "   sentiment                                            message  tweetid\n",
       "0          1  PolySciMajor EPA chief doesn't think carbon di...   625221\n",
       "1          1  It's not like we lack evidence of anthropogeni...   126103\n",
       "2          2  RT @RawStory: Researchers say we have three ye...   698562\n",
       "3          1  #TodayinMaker# WIRED : 2016 was a pivotal year...   573736\n",
       "4          1  RT @SoyNovioDeTodas: It's 2016, and a racist, ...   466954"
      ]
     },
     "execution_count": 3,
     "metadata": {},
     "output_type": "execute_result"
    }
   ],
   "source": [
    "# take a peek into the dataset\n",
    "df.head()"
   ]
  },
  {
   "cell_type": "markdown",
   "id": "fc505323-4f96-4f6d-953e-44a87fce57b9",
   "metadata": {},
   "source": [
    "Here we take a quick peek into our loaded dataset and we see that there are __3__ columns of note; `sentiment`, `message` and `tweetid`"
   ]
  },
  {
   "cell_type": "markdown",
   "id": "504caeea-9b97-4801-b150-c1da6d09aab8",
   "metadata": {},
   "source": [
    "A further investigation will provide the dimensions of our dataset, that is looking at the `shape` of the data"
   ]
  },
  {
   "cell_type": "code",
   "execution_count": 4,
   "id": "515133e7-4845-497a-926c-1b06b736c8a2",
   "metadata": {},
   "outputs": [
    {
     "data": {
      "text/plain": [
       "(15819, 3)"
      ]
     },
     "execution_count": 4,
     "metadata": {},
     "output_type": "execute_result"
    }
   ],
   "source": [
    "df.shape"
   ]
  },
  {
   "cell_type": "markdown",
   "id": "da42a942-ea30-40de-846f-8efd41a4fe26",
   "metadata": {},
   "source": [
    "Here, we can see that our dataset is made up of __15,819__ rows and __3__ columns, as was earlier revealed."
   ]
  },
  {
   "cell_type": "markdown",
   "id": "a0f1ef85-6a33-4fa8-abd2-c9243071702a",
   "metadata": {},
   "source": [
    "Next let's see of all that number of data points in the dataset, how many of them do not contain any data? and what kind of data is contained in each column? These questions will be answered by looking at the information of the dataset provided by the `.info()` method."
   ]
  },
  {
   "cell_type": "code",
   "execution_count": 5,
   "id": "c286dfa4-d548-4f66-9bc7-51d1dbe34e78",
   "metadata": {},
   "outputs": [
    {
     "name": "stdout",
     "output_type": "stream",
     "text": [
      "<class 'pandas.core.frame.DataFrame'>\n",
      "RangeIndex: 15819 entries, 0 to 15818\n",
      "Data columns (total 3 columns):\n",
      " #   Column     Non-Null Count  Dtype \n",
      "---  ------     --------------  ----- \n",
      " 0   sentiment  15819 non-null  int64 \n",
      " 1   message    15819 non-null  object\n",
      " 2   tweetid    15819 non-null  int64 \n",
      "dtypes: int64(2), object(1)\n",
      "memory usage: 309.0+ KB\n"
     ]
    }
   ],
   "source": [
    "df.info()"
   ]
  },
  {
   "cell_type": "markdown",
   "id": "57067a7a-3695-431e-a725-e78a5b148233",
   "metadata": {},
   "source": [
    "The information above tells us that all of the columns in our dataset contain __15,819__ rows of data that `non-null`, meaning we have no missing values in our dataset. This can be attested to by the information provided when we looked at the `shape` of the data above"
   ]
  },
  {
   "cell_type": "markdown",
   "id": "d382a655-e717-4521-9ce0-840348dbd8c2",
   "metadata": {},
   "source": [
    "Another interesting information to extract from this dataset will be the unique labels in the `sentiment` which is our `label` or `dependent variable`"
   ]
  },
  {
   "cell_type": "code",
   "execution_count": 6,
   "id": "93fb1d39-2223-4bff-b96e-d3c91196a51d",
   "metadata": {},
   "outputs": [
    {
     "name": "stdout",
     "output_type": "stream",
     "text": [
      "[1, 2, 0, -1]\n"
     ]
    }
   ],
   "source": [
    "sentiment_labels = list(df.sentiment.unique())\n",
    "print(sentiment_labels)"
   ]
  },
  {
   "cell_type": "markdown",
   "id": "80d09c1e-c210-4f1b-b35c-7886a37940b9",
   "metadata": {},
   "source": [
    "We have __4__ different labels which make up the list of all possible sentiments that can be predicted by our model(s)"
   ]
  },
  {
   "cell_type": "markdown",
   "id": "9ada0a1b-11dc-4720-a80e-38579de84606",
   "metadata": {},
   "source": [
    "__-1__: means it is a NEGATIVE sentiment\n",
    "__0__: means it is a NEUTRAL sentiment\n",
    "__1__: means it is a POSITIVE sentiment\n",
    "__2__: means it is a FACTUAL sentiment from a reputable News Site"
   ]
  },
  {
   "cell_type": "markdown",
   "id": "4d434bcc-68cc-4923-a0bf-fd53a6cd7f2f",
   "metadata": {},
   "source": [
    "What are the proportions of our dataset that these labels represent? First, we will look at the figures and then we will look at a chart for better understanding  "
   ]
  },
  {
   "cell_type": "code",
   "execution_count": 7,
   "id": "9568b054-d0cf-4584-b484-eefa99894076",
   "metadata": {},
   "outputs": [
    {
     "data": {
      "text/plain": [
       "positive    8530\n",
       "factual     3640\n",
       "neutral     2353\n",
       "negative    1296\n",
       "Name: sentiment, dtype: int64"
      ]
     },
     "execution_count": 7,
     "metadata": {},
     "output_type": "execute_result"
    }
   ],
   "source": [
    "labels_proportions = df.sentiment.value_counts()\n",
    "labels_proportions.index = ['positive', 'factual', 'neutral', 'negative']\n",
    "labels_proportions"
   ]
  },
  {
   "cell_type": "markdown",
   "id": "ec33591a-699c-4404-a710-d07c00e65c2e",
   "metadata": {},
   "source": [
    "We can see that _label 1_ is very highly represented (__8,530__) and _label 2_ follows not so closely (__3,640__), which can be a good thing because it indicates that a lot of people are speaking about climate change and are aware of its impacts on our planet. _Label 0_ comes in third (__2,353__); these tweets are neutral, having no connections with climate change or its woes.\n",
    "\n",
    "Gladly, the negative sentiments come in tops from the bottom (__1,296__). These are tweets from people that do not believe in the reality of climate change or global warming"
   ]
  },
  {
   "cell_type": "markdown",
   "id": "73649e60-3a93-41c2-b125-d7bedb7a1e46",
   "metadata": {},
   "source": [
    "Now the chart."
   ]
  },
  {
   "cell_type": "code",
   "execution_count": 8,
   "id": "6dd6ee8c",
   "metadata": {},
   "outputs": [],
   "source": [
    "def plot_series(series, kind='pie', name='sentiment'):\n",
    "    import matplotlib as mpl\n",
    "    mpl.rcParams['xtick.labelsize'] = 12 \n",
    "    series.index = ['positive', 'factual', 'neutral', 'negative']\n",
    "    series.plot(kind=kind, figsize=(12, 9))\n",
    "    plt.ylabel(name, fontsize=14)\n",
    "    plt.xticks(rotation=0)\n",
    "    plt.title(f'Proportion of {name}s', fontsize=16)\n",
    "    return"
   ]
  },
  {
   "cell_type": "code",
   "execution_count": 9,
   "id": "ecac5037-1186-4c42-8011-7a3c5a839863",
   "metadata": {},
   "outputs": [
    {
     "data": {
      "image/png": "[encoded data removed]",
      "text/plain": [
       "<Figure size 864x648 with 1 Axes>"
      ]
     },
     "metadata": {},
     "output_type": "display_data"
    }
   ],
   "source": [
    "plot_series(labels_proportions)"
   ]
  },
  {
   "cell_type": "markdown",
   "id": "acbf0405-bc80-4a05-b908-89ad1d207f4d",
   "metadata": {},
   "source": [
    "Here we see that the biggest slice of the pie represents the _positive comments_ followed by the _factual comments/posts_ and so on, confirming what we understand from the figures"
   ]
  },
  {
   "cell_type": "markdown",
   "id": "6e251bd7-d801-4bbd-943f-7d29d5a32d6d",
   "metadata": {},
   "source": [
    "While we are glad that there are more _positive_ comments than the _neutral_ and _negative_ ones combined, this poses an issue when we try to feed the data into our machine learning algorithm. This is as a result of an __imbalance__ of the proportion of data represented by the labels in our dataset. We will dive into that further in the **data engineering** section; what data imbalance is and how to deal with it."
   ]
  },
  {
   "cell_type": "markdown",
   "id": "d412cfe8-daea-4150-84d9-2897d020100e",
   "metadata": {},
   "source": [
    "Out of curiosity, While it is intuitive to spot a _postive_ or a _negative_ or a _neutral_ comment, what makes a comment *factual*? hmm..\n",
    "\n",
    "Let's look further into the data and see what we find."
   ]
  },
  {
   "cell_type": "markdown",
   "id": "c95086f6-1c08-4f50-b68a-59e6b7635f6e",
   "metadata": {},
   "source": [
    "We will approach this by printing a sample of messages in these different comment categories and see if we can make sense of what we find."
   ]
  },
  {
   "cell_type": "code",
   "execution_count": 10,
   "id": "0ad11a4e-3673-48eb-a50a-fe73a824b5d5",
   "metadata": {},
   "outputs": [
    {
     "name": "stdout",
     "output_type": "stream",
     "text": [
      "Positive comments:\n",
      "\t[\"PolySciMajor EPA chief doesn't think carbon dioxide is main cause of global warming and.. wait, what!? https://t.co/yeLvcEFXkC via @mashable\"\n",
      " \"It's not like we lack evidence of anthropogenic global warming\"\n",
      " '#TodayinMaker# WIRED : 2016 was a pivotal year in the war on climate change https://t.co/44wOTxTLcD'\n",
      " \"RT @SoyNovioDeTodas: It's 2016, and a racist, sexist, climate change denying bigot is leading in the polls. #ElectionNight\"\n",
      " \"Worth a read whether you do or don't believe in climate change https://t.co/ggLZVNYjun https://t.co/7AFE2mAH8j\"]\n",
      "\n"
     ]
    }
   ],
   "source": [
    "positives = df['message'][df['sentiment'] == 1]\n",
    "negatives = df['message'][df['sentiment'] == -1]\n",
    "neutrals = df['message'][df['sentiment'] == 0]\n",
    "factuals = df['message'][df['sentiment'] == 2]\n",
    "\n",
    "print(\"Positive comments:\")\n",
    "print(f\"\\t{np.array(positives[:5])}\\n\")"
   ]
  },
  {
   "cell_type": "code",
   "execution_count": 11,
   "id": "99f9197e-8867-4ed2-82e4-da263d385b7c",
   "metadata": {},
   "outputs": [
    {
     "name": "stdout",
     "output_type": "stream",
     "text": [
      "Negative comments:\n",
      "\t['Sally Kohns latest evidence of climate change proves she is not a smart person https://t.co/MhkzoGL9Vt via @twitchyteam Need we say more'\n",
      " \"@realDonaldTrump Carbon Tax is a Globalist idea to enslave the world's population. It is the whole reason for propagating global warming!\"\n",
      " 'RT @SteveSGoddard: We had winds close to 100 MPH in the area this afternoon. I would blame climate change, except that this happens pr '\n",
      " '@MissLizzyNJ lmao  snowflakes  complaining about snowflakes  in winter =global warming '\n",
      " \"RT @Dawn2334Dawn: This is ONE of Arnold Schwarzenegger's vehicles. He is now whining about climate change.\\nHow's his maid...illegal or\\nhttp\"]\n",
      "\n"
     ]
    }
   ],
   "source": [
    "print(\"Negative comments:\")\n",
    "print(f\"\\t{np.array(negatives[:5])}\\n\")"
   ]
  },
  {
   "cell_type": "code",
   "execution_count": 12,
   "id": "cbb96ab9-e88c-4fd2-8012-fc8b4f575f1d",
   "metadata": {},
   "outputs": [
    {
     "name": "stdout",
     "output_type": "stream",
     "text": [
      "Neutral comments:\n",
      "\t['Calum: *tweets abt reunitingish w the cast*\\n-sees replies begging him to come to their countries-\\nCalum: *goes back to rting climate change*'\n",
      " 'we also met this guy, he let us in on some truth about climate change and gay people not existing https://t.co/Q7yOMcMZaj'\n",
      " \"@Jnp_Ftw are these the same scientists that denounce climate change? It's not a choice\"\n",
      " 'We ve dealt with simple issues like climate change and energy policy. Now the complex issues. Mal vs Tones. #qanda'\n",
      " \"RT @andrewsharp: Win probability is bullshit man. I saw the NBA Finals and that's when I knew, global warming isn't real\"]\n",
      "\n"
     ]
    }
   ],
   "source": [
    "print(\"Neutral comments:\")\n",
    "print(f\"\\t{np.array(neutrals[:5])}\\n\")"
   ]
  },
  {
   "cell_type": "code",
   "execution_count": 13,
   "id": "dddc0188-26cf-4476-a7e3-f0be4d8b6e7e",
   "metadata": {},
   "outputs": [
    {
     "name": "stdout",
     "output_type": "stream",
     "text": [
      "Factual comments:\n",
      "\t['RT @RawStory: Researchers say we have three years to act on climate change before its too late https://t.co/WdT0KdUr2f https://t.co/Z0ANPT'\n",
      " 'RT @tveitdal: We only have a 5 percent chance of avoiding dangerous global warming, a study finds https://t.co/xUBTqNxhkK https://t.co/of'\n",
      " 'Fossil fuel giant ExxonMobil misled the public about climate change, Harvard academics conclude https://t.co/ofc2WSu4EX'\n",
      " 'Bangladesh confronting climate change head on https://t.co/MTqeNBQDUt https://t.co/itgkUxgEfg'\n",
      " 'RT @latimes: Atmospheric rivers fueled by climate change could decimate wild oysters in San Francisco Bay https://t.co/p0LZBhlU5K https://t']\n",
      "\n"
     ]
    }
   ],
   "source": [
    "print(\"Factual comments:\")\n",
    "print(f\"\\t{np.array(factuals[:5])}\\n\")"
   ]
  },
  {
   "cell_type": "markdown",
   "id": "8322c134-1a36-44a1-95d8-46e585e78e29",
   "metadata": {},
   "source": [
    "At first glance, nothing particularly stands out but looking closely, only factual comments have posts from news sites like **@RawStory** and **@latimes**. A quick research into **@tveitdal** shows that he is a grandmaster in climate change and environmental consultancy, but are we to take his words as facts? hmm.. We will dive into this further during **data engineering**. \n",
    "\n",
    "There are no surprises in the _negative_ comments, there's a post with Donald Trump tagged."
   ]
  },
  {
   "cell_type": "markdown",
   "id": "16631b88-a707-41b0-aa5f-aae36357d67c",
   "metadata": {},
   "source": [
    "There also seem to be a lot of links in these posts. These have to be handled one way or another as they will become \"noise\" in the data set. In the meantime, let's investigate this further."
   ]
  },
  {
   "cell_type": "markdown",
   "id": "16b627ac-5713-4e8e-81bc-76afa47e1229",
   "metadata": {},
   "source": [
    "**What are the words that are more frequent in each post type**"
   ]
  },
  {
   "cell_type": "code",
   "execution_count": 14,
   "id": "5db57e96-a3ff-4456-ac97-2c52397d89e4",
   "metadata": {},
   "outputs": [],
   "source": [
    "def words_freq(df, n):\n",
    "    import string\n",
    "    stop_words = stopwords.words('english')\n",
    "    stop_words.append('rt')\n",
    "    stop_words.append('&amp;')\n",
    "    dict_ = {}\n",
    "    for row in np.array(df):\n",
    "        word_sw = ' '.join([l.lower() for l in row.split(' ') if l.lower() not in stop_words])\n",
    "        word_punct = ''.join([l for l in word_sw if l not in string.punctuation])\n",
    "\n",
    "        for wd in word_punct.split(\" \"):\n",
    "            if wd in dict_:\n",
    "                dict_[wd] += 1\n",
    "            else:\n",
    "                dict_[wd] = 1\n",
    "    \n",
    "    dict_ = {k: v for k,v in sorted(dict_.items(), key=lambda kv: kv[1], reverse=True)}\n",
    "    n_largest = dict(list(dict_.items())[:n])\n",
    "    \n",
    "    return n_largest"
   ]
  },
  {
   "cell_type": "code",
   "execution_count": 15,
   "id": "72fff112-aa09-40e5-85fa-ed8fbf919adb",
   "metadata": {},
   "outputs": [
    {
     "name": "stdout",
     "output_type": "stream",
     "text": [
      "{'climate': 7346, 'change': 7056, 'global': 1595, '': 1454, 'warming': 1429, 'believe': 1004, 'trump': 883, 'going': 590, 'real': 497, 'people': 454, 'world': 446, 'us': 444, 'die': 394, 'thinking': 338, 'hoax': 316, 'husband': 312, 'like': 310, 'stephenschlegel': 307, 'httpstcosjofon': 307, 'fight': 284}\n"
     ]
    }
   ],
   "source": [
    "pos = words_freq(positives, 20)\n",
    "print(pos)"
   ]
  },
  {
   "cell_type": "code",
   "execution_count": 16,
   "id": "4a992149-7f3b-43b1-85eb-fbb0fe2994d0",
   "metadata": {},
   "outputs": [
    {
     "name": "stdout",
     "output_type": "stream",
     "text": [
      "{'climate': 795, 'change': 735, 'global': 635, 'warming': 604, '': 218, 'science': 77, 'realdonaldtrump': 69, 'us': 63, 'real': 59, 'people': 57, 'trump': 57, 'man': 53, 'scam': 51, 'would': 50, 'hoax': 50, 'made': 48, 'data': 48, 'fake': 47, 'manmade': 46, 'believe': 46}\n"
     ]
    }
   ],
   "source": [
    "neg = words_freq(negatives, 20)\n",
    "print(neg)"
   ]
  },
  {
   "cell_type": "code",
   "execution_count": 17,
   "id": "7a2c6430-708d-43df-be15-dbc86293d72e",
   "metadata": {},
   "outputs": [
    {
     "name": "stdout",
     "output_type": "stream",
     "text": [
      "{'climate': 1435, 'change': 1370, 'global': 1036, 'warming': 966, '': 446, 'trump': 147, 'us': 100, 'like': 96, 'real': 94, 'believe': 87, 'im': 86, 'penguin': 84, 'think': 82, 'hes': 78, 'people': 65, 'cause': 56, 'know': 52, 'one': 49, 'says': 45, 'get': 45}\n"
     ]
    }
   ],
   "source": [
    "neu = words_freq(neutrals, 20)\n",
    "print(neu)"
   ]
  },
  {
   "cell_type": "code",
   "execution_count": 18,
   "id": "b87ddfbd-1e6f-4dd6-9cac-e77ed6e73e61",
   "metadata": {},
   "outputs": [
    {
     "name": "stdout",
     "output_type": "stream",
     "text": [
      "{'climate': 3348, 'change': 3201, '': 837, 'trump': 825, 'global': 507, 'warming': 435, 'via': 299, 'us': 292, 'says': 241, 'trumps': 239, 'epa': 237, 'new': 191, 'scientists': 178, 'donald': 166, 'fight': 159, 'china': 142, 'could': 133, 'news': 125, 'world': 114, 'scott': 112}\n"
     ]
    }
   ],
   "source": [
    "fact = words_freq(factuals, 20)\n",
    "print(fact)"
   ]
  },
  {
   "cell_type": "markdown",
   "id": "02ba676f-f936-4126-9f32-e7b58a900fee",
   "metadata": {},
   "source": [
    "#### - *words that make a comment factual*"
   ]
  },
  {
   "cell_type": "code",
   "execution_count": 19,
   "id": "bb702d5b-641c-4acf-bfdc-190c299e976e",
   "metadata": {},
   "outputs": [
    {
     "name": "stdout",
     "output_type": "stream",
     "text": [
      "['epa', 'scientists', 'via', 'new', 'news', 'scott', 'china', 'trumps', 'donald', 'could']\n"
     ]
    }
   ],
   "source": [
    "print(list(set(fact.keys()) - set(list(neg.keys()) + list(pos.keys()) + list(neu.keys()))))"
   ]
  },
  {
   "cell_type": "markdown",
   "id": "68e78421-2394-4f8c-8d72-5b181e5a0e96",
   "metadata": {},
   "source": [
    "So far we've taken a look at what the most frequent words are per sentiment and have seen how factual comments differ from other comments after taking a look at the top 20 frequent words. A few words of interest are \"epa\", \"news\", \"scientists\" and \"via\" which all tend to be words used in a news site publication"
   ]
  },
  {
   "cell_type": "markdown",
   "id": "6a4d5a3d-8e73-4480-86e6-5c3f06937092",
   "metadata": {},
   "source": [
    "**Note**, our data is still a bit noisy because we haven't taken care of the urls in each post yet. But this gives us an idea."
   ]
  },
  {
   "cell_type": "markdown",
   "id": "41137022-62a3-4dae-9ccf-cab16fa9c6ce",
   "metadata": {},
   "source": [
    "**How many links are there in total? and How are they shared amongst the sentiments?**"
   ]
  },
  {
   "cell_type": "code",
   "execution_count": 20,
   "id": "3518f3fc-7aba-4529-9826-4138186f2c0a",
   "metadata": {},
   "outputs": [
    {
     "name": "stdout",
     "output_type": "stream",
     "text": [
      "9673\n"
     ]
    }
   ],
   "source": [
    "# how many links there are\n",
    "pattern_url = r'http[s]?://(?:[A-Za-z]|[0-9]|[$-_@.&+]|[!*\\(\\),]|(?:%[0-9A-Fa-f][0-9A-Fa-f]))+'\n",
    "urls = []\n",
    "for row in df['message']:\n",
    "    match = re.findall(pattern_url, row)\n",
    "    for item in match:\n",
    "        urls.append(item)\n",
    "\n",
    "total_links = len(urls)\n",
    "print(total_links)"
   ]
  },
  {
   "cell_type": "markdown",
   "id": "aba302d7-fc10-4087-a1f7-3479e7348b58",
   "metadata": {},
   "source": [
    "Here we see that there are __9,673__ url links in the dataset."
   ]
  },
  {
   "cell_type": "code",
   "execution_count": 21,
   "id": "d07d0794-c626-4fc6-ace4-c9372edb307d",
   "metadata": {},
   "outputs": [
    {
     "data": {
      "text/html": [
       "<div>\n",
       "<style scoped>\n",
       "    .dataframe tbody tr th:only-of-type {\n",
       "        vertical-align: middle;\n",
       "    }\n",
       "\n",
       "    .dataframe tbody tr th {\n",
       "        vertical-align: top;\n",
       "    }\n",
       "\n",
       "    .dataframe thead th {\n",
       "        text-align: right;\n",
       "    }\n",
       "</style>\n",
       "<table border=\"1\" class=\"dataframe\">\n",
       "  <thead>\n",
       "    <tr style=\"text-align: right;\">\n",
       "      <th></th>\n",
       "      <th>sentiment</th>\n",
       "      <th>message</th>\n",
       "      <th>tweetid</th>\n",
       "      <th>url</th>\n",
       "    </tr>\n",
       "  </thead>\n",
       "  <tbody>\n",
       "    <tr>\n",
       "      <th>0</th>\n",
       "      <td>1</td>\n",
       "      <td>PolySciMajor EPA chief doesn't think carbon di...</td>\n",
       "      <td>625221</td>\n",
       "      <td>1</td>\n",
       "    </tr>\n",
       "    <tr>\n",
       "      <th>1</th>\n",
       "      <td>1</td>\n",
       "      <td>It's not like we lack evidence of anthropogeni...</td>\n",
       "      <td>126103</td>\n",
       "      <td>0</td>\n",
       "    </tr>\n",
       "    <tr>\n",
       "      <th>2</th>\n",
       "      <td>2</td>\n",
       "      <td>RT @RawStory: Researchers say we have three ye...</td>\n",
       "      <td>698562</td>\n",
       "      <td>2</td>\n",
       "    </tr>\n",
       "    <tr>\n",
       "      <th>3</th>\n",
       "      <td>1</td>\n",
       "      <td>#TodayinMaker# WIRED : 2016 was a pivotal year...</td>\n",
       "      <td>573736</td>\n",
       "      <td>1</td>\n",
       "    </tr>\n",
       "    <tr>\n",
       "      <th>4</th>\n",
       "      <td>1</td>\n",
       "      <td>RT @SoyNovioDeTodas: It's 2016, and a racist, ...</td>\n",
       "      <td>466954</td>\n",
       "      <td>0</td>\n",
       "    </tr>\n",
       "  </tbody>\n",
       "</table>\n",
       "</div>"
      ],
      "text/plain": [
       "   sentiment                                            message  tweetid  url\n",
       "0          1  PolySciMajor EPA chief doesn't think carbon di...   625221    1\n",
       "1          1  It's not like we lack evidence of anthropogeni...   126103    0\n",
       "2          2  RT @RawStory: Researchers say we have three ye...   698562    2\n",
       "3          1  #TodayinMaker# WIRED : 2016 was a pivotal year...   573736    1\n",
       "4          1  RT @SoyNovioDeTodas: It's 2016, and a racist, ...   466954    0"
      ]
     },
     "execution_count": 21,
     "metadata": {},
     "output_type": "execute_result"
    }
   ],
   "source": [
    "# Number of links per sentiment\n",
    "\n",
    "# copy dataframe to not change structure of main df\n",
    "df_copy = df.copy()\n",
    "\n",
    "# create new column `url\n",
    "url = []\n",
    "\n",
    "# find urls per row \n",
    "for row in df_copy['message']:\n",
    "    match = re.findall(pattern_url, row)\n",
    "    url.append(len(match)) # append the number of urls found per row\n",
    "    \n",
    "df_copy['url'] = url\n",
    "\n",
    "df_copy.head()"
   ]
  },
  {
   "cell_type": "code",
   "execution_count": 22,
   "id": "52e65b90-6ac2-426a-b1a6-ca0793430a90",
   "metadata": {},
   "outputs": [
    {
     "data": {
      "text/plain": [
       "{1: 4199, 2: 4070, 0: 865, -1: 539}"
      ]
     },
     "execution_count": 22,
     "metadata": {},
     "output_type": "execute_result"
    }
   ],
   "source": [
    "count_dict = {}\n",
    "\n",
    "for l in df_copy.sentiment.unique():\n",
    "    new_df = df_copy[df_copy.sentiment == l]\n",
    "    count_dict[l] = sum(new_df.url)\n",
    "    \n",
    "count_dict"
   ]
  },
  {
   "cell_type": "code",
   "execution_count": 23,
   "id": "d6c059b5-126a-4795-9ae3-5f3a6357d98a",
   "metadata": {},
   "outputs": [
    {
     "data": {
      "image/png": "[encoded data removed]",
      "text/plain": [
       "<Figure size 864x648 with 1 Axes>"
      ]
     },
     "metadata": {},
     "output_type": "display_data"
    }
   ],
   "source": [
    "plot_series(pd.Series(count_dict), name='Url')"
   ]
  },
  {
   "cell_type": "markdown",
   "id": "b5636f20-cd91-48bb-aac7-ca8234fb1326",
   "metadata": {},
   "source": [
    "Again, _positive_ and _factual_ comments lead the way, indicating that there may be more to gain from these urls, particularly in the case of the _factual_ comments which has more **urls** than it does **data points** (__4,070 :__ __3640__). This is by no means conclusive. \n",
    "\n",
    "Perhaps the model will tell us more eventually."
   ]
  },
  {
   "cell_type": "markdown",
   "id": "5cb332e0-9567-44bf-95cd-1b787bc0ec62",
   "metadata": {},
   "source": [
    "#### The Problem With Text Data\n",
    "\n",
    "A major problem with *text* data is that it is very messy and requires a lot of cleaning. In addition to that, it comes in a form that will be very difficult to feed into our machine learning models and get meaningful results, if any for that matter.\n",
    "\n",
    "A machine learning model only understands numbers in form of `ints` and `floats` and has a difficult time comprehending what alphabets represent.\n",
    "\n",
    "To help our machine learn better and make its life more bearable, we will need to transform our text data into digits in such a way that translates what the text is to the machine in numbers, thereby retaining, up to level, the meanings of the text. To do this, we will be carrying out a concept called `Data Engineering`.\n",
    "\n",
    "`Data Engineering` has been referred to a couple of times so far in this notebook, let's find out what it is next"
   ]
  },
  {
   "cell_type": "markdown",
   "id": "3fa93ec6",
   "metadata": {
    "tags": []
   },
   "source": [
    "<a id=\"four\"></a>\n",
    "## 4. Data Engineering\n",
    "<a class=\"anchor\" id=\"1.1\"></a>\n",
    "<a href=#cont>Back to Table of Contents</a>\n",
    "\n",
    "---\n",
    "    \n",
    "| ⚡ Description: Data engineering ⚡ |\n",
    "| :--------------------------- |\n",
    "| In this section we will: clean the dataset, and possibly create new features - as identified in the EDA phase. |\n",
    "\n",
    "---"
   ]
  },
  {
   "cell_type": "markdown",
   "id": "1aadd564-580e-4c8b-820d-ebd714fd5f71",
   "metadata": {},
   "source": [
    "### What is Data Engineering?\n",
    "\n",
    "- Data engineering is the process of creating features that allow machine learning algorithms to work utilizing domain knowledge of the data. Feature engineering is both difficult and expensive, but it is essential to the application of machine learning."
   ]
  },
  {
   "cell_type": "markdown",
   "id": "fadb34a3-c541-4961-bdb0-46adf320f827",
   "metadata": {},
   "source": [
    "#### Our Mission\n",
    "\n",
    "- [X] Extract titles from Urls and incorporate findings into our data\n",
    "\n",
    "- [X] Remove Stopwords\n",
    "\n",
    "- [X] Remove hashtags and @usernames\n",
    "\n",
    "- [X] Remove Punctuations\n",
    "\n",
    "- [X] Tokenize text data\n",
    "\n",
    "- [ ] Transform data(by stemming or lemmatizing)\n",
    "\n",
    "- [ ] Vectorize data without resampling(by bag of words, countvectorizer or tfidfvectorizer)\n",
    "\n",
    "- [ ] Vectorize data with resampling(by bag of words, countvectorizer or tfidfvectorizer)"
   ]
  },
  {
   "cell_type": "markdown",
   "id": "981722dc-935f-49b7-a527-2dc37ab093db",
   "metadata": {},
   "source": [
    "1. ###  Extracting Titles for Urls"
   ]
  },
  {
   "cell_type": "markdown",
   "id": "774475b8-9b50-4f41-a761-b1e4c754d78a",
   "metadata": {},
   "source": [
    "To achieve this goal, we will need to create a few functions for a cleaner process"
   ]
  },
  {
   "cell_type": "markdown",
   "id": "ce94f708-8b27-4c11-8c34-f6310262b69b",
   "metadata": {},
   "source": [
    "In this section, we will extract the urls from the tweets and scrape the title from the webpage the url links to and then replace url with the title of the webpage to give the tweet message more context"
   ]
  },
  {
   "cell_type": "markdown",
   "id": "b628343f-58d6-4862-a24d-698186243c44",
   "metadata": {},
   "source": [
    "There are cases where the tweet made and the title of the url extracted from the tweet are the same. This is a problem because the end goal of the extraction and handling of the url is to replace the url with the scraped title of the website, and with the tweet and the message being similar, it will lead to duplication of tweet message which will blow up the count of some words in the long run."
   ]
  },
  {
   "cell_type": "markdown",
   "id": "bc93f30a-18d3-4e04-8e78-d65fb5b1b8d4",
   "metadata": {},
   "source": [
    "Let us look at an example: for tweet indexed 14551"
   ]
  },
  {
   "cell_type": "code",
   "execution_count": 24,
   "id": "43a2af91-d814-4016-af57-42c25ab9a0a9",
   "metadata": {},
   "outputs": [
    {
     "name": "stdout",
     "output_type": "stream",
     "text": [
      "In rare move, China criticizes Trump plan to exit climate change pact https://t.co/svDExQ7mlA via @Reuters\n"
     ]
    }
   ],
   "source": [
    "tweet = df_copy.message[14551]\n",
    "print(tweet)"
   ]
  },
  {
   "cell_type": "code",
   "execution_count": 25,
   "id": "fef84121-147d-4a67-bc2f-b97c5a78e6ea",
   "metadata": {},
   "outputs": [
    {
     "name": "stdout",
     "output_type": "stream",
     "text": [
      "['https://t.co/svDExQ7mlA']\n"
     ]
    }
   ],
   "source": [
    "match = re.findall(pattern_url, tweet)\n",
    "print(match)"
   ]
  },
  {
   "cell_type": "code",
   "execution_count": 26,
   "id": "21f710a4-14aa-4ab2-8f2f-f0ee5d83137e",
   "metadata": {},
   "outputs": [
    {
     "name": "stdout",
     "output_type": "stream",
     "text": [
      "In rare move, China criticizes Trump plan to exit climate change pact | Reuters\n"
     ]
    }
   ],
   "source": [
    "for url in match:\n",
    "    response = requests.get(url,verify=False)\n",
    "    soup = BeautifulSoup(response.text, 'html.parser')\n",
    "    for title in soup.find_all('title'):\n",
    "        print(title.get_text())"
   ]
  },
  {
   "cell_type": "markdown",
   "id": "3c158c27-25a8-45dc-b29c-1508bb08bab3",
   "metadata": {},
   "source": [
    "As we can see, the title is exactly the same as the message in the tweet. We do not want this to happen. To handle this problem, we will create a function that checks the similarity between the tweet message and the title from the url. Given a threshold, at about 40%, if the similarity between both texts is greater than or equal to the threshold, the url in the tweet message is replaced with _facturl_."
   ]
  },
  {
   "cell_type": "code",
   "execution_count": 27,
   "id": "7ac19a4e-d39d-4d98-bb5e-0f99a7ab596a",
   "metadata": {},
   "outputs": [],
   "source": [
    "def check_title_similarity(text, title):\n",
    "    \"\"\"\n",
    "    This function checks the similarity between\n",
    "    the tweet message and the title scraped from\n",
    "    the url link.\n",
    "    \"\"\"\n",
    "    text = text.split(\" \")\n",
    "    title = title.split(\" \")\n",
    "    text_counter = set()\n",
    "    title = set(title)\n",
    "    \n",
    "    for txt in title:\n",
    "        if txt in text:\n",
    "            text_counter.add(txt)\n",
    "    \n",
    "    perc_similarity = (len(text_counter)/len(title))*100\n",
    "    \n",
    "    return perc_similarity"
   ]
  },
  {
   "cell_type": "code",
   "execution_count": 28,
   "id": "ac460771-4d6c-48a9-afc6-a35fe47701bb",
   "metadata": {},
   "outputs": [],
   "source": [
    "def extract(url):\n",
    "    url_titles = []\n",
    "    try:\n",
    "        try:\n",
    "            response = requests.get(url,verify=False, timeout=15)\n",
    "\n",
    "        except:\n",
    "            url = 'https://www.google.com'\n",
    "\n",
    "        finally:\n",
    "            response = requests.get(url,verify=False)\n",
    "            soup = BeautifulSoup(response.text, 'html.parser')\n",
    "            for title in soup.find_all('title'):\n",
    "                if title:\n",
    "                    return title.get_text()\n",
    "                else:\n",
    "                    return (\"\")\n",
    "    except:\n",
    "        pass"
   ]
  },
  {
   "cell_type": "markdown",
   "id": "abef493b-b837-4114-91fd-011462bcb7a3",
   "metadata": {},
   "source": [
    "Due to the size of our dataset, it will be difficult and computationally expensive to extract the urls from the tweets and get the url info and extract the title of the web page the url links to. That doesn't sound too difficult, but for a dataset in the tens of thousands, it is massively difficult especially on an average pc.\n",
    "\n",
    "To help us with this problem, we employ the services of __multithreading__. A brief introduction into this concept will only be proper."
   ]
  },
  {
   "cell_type": "markdown",
   "id": "8273bca8-3599-47b4-a956-a47d50f5f45c",
   "metadata": {},
   "source": [
    "**What is Multithreading?**\n",
    "\n",
    "- Multithreading is a popular Python technique that allows numerous jobs to run at the same time. Multithreading, in simple terms, is the ability of a processor to run many [threads](https://www.scaler.com/topics/multithreading-in-python) at the same time. \n",
    "\n",
    "Another concept of note is a concept called **[multiprocessing](https://www.scaler.com/topics/multithreading-in-python)** click on the link to read more.\n",
    "\n",
    "We are going to be making use of the package `concurrent.futures`, it already exists in python's standard library so you do not need to install it."
   ]
  },
  {
   "cell_type": "code",
   "execution_count": 29,
   "id": "1e889330-cf05-4a04-90e9-888f904db547",
   "metadata": {},
   "outputs": [],
   "source": [
    "def download_titles(urls):\n",
    "    import concurrent.futures\n",
    "    titles = []\n",
    "    MAX_THREADS = 30\n",
    "    start = time.perf_counter()\n",
    "    \n",
    "    threads = min(MAX_THREADS, len(urls))\n",
    "    \n",
    "    with concurrent.futures.ThreadPoolExecutor(max_workers=threads) as executor:\n",
    "        title = executor.map(extract, urls)\n",
    "        for i, tit in enumerate(title):\n",
    "            titles.append(tit)\n",
    "            print(i, tit)\n",
    "            \n",
    "    end = time.perf_counter() - start\n",
    "    \n",
    "    print(f\"done {len(urls)} in {end} secs\")\n",
    "    \n",
    "    return titles"
   ]
  },
  {
   "cell_type": "markdown",
   "id": "e7a47513-91a3-4c09-b02f-80eeaf868e9b",
   "metadata": {},
   "source": [
    "We have created a function above called `download_titles` which makes use of python's multithreading which maps the `extract` function over each url in a list of urls"
   ]
  },
  {
   "cell_type": "markdown",
   "id": "8b344a94-3e0c-4025-a311-04c3abd5fb3e",
   "metadata": {},
   "source": [
    "Below, we create a function to extract the urls from the `message` column"
   ]
  },
  {
   "cell_type": "code",
   "execution_count": 30,
   "id": "8abc7462-f9e1-4625-a3ed-843a9c5fdc32",
   "metadata": {},
   "outputs": [],
   "source": [
    "def extract_urls(arr):\n",
    "\n",
    "    urls = []\n",
    "    count = 0\n",
    "    start = time.perf_counter()\n",
    "    \n",
    "    for m in arr:\n",
    "        pattern_url = r'http[s]?://(?:[A-Za-z]|[0-9]|[$-_@.&+]|[!*\\(\\),]|(?:%[0-9A-Fa-f][0-9A-Fa-f]))+'\n",
    "        match = re.search(pattern_url, m)\n",
    "        \n",
    "        if match is not None:\n",
    "            urls.append(match.group())\n",
    "            \n",
    "        else:\n",
    "            urls.append(None)\n",
    "            \n",
    "        count += 1\n",
    "        \n",
    "    tots = time.perf_counter() - start\n",
    "    \n",
    "    return urls"
   ]
  },
  {
   "cell_type": "code",
   "execution_count": 31,
   "id": "6106b8d4-4b48-4238-823f-428ba04ec942",
   "metadata": {},
   "outputs": [],
   "source": [
    "messages = np.array(df['message'])\n",
    "url_list = extract_urls(messages)"
   ]
  },
  {
   "cell_type": "markdown",
   "id": "bb6765d6-5846-40c0-8e7b-f186b85f7959",
   "metadata": {},
   "source": [
    "The code below calls the `download_titles` function, passes in a list of urls and stores the downloaded titles in a titles variable. \n",
    "\n",
    "**Warning:** this bit practically took about an hour and three quarters to execute, don't believe me? here's proof; [done **15819** jobs in **5746.6804334 secs**  that is about **1 hour, 40 mins**]. \n",
    "\n",
    "Still don't believe me? grab a cup of coffee, some snacks and turn on Netflix to your favorite show and have at it (uncomment the code cell below), because it is going to take that long. \n",
    "\n",
    "Well... except your machine is way better than mine ...and i bet it is."
   ]
  },
  {
   "cell_type": "code",
   "execution_count": 32,
   "id": "e4c44e8a-d36a-42fb-b13c-780abc5a2192",
   "metadata": {},
   "outputs": [],
   "source": [
    "# titles = download_titles(url_list)\n",
    "\n",
    "# titles"
   ]
  },
  {
   "cell_type": "markdown",
   "id": "27e7164e-f967-4a96-b2bb-4e411c2011b6",
   "metadata": {},
   "source": [
    "The result of the above code has been saved into a CSV file as `titles.csv` and can be read in for ease of use."
   ]
  },
  {
   "cell_type": "code",
   "execution_count": 33,
   "id": "2873890d-cfe3-4dfe-ac52-9a480ddc9da8",
   "metadata": {},
   "outputs": [],
   "source": [
    "# titles = pd.read_csv('titles.csv')\n",
    "\n",
    "# titles.head()"
   ]
  },
  {
   "cell_type": "markdown",
   "id": "6f2cf618-2de5-4426-934d-2224bd807152",
   "metadata": {},
   "source": [
    "Let's clean up a bit"
   ]
  },
  {
   "cell_type": "markdown",
   "id": "1fc94a72-6f73-4bf6-a00c-5f8ac04826ef",
   "metadata": {},
   "source": [
    "- #### Cleaning *titles* dataframe"
   ]
  },
  {
   "cell_type": "markdown",
   "id": "5233fffd-08ea-4de2-b75f-f3077b04a288",
   "metadata": {},
   "source": [
    "We will drop the unwanted column `unnamed:0` because it is merely an index column that came with the file and give the column containing titles a befitting name"
   ]
  },
  {
   "cell_type": "code",
   "execution_count": 34,
   "id": "a1438057-c543-4d40-bdc0-1ff1df6fa73c",
   "metadata": {},
   "outputs": [],
   "source": [
    "# titles.drop('Unnamed: 0', axis=1, inplace=True)\n",
    "# titles.columns = ['title']\n",
    "\n",
    "# titles.head()"
   ]
  },
  {
   "cell_type": "markdown",
   "id": "53a3e030-fbce-4887-8419-82b012ed9ed0",
   "metadata": {},
   "source": [
    "That looks better"
   ]
  },
  {
   "cell_type": "markdown",
   "id": "5dc81629-7eb8-44c9-a145-0d59bb426941",
   "metadata": {},
   "source": [
    "*Google* is only a placeholder for links that lead nowhere or have restrictions and will not be treated as text of interest but removed."
   ]
  },
  {
   "cell_type": "markdown",
   "id": "9a00cdf9-3e57-49ee-987a-22598db11891",
   "metadata": {},
   "source": [
    "There are some rows with invalid data or website error messages such *404 Not Found* etc. We have a list of titles to remove and are stored in `titles.txt` file. Let's read that in."
   ]
  },
  {
   "cell_type": "code",
   "execution_count": 35,
   "id": "bcb083e3-2ad4-481b-bd76-c4787bd287c3",
   "metadata": {},
   "outputs": [],
   "source": [
    "# with open('titles.txt', 'r') as file:\n",
    "#     bad_titles = file.readlines()\n",
    "#     file.close()\n",
    "    \n",
    "# bad_titles = [w.replace('\\n', '') for w in bad_titles]\n",
    "# bad_titles"
   ]
  },
  {
   "cell_type": "code",
   "execution_count": 36,
   "id": "059a0159-b1a2-438a-8970-26b5ae4512e3",
   "metadata": {},
   "outputs": [],
   "source": [
    "# titles.fillna('google', inplace=True)"
   ]
  },
  {
   "cell_type": "markdown",
   "id": "b02fea6b-0fc4-4d0d-b0c4-67ee6209b5eb",
   "metadata": {},
   "source": [
    "Again, 'google' is just a placeholder"
   ]
  },
  {
   "cell_type": "markdown",
   "id": "f870ed98-dad6-47b6-a4d0-622fbca1067a",
   "metadata": {},
   "source": [
    "Next, we will remove punctuations from our `titles` dataframe, employing the use of the `remove_punctuations` function"
   ]
  },
  {
   "cell_type": "code",
   "execution_count": 37,
   "id": "e9acb7ed-ef3a-4e0b-b770-9d22f980671a",
   "metadata": {},
   "outputs": [],
   "source": [
    "def remove_punctuations(text):\n",
    "    import re\n",
    "    # using regex to remove punctuations\n",
    "    text = re.sub(r'[^\\w\\s]', '', text)\n",
    "    \n",
    "    return text"
   ]
  },
  {
   "cell_type": "code",
   "execution_count": 38,
   "id": "f43a927b-f133-4f40-88df-c4d83c6c9b97",
   "metadata": {},
   "outputs": [],
   "source": [
    "# titles['title'] = titles['title'].apply_parallel(remove_punctuations)"
   ]
  },
  {
   "cell_type": "markdown",
   "id": "4042e627-848e-4605-8dad-f127b896a3dd",
   "metadata": {},
   "source": [
    "Now, Let's remove those bad titles.\n",
    "\n",
    "We will approach this by using the `*.__contains__*` string class method"
   ]
  },
  {
   "cell_type": "code",
   "execution_count": 39,
   "id": "8e381b33-0f04-4e78-aa06-cd86ab0c79d5",
   "metadata": {},
   "outputs": [],
   "source": [
    "def remove_bad_titles(title, remove_titles):\n",
    "    title = title.lower()\n",
    "    title = title.strip()\n",
    "    for bt in remove_titles:\n",
    "        if title.__contains__(bt):\n",
    "            split_title = title.split(bt)\n",
    "            title = \"\".join(split_title)\n",
    "    \n",
    "    return title"
   ]
  },
  {
   "cell_type": "code",
   "execution_count": 40,
   "id": "3b0aa04b-b066-49f5-9ceb-467f226c80ca",
   "metadata": {},
   "outputs": [],
   "source": [
    "# titles['title'] = titles['title'].apply_parallel(remove_bad_titles)"
   ]
  },
  {
   "cell_type": "code",
   "execution_count": 41,
   "id": "45734b43-4f55-48a7-abae-2ee157694523",
   "metadata": {},
   "outputs": [],
   "source": [
    "# titles.head()"
   ]
  },
  {
   "cell_type": "markdown",
   "id": "9233fece-6e59-4e9f-85f4-c5fdddb02c2c",
   "metadata": {},
   "source": [
    "Okay! everything is looking good thus far"
   ]
  },
  {
   "cell_type": "markdown",
   "id": "e7d37f14-4264-43e8-b23b-0b5bdab1db07",
   "metadata": {},
   "source": [
    "- #### Merge tweet messages with extracted titles"
   ]
  },
  {
   "cell_type": "markdown",
   "id": "2cf8a140-c387-4956-866e-1a58ef2a347e",
   "metadata": {},
   "source": [
    "Next, lets merge these titles to our tweet messages"
   ]
  },
  {
   "cell_type": "code",
   "execution_count": 42,
   "id": "b1f71845-e930-45ea-b3fc-4bef900c82eb",
   "metadata": {},
   "outputs": [],
   "source": [
    "def merge_msg(main_df, main_col, title_df, title_col):\n",
    "    rows = []\n",
    "    \n",
    "    for i in range(len(title_df)):\n",
    "        if check_title_similarity(main_df[main_col][i], title_df[title_col][i]) >= 30:\n",
    "            rows.append(main_df[main_col][i])\n",
    "        else:\n",
    "            rows.append(main_df[main_col][i] +' '+ title_df[title_col][i])\n",
    "        \n",
    "    main_df[main_col] = rows\n",
    "    \n",
    "    return main_df"
   ]
  },
  {
   "cell_type": "code",
   "execution_count": 43,
   "id": "1be7eed2-3f62-4b86-b6dd-56ab80bdf2bb",
   "metadata": {},
   "outputs": [],
   "source": [
    "# df = merge_msg(df, 'message', titles, 'title')"
   ]
  },
  {
   "cell_type": "code",
   "execution_count": 44,
   "id": "956b993e-6cfc-46e2-b1e7-c6508feb98b6",
   "metadata": {},
   "outputs": [],
   "source": [
    "# df.head().to_numpy()"
   ]
  },
  {
   "cell_type": "markdown",
   "id": "42140254-5ae8-40c3-8b1f-9849fa38b014",
   "metadata": {},
   "source": [
    "It is evident that there has been a successful merger.\n",
    "\n",
    "Next we remove the links in each message as we have already extracted information from the useful ones"
   ]
  },
  {
   "cell_type": "markdown",
   "id": "7da45c54-e995-4849-a107-d254816f185e",
   "metadata": {},
   "source": [
    "- #### Remove web links from text"
   ]
  },
  {
   "cell_type": "code",
   "execution_count": 45,
   "id": "c0d7f2ed-c889-44d7-b045-b03a17a0a670",
   "metadata": {},
   "outputs": [],
   "source": [
    "def handle_weblinks(text):\n",
    "    import re\n",
    "    pattern_url = r'http[s]?://(?:[A-Za-z]|[0-9]|[$-_@.&+]|[!*\\(\\),]|(?:%[0-9A-Fa-f][0-9A-Fa-f]))+'\n",
    "    match = re.findall(pattern_url, text)\n",
    "    \n",
    "    for sub in match:\n",
    "        text = re.sub(pattern_url, 'weblink', text)\n",
    "    \n",
    "    return text.strip().lower()"
   ]
  },
  {
   "cell_type": "code",
   "execution_count": 46,
   "id": "0e4dbe7a-4b30-4429-a86f-0a5c84d0ceed",
   "metadata": {},
   "outputs": [],
   "source": [
    "df['message'] = df['message'].apply_parallel(handle_weblinks)"
   ]
  },
  {
   "cell_type": "code",
   "execution_count": 47,
   "id": "e2235617-f5f3-46dc-828a-98982e884bf8",
   "metadata": {},
   "outputs": [
    {
     "data": {
      "text/plain": [
       "array([\"polyscimajor epa chief doesn't think carbon dioxide is main cause of global warming and.. wait, what!? weblink via @mashable\",\n",
       "       \"it's not like we lack evidence of anthropogenic global warming\",\n",
       "       'rt @rawstory: researchers say we have three years to act on climate change before its too late weblink weblink',\n",
       "       '#todayinmaker# wired : 2016 was a pivotal year in the war on climate change weblink',\n",
       "       \"rt @soynoviodetodas: it's 2016, and a racist, sexist, climate change denying bigot is leading in the polls. #electionnight\",\n",
       "       \"worth a read whether you do or don't believe in climate change weblink weblink\",\n",
       "       'rt @thenation: mike pence doesnt believe in global warming or that smoking causes lung cancer. weblink',\n",
       "       'rt @makeandmendlife: six big things we can all do today to fight climate change, or how to be a climate activist weblink h',\n",
       "       '@aceofspadeshq my 8yo nephew is inconsolable. he wants to die of old age like me, but will perish in the fiery hellscape of climate change.',\n",
       "       'rt @paigetweedy: no offense but like how do you just not believe in global warming'],\n",
       "      dtype=object)"
      ]
     },
     "execution_count": 47,
     "metadata": {},
     "output_type": "execute_result"
    }
   ],
   "source": [
    "np.array(df['message'])[:10]"
   ]
  },
  {
   "cell_type": "markdown",
   "id": "b56e233b-950f-4bad-bfb5-fb39f868bb12",
   "metadata": {},
   "source": [
    "Okay! that's done. We have successfully finished the first mission. Hurray!"
   ]
  },
  {
   "cell_type": "markdown",
   "id": "09a9c9c3-d87d-4b22-9c33-acc109d38fb5",
   "metadata": {},
   "source": [
    "- [X] Extract titles from Urls and incorporate findings into our data"
   ]
  },
  {
   "cell_type": "markdown",
   "id": "51c7d048-d35f-4efb-91ed-dd254b063c9c",
   "metadata": {},
   "source": [
    "Next up on our mission is to remove stopwords from our texts"
   ]
  },
  {
   "cell_type": "markdown",
   "id": "62f7a9ef-89cb-49d6-a9ad-3c229d3665f5",
   "metadata": {},
   "source": [
    "2. ###  Remove Stopwords"
   ]
  },
  {
   "cell_type": "markdown",
   "id": "27eed4cf-9af5-409c-ae11-cdbc7e31dee3",
   "metadata": {},
   "source": [
    "#### What are Stopwords?"
   ]
  },
  {
   "cell_type": "markdown",
   "id": "4692e805-651e-469e-bc35-f32d71a2aed9",
   "metadata": {},
   "source": [
    "Stopwords are words that are quite common in human language but are often useless since they represent words like \"the,\" \"of,\" and \"to.\""
   ]
  },
  {
   "cell_type": "markdown",
   "id": "745e0b10-44b9-4614-8f13-744b3e185a7e",
   "metadata": {},
   "source": [
    "Apart from the universally known stopwords, there are words that are perculiar to some industries or particular topics and content that may be regarded as stop words. For instance, in our case where we are dealing with tweets, \"RT\" which stands for \"Retweet\" can be considered a stop word, also @Usernames and #topics may be considered as stopwords.\n",
    "\n",
    "Let's remove these bits of texts from the messages in our dataset"
   ]
  },
  {
   "cell_type": "code",
   "execution_count": 48,
   "id": "e0039b31-092a-40e1-ae28-c967a393592a",
   "metadata": {},
   "outputs": [],
   "source": [
    "def remove_stopwords(text):\n",
    "    text = text.lower()\n",
    "    gen_words = list(STOPWORDS)\n",
    "    stop_words = stopwords.words('english')\n",
    "    stop_words = stop_words + ['&amp;', '&amp', 'rt', 'amp']\n",
    "    list_ext = set(list(gen_words)) - set(list(stop_words))\n",
    "    list_ext = list(list_ext)\n",
    "    stop_words.extend(list_ext)\n",
    "    text = \" \".join([word for word in text.split(\" \") if word not in stop_words])\n",
    "    text = \" \".join([word for word in text.split(\"\\n\") if word not in stop_words])\n",
    "    \n",
    "    return text"
   ]
  },
  {
   "cell_type": "code",
   "execution_count": 49,
   "id": "b889dcf4-15a8-40fe-8a21-5d8f4204395d",
   "metadata": {},
   "outputs": [],
   "source": [
    "# df['message'] = df['message'].apply(remove_stopwords)"
   ]
  },
  {
   "cell_type": "code",
   "execution_count": 50,
   "id": "a1794b33-b98c-4200-a50c-45771c5bba42",
   "metadata": {},
   "outputs": [],
   "source": [
    "# df.head()"
   ]
  },
  {
   "cell_type": "markdown",
   "id": "3b3bfd27-3355-4c82-bcca-ca6ac3664c39",
   "metadata": {},
   "source": [
    "- [X] Remove stopwords"
   ]
  },
  {
   "cell_type": "markdown",
   "id": "9c570e62-2813-4978-9bd3-fa8c274f2b1c",
   "metadata": {},
   "source": [
    "3. ###  Remove tagged usernames and hashtags"
   ]
  },
  {
   "cell_type": "code",
   "execution_count": 51,
   "id": "c21ee039-a93a-4168-a5e1-c12b52589cac",
   "metadata": {},
   "outputs": [],
   "source": [
    "def remove_tags(text):\n",
    "    pattern_hash = r'[@](?:[A-Za-z]|[0-9]|[$-_@.&+#])+'\n",
    "    match = re.findall(pattern_hash, text)\n",
    "    \n",
    "    for sub in match:\n",
    "        text = re.sub(pattern_hash, '', text)\n",
    "\n",
    "    return text.strip()"
   ]
  },
  {
   "cell_type": "code",
   "execution_count": 52,
   "id": "29b9a3a8-80f9-4ce6-b74d-6e8cd1b3c725",
   "metadata": {},
   "outputs": [],
   "source": [
    "# df['message'] = df['message'].apply(remove_tags)"
   ]
  },
  {
   "cell_type": "code",
   "execution_count": 53,
   "id": "351396ec-11cc-4718-b14e-15fc0b04a8f0",
   "metadata": {},
   "outputs": [],
   "source": [
    "# df.head()"
   ]
  },
  {
   "cell_type": "markdown",
   "id": "619959ee-b2ec-419d-ba35-270e353cf9bb",
   "metadata": {},
   "source": [
    "Next, we will be getting rid of punctuations from out dataset."
   ]
  },
  {
   "cell_type": "markdown",
   "id": "1adc225c-5f2d-471c-91db-84d336a03d86",
   "metadata": {},
   "source": [
    "- [X] Remove usernames and hashtags"
   ]
  },
  {
   "cell_type": "markdown",
   "id": "aa77a0d6-ad6c-4a45-931c-ccef96d971fc",
   "metadata": {},
   "source": [
    "4. ### Remove Punctuations"
   ]
  },
  {
   "cell_type": "markdown",
   "id": "9e3d1a77-eaa7-47f2-8480-4440f5daac4d",
   "metadata": {},
   "source": [
    "Here we will be making use of the `remove_punctuations` function"
   ]
  },
  {
   "cell_type": "code",
   "execution_count": 54,
   "id": "df91652d-aadb-46b4-b787-787081dae60f",
   "metadata": {},
   "outputs": [],
   "source": [
    "df['message'] = df['message'].apply(remove_punctuations)"
   ]
  },
  {
   "cell_type": "code",
   "execution_count": 55,
   "id": "afb0740c-699e-439f-a243-241eaef2d29a",
   "metadata": {},
   "outputs": [
    {
     "data": {
      "text/html": [
       "<div>\n",
       "<style scoped>\n",
       "    .dataframe tbody tr th:only-of-type {\n",
       "        vertical-align: middle;\n",
       "    }\n",
       "\n",
       "    .dataframe tbody tr th {\n",
       "        vertical-align: top;\n",
       "    }\n",
       "\n",
       "    .dataframe thead th {\n",
       "        text-align: right;\n",
       "    }\n",
       "</style>\n",
       "<table border=\"1\" class=\"dataframe\">\n",
       "  <thead>\n",
       "    <tr style=\"text-align: right;\">\n",
       "      <th></th>\n",
       "      <th>sentiment</th>\n",
       "      <th>message</th>\n",
       "      <th>tweetid</th>\n",
       "    </tr>\n",
       "  </thead>\n",
       "  <tbody>\n",
       "    <tr>\n",
       "      <th>0</th>\n",
       "      <td>1</td>\n",
       "      <td>polyscimajor epa chief doesnt think carbon dio...</td>\n",
       "      <td>625221</td>\n",
       "    </tr>\n",
       "    <tr>\n",
       "      <th>1</th>\n",
       "      <td>1</td>\n",
       "      <td>its not like we lack evidence of anthropogenic...</td>\n",
       "      <td>126103</td>\n",
       "    </tr>\n",
       "    <tr>\n",
       "      <th>2</th>\n",
       "      <td>2</td>\n",
       "      <td>rt rawstory researchers say we have three year...</td>\n",
       "      <td>698562</td>\n",
       "    </tr>\n",
       "    <tr>\n",
       "      <th>3</th>\n",
       "      <td>1</td>\n",
       "      <td>todayinmaker wired  2016 was a pivotal year in...</td>\n",
       "      <td>573736</td>\n",
       "    </tr>\n",
       "    <tr>\n",
       "      <th>4</th>\n",
       "      <td>1</td>\n",
       "      <td>rt soynoviodetodas its 2016 and a racist sexis...</td>\n",
       "      <td>466954</td>\n",
       "    </tr>\n",
       "  </tbody>\n",
       "</table>\n",
       "</div>"
      ],
      "text/plain": [
       "   sentiment                                            message  tweetid\n",
       "0          1  polyscimajor epa chief doesnt think carbon dio...   625221\n",
       "1          1  its not like we lack evidence of anthropogenic...   126103\n",
       "2          2  rt rawstory researchers say we have three year...   698562\n",
       "3          1  todayinmaker wired  2016 was a pivotal year in...   573736\n",
       "4          1  rt soynoviodetodas its 2016 and a racist sexis...   466954"
      ]
     },
     "execution_count": 55,
     "metadata": {},
     "output_type": "execute_result"
    }
   ],
   "source": [
    "df.head()"
   ]
  },
  {
   "cell_type": "markdown",
   "id": "d6a826ee-33cb-4ba8-88e8-f2067143dc34",
   "metadata": {},
   "source": [
    "- [X] Remove punctuations"
   ]
  },
  {
   "cell_type": "markdown",
   "id": "b0da20da-1304-41b4-ac4d-ff41256b7d0a",
   "metadata": {},
   "source": [
    "#### Mission Check Point\n",
    "\n",
    "- [X] Extract titles from Urls and incorporate findings into our data\n",
    "\n",
    "- [X] Remove Stopwords\n",
    "\n",
    "- [X] Remove hashtags and @usernames\n",
    "\n",
    "- [X] Remove Punctuations\n",
    "\n",
    "- [ ] Tokenize text data\n",
    "\n",
    "- [ ] Transform data(by stemming or lemmatizing)\n",
    "\n",
    "- [ ] Vectorize data without resampling(by bag of words, countvectorizer or tfidfvectorizer)\n",
    "\n",
    "- [ ] Vectorize data with resampling(by bag of words, countvectorizer or tfidfvectorizer)"
   ]
  },
  {
   "cell_type": "markdown",
   "id": "a85ccf6f-2d3e-48e5-b512-b31aa1c56dab",
   "metadata": {},
   "source": [
    "Next item on our mission list is to tokenize text data"
   ]
  },
  {
   "cell_type": "markdown",
   "id": "4ddd4018-b125-4aa7-a62e-baf899b2f7f9",
   "metadata": {},
   "source": [
    "#### A quick detour\n",
    "\n",
    "Let's now see which words occur more for each sentiment type, now that our data is clean"
   ]
  },
  {
   "cell_type": "code",
   "execution_count": 56,
   "id": "134cef40-d233-4ab8-a0a1-7c4aeda0fd4e",
   "metadata": {},
   "outputs": [],
   "source": [
    "positives2 = df['message'][df['sentiment'] == 1]\n",
    "negatives2 = df['message'][df['sentiment'] == -1]\n",
    "neutrals2 = df['message'][df['sentiment'] == 0]\n",
    "factuals2 = df['message'][df['sentiment'] == 2]"
   ]
  },
  {
   "cell_type": "code",
   "execution_count": 57,
   "id": "35bccd5f-169c-4e43-84bc-40d71d6d8895",
   "metadata": {},
   "outputs": [
    {
     "name": "stdout",
     "output_type": "stream",
     "text": [
      "{'climate': 7346, 'change': 7056, 'global': 1595, '': 1454, 'warming': 1429, 'believe': 1004, 'trump': 883, 'going': 590, 'real': 497, 'people': 454, 'world': 446, 'us': 444, 'die': 394, 'thinking': 338, 'hoax': 316, 'husband': 312, 'like': 310, 'stephenschlegel': 307, 'httpstcosjofon': 307, 'fight': 284}\n"
     ]
    }
   ],
   "source": [
    "pos2 = words_freq(positives2, 20)\n",
    "print(pos)"
   ]
  },
  {
   "cell_type": "code",
   "execution_count": 58,
   "id": "52ce8e0f-de1d-44ee-85c9-b453626f12a6",
   "metadata": {},
   "outputs": [
    {
     "name": "stdout",
     "output_type": "stream",
     "text": [
      "{'climate': 795, 'change': 735, 'global': 635, 'warming': 604, '': 218, 'science': 77, 'realdonaldtrump': 69, 'us': 63, 'real': 59, 'people': 57, 'trump': 57, 'man': 53, 'scam': 51, 'would': 50, 'hoax': 50, 'made': 48, 'data': 48, 'fake': 47, 'manmade': 46, 'believe': 46}\n"
     ]
    }
   ],
   "source": [
    "neg2 = words_freq(negatives2, 20)\n",
    "print(neg)"
   ]
  },
  {
   "cell_type": "code",
   "execution_count": 59,
   "id": "f79a3a7c-c4e0-4674-b2c4-095b9a26b5df",
   "metadata": {},
   "outputs": [
    {
     "name": "stdout",
     "output_type": "stream",
     "text": [
      "{'climate': 1435, 'change': 1370, 'global': 1036, 'warming': 966, '': 446, 'trump': 147, 'us': 100, 'like': 96, 'real': 94, 'believe': 87, 'im': 86, 'penguin': 84, 'think': 82, 'hes': 78, 'people': 65, 'cause': 56, 'know': 52, 'one': 49, 'says': 45, 'get': 45}\n"
     ]
    }
   ],
   "source": [
    "neu2 = words_freq(neutrals2, 20)\n",
    "print(neu)"
   ]
  },
  {
   "cell_type": "code",
   "execution_count": 60,
   "id": "450e33a9-ec62-4f56-afda-b36fee00d7ad",
   "metadata": {},
   "outputs": [
    {
     "name": "stdout",
     "output_type": "stream",
     "text": [
      "{'climate': 3348, 'change': 3201, '': 837, 'trump': 825, 'global': 507, 'warming': 435, 'via': 299, 'us': 292, 'says': 241, 'trumps': 239, 'epa': 237, 'new': 191, 'scientists': 178, 'donald': 166, 'fight': 159, 'china': 142, 'could': 133, 'news': 125, 'world': 114, 'scott': 112}\n"
     ]
    }
   ],
   "source": [
    "fact2 = words_freq(factuals2, 20)\n",
    "print(fact)"
   ]
  },
  {
   "cell_type": "markdown",
   "id": "ec55fe8e-4ab9-43b7-9892-195ff03d6257",
   "metadata": {},
   "source": [
    "- **Words that make a comment factual**"
   ]
  },
  {
   "cell_type": "code",
   "execution_count": 61,
   "id": "b5bb7828-d378-4d52-ab7a-e98e9cedeba7",
   "metadata": {},
   "outputs": [
    {
     "name": "stdout",
     "output_type": "stream",
     "text": [
      "['epa', 'scientists', 'via', 'new', 'news', 'scott', 'china', 'trumps', 'donald', 'could']\n"
     ]
    }
   ],
   "source": [
    "print(list(set(fact.keys()) - set(list(neg.keys()) + list(pos.keys()) + list(neu.keys()))))"
   ]
  },
  {
   "cell_type": "markdown",
   "id": "1513bba3-830b-4f92-9d17-0fd698ec6469",
   "metadata": {},
   "source": [
    "Looks like we still have a majority of unique words as before. This is a good sign."
   ]
  },
  {
   "cell_type": "markdown",
   "id": "fc06f2a0-cacd-46b1-a00c-83c9f8ff6171",
   "metadata": {},
   "source": [
    "5. ### Tokenize Text Data"
   ]
  },
  {
   "cell_type": "markdown",
   "id": "3eba0b31-b72a-492e-bf6e-8645f4b4db42",
   "metadata": {},
   "source": [
    "Tokenization is the most primary step in any natural language processing model because machines cannot comprehend the language as it is, it must be transformed to numbers, which is where tokenization comes in handy. Tokenization is the process of breaking down sentences into words.\n",
    "\n",
    "This appears straightforward, but there are a few drawbacks, mostly because we want to map each token to a number, and the size and meaning of the resulting mapping is vital for Machine Learning tasks."
   ]
  },
  {
   "cell_type": "markdown",
   "id": "7e4722ad-a808-4d81-b790-b5b37fed232a",
   "metadata": {},
   "source": [
    "There are a few tokenizers available, but for this program, we will be making use of the `TreebankWordTokenizer()`"
   ]
  },
  {
   "cell_type": "code",
   "execution_count": 62,
   "id": "bccaea9e-54a8-4cab-aff2-5c3db5f00c69",
   "metadata": {},
   "outputs": [],
   "source": [
    "def tokenize(text):\n",
    "    tokenizer = TreebankWordTokenizer()\n",
    "    \n",
    "    return tokenizer.tokenize(text)"
   ]
  },
  {
   "cell_type": "code",
   "execution_count": 63,
   "id": "800df2c0-da78-418f-830a-f20a7f7e98b2",
   "metadata": {},
   "outputs": [],
   "source": [
    "df['message'] = df['message'].apply(tokenize)"
   ]
  },
  {
   "cell_type": "code",
   "execution_count": 64,
   "id": "76a3be61-4a6d-472e-9c79-239cc40991f8",
   "metadata": {},
   "outputs": [
    {
     "data": {
      "text/html": [
       "<div>\n",
       "<style scoped>\n",
       "    .dataframe tbody tr th:only-of-type {\n",
       "        vertical-align: middle;\n",
       "    }\n",
       "\n",
       "    .dataframe tbody tr th {\n",
       "        vertical-align: top;\n",
       "    }\n",
       "\n",
       "    .dataframe thead th {\n",
       "        text-align: right;\n",
       "    }\n",
       "</style>\n",
       "<table border=\"1\" class=\"dataframe\">\n",
       "  <thead>\n",
       "    <tr style=\"text-align: right;\">\n",
       "      <th></th>\n",
       "      <th>sentiment</th>\n",
       "      <th>message</th>\n",
       "      <th>tweetid</th>\n",
       "    </tr>\n",
       "  </thead>\n",
       "  <tbody>\n",
       "    <tr>\n",
       "      <th>0</th>\n",
       "      <td>1</td>\n",
       "      <td>[polyscimajor, epa, chief, doesnt, think, carb...</td>\n",
       "      <td>625221</td>\n",
       "    </tr>\n",
       "    <tr>\n",
       "      <th>1</th>\n",
       "      <td>1</td>\n",
       "      <td>[its, not, like, we, lack, evidence, of, anthr...</td>\n",
       "      <td>126103</td>\n",
       "    </tr>\n",
       "    <tr>\n",
       "      <th>2</th>\n",
       "      <td>2</td>\n",
       "      <td>[rt, rawstory, researchers, say, we, have, thr...</td>\n",
       "      <td>698562</td>\n",
       "    </tr>\n",
       "    <tr>\n",
       "      <th>3</th>\n",
       "      <td>1</td>\n",
       "      <td>[todayinmaker, wired, 2016, was, a, pivotal, y...</td>\n",
       "      <td>573736</td>\n",
       "    </tr>\n",
       "    <tr>\n",
       "      <th>4</th>\n",
       "      <td>1</td>\n",
       "      <td>[rt, soynoviodetodas, its, 2016, and, a, racis...</td>\n",
       "      <td>466954</td>\n",
       "    </tr>\n",
       "  </tbody>\n",
       "</table>\n",
       "</div>"
      ],
      "text/plain": [
       "   sentiment                                            message  tweetid\n",
       "0          1  [polyscimajor, epa, chief, doesnt, think, carb...   625221\n",
       "1          1  [its, not, like, we, lack, evidence, of, anthr...   126103\n",
       "2          2  [rt, rawstory, researchers, say, we, have, thr...   698562\n",
       "3          1  [todayinmaker, wired, 2016, was, a, pivotal, y...   573736\n",
       "4          1  [rt, soynoviodetodas, its, 2016, and, a, racis...   466954"
      ]
     },
     "execution_count": 64,
     "metadata": {},
     "output_type": "execute_result"
    }
   ],
   "source": [
    "df.head()"
   ]
  },
  {
   "cell_type": "markdown",
   "id": "f5e0e6fb-f6ee-48e8-8813-558969e8b572",
   "metadata": {},
   "source": [
    "- [X] Token Text Data"
   ]
  },
  {
   "cell_type": "markdown",
   "id": "c91ce8df-bc7e-4e96-a3db-e0d316680570",
   "metadata": {},
   "source": [
    "6. ### Transform data(by stemming or lemmatizing)"
   ]
  },
  {
   "cell_type": "markdown",
   "id": "a3a22b87-b384-47f0-9c4e-25f4abe98e94",
   "metadata": {},
   "source": [
    "**Stemming** is the process of stripping a word of its suffix and reducing it to its underlying term.\n",
    "\n",
    "For example: “Flying” is a word and its suffix is “ing”, if we remove “ing” from “Flying” then we will get base word or root word which is “Fly”. Read more about stemming [here](https://medium.com/@tusharsri/nlp-a-quick-guide-to-stemming-60f1ca5db49e#:~:text=NLP%3A%20A%20quick%20guide%20to%20Stemming%201%20OverStemming.,...%205%20Lancaster%20Stemmmer.%20...%206%20Conclusion.%20)"
   ]
  },
  {
   "cell_type": "markdown",
   "id": "aa3ecc44-07c5-4ffc-a013-f8a5149ad2dd",
   "metadata": {},
   "source": [
    "**Lemmatization** is not very different from **stemming** in that we are trying to reduce a given term to its root word in both stemming and lemmatization. In Natural Language Processing (NLP) and machine learning in general, lemmatization is one of the most used text pre-processing techniques. In the stemming process, the root word is termed a stem, and in the lemmatization process, it is called a lemma."
   ]
  },
  {
   "cell_type": "markdown",
   "id": "6680cf9f-1228-41b9-b884-0ab7d0bc49ca",
   "metadata": {},
   "source": [
    "#### How do they differ?"
   ]
  },
  {
   "cell_type": "markdown",
   "id": "488e9da3-fa63-441e-9214-f86b028a461e",
   "metadata": {},
   "source": [
    "In stemming, a portion of the word is simply sliced off at the end. Different methods are employed to determine how many letters must be removed, however the algorithms do not understand the meaning of the word in the language it belongs to. The algorithms in lemmatization, on the other hand, have this knowledge. In fact, you could argue that these algorithms consult a dictionary to figure out what a word means before reducing it to its root word, or lemma.\n",
    "As a result, a lemmatization algorithm would recognize that **better** is derived from good, and hence the lemme is **good**.\n",
    "\n",
    "A stemming algorithm, on the other hand, would be unable to do so. Over-stemming or under-stemming may occur, and the term **better** may be shortened to **bet** or **bett**, or simply **preserved as better**. However, there is no way to reduce it to its underlying word excellent by stemming. This is the main distinction between stemming and lemmatization."
   ]
  },
  {
   "cell_type": "code",
   "execution_count": 65,
   "id": "35b4f32d-7fa6-4118-ae17-6d5a98d54101",
   "metadata": {},
   "outputs": [],
   "source": [
    "def transform(text_list, method='lemma'):\n",
    "    lemmatizer = WordNetLemmatizer()\n",
    "    stemmer = PorterStemmer()\n",
    "    words = []\n",
    "    if method == 'lemma':\n",
    "        for word, tag in pos_tag(text_list):\n",
    "            word_tag = tag[0].lower()\n",
    "            word_tag = word_tag if word_tag in ['a', 'r', 'n', 'v'] else None\n",
    "            if not word_tag:\n",
    "                lemma = word\n",
    "            else:\n",
    "                lemma = lemmatizer.lemmatize(word, word_tag)\n",
    "            \n",
    "            words.append(lemma)\n",
    "\n",
    "    elif method == 'stem':\n",
    "        for word in text_list:\n",
    "            stem = stemmer.stem(word)\n",
    "            words.append(stem)\n",
    "            \n",
    "    else:\n",
    "        return(f\"ERROR: '{method}' is an unknown transformation method use 'stem' or 'lemma'\")\n",
    "\n",
    "    return words"
   ]
  },
  {
   "cell_type": "code",
   "execution_count": 66,
   "id": "c264631b-ae51-4fa2-8890-3202d7bda714",
   "metadata": {},
   "outputs": [],
   "source": [
    "df_copy = df.copy()"
   ]
  },
  {
   "cell_type": "code",
   "execution_count": 67,
   "id": "34c53e54-abe7-4021-85f2-9f0f6ca4bd87",
   "metadata": {},
   "outputs": [],
   "source": [
    "df_copy['message'] = df_copy['message'].apply(transform)"
   ]
  },
  {
   "cell_type": "code",
   "execution_count": 68,
   "id": "bb13eabe-735f-4ec7-a9ad-bc32bca0354b",
   "metadata": {},
   "outputs": [],
   "source": [
    "df_copy['message'] = df_copy['message'].apply(transform, method='stem')"
   ]
  },
  {
   "cell_type": "code",
   "execution_count": 69,
   "id": "362b2f46-b012-438b-8eb1-d02edfa1faf9",
   "metadata": {},
   "outputs": [
    {
     "data": {
      "text/plain": [
       "array([[1,\n",
       "        list(['polyscimajor', 'epa', 'chief', 'doesnt', 'think', 'carbon', 'dioxid', 'be', 'main', 'caus', 'of', 'global', 'warm', 'and', 'wait', 'what', 'weblink', 'via', 'mashabl']),\n",
       "        625221],\n",
       "       [1,\n",
       "        list(['it', 'not', 'like', 'we', 'lack', 'evid', 'of', 'anthropogen', 'global', 'warm']),\n",
       "        126103],\n",
       "       [2,\n",
       "        list(['rt', 'rawstori', 'research', 'say', 'we', 'have', 'three', 'year', 'to', 'act', 'on', 'climat', 'chang', 'befor', 'it', 'too', 'late', 'weblink', 'weblink']),\n",
       "        698562],\n",
       "       [1,\n",
       "        list(['todayinmak', 'wire', '2016', 'be', 'a', 'pivot', 'year', 'in', 'the', 'war', 'on', 'climat', 'chang', 'weblink']),\n",
       "        573736],\n",
       "       [1,\n",
       "        list(['rt', 'soynoviodetoda', 'it', '2016', 'and', 'a', 'racist', 'sexist', 'climat', 'chang', 'deni', 'bigot', 'be', 'lead', 'in', 'the', 'poll', 'electionnight']),\n",
       "        466954]], dtype=object)"
      ]
     },
     "execution_count": 69,
     "metadata": {},
     "output_type": "execute_result"
    }
   ],
   "source": [
    "np.array(df_copy.head())"
   ]
  },
  {
   "cell_type": "code",
   "execution_count": 70,
   "id": "c31ee93a-f4d4-48a4-ad35-1ebde31f196c",
   "metadata": {},
   "outputs": [
    {
     "data": {
      "text/plain": [
       "array([[1,\n",
       "        list(['polyscimajor', 'epa', 'chief', 'doesnt', 'think', 'carbon', 'dioxide', 'is', 'main', 'cause', 'of', 'global', 'warming', 'and', 'wait', 'what', 'weblink', 'via', 'mashable']),\n",
       "        625221],\n",
       "       [1,\n",
       "        list(['its', 'not', 'like', 'we', 'lack', 'evidence', 'of', 'anthropogenic', 'global', 'warming']),\n",
       "        126103],\n",
       "       [2,\n",
       "        list(['rt', 'rawstory', 'researchers', 'say', 'we', 'have', 'three', 'years', 'to', 'act', 'on', 'climate', 'change', 'before', 'its', 'too', 'late', 'weblink', 'weblink']),\n",
       "        698562],\n",
       "       [1,\n",
       "        list(['todayinmaker', 'wired', '2016', 'was', 'a', 'pivotal', 'year', 'in', 'the', 'war', 'on', 'climate', 'change', 'weblink']),\n",
       "        573736],\n",
       "       [1,\n",
       "        list(['rt', 'soynoviodetodas', 'its', '2016', 'and', 'a', 'racist', 'sexist', 'climate', 'change', 'denying', 'bigot', 'is', 'leading', 'in', 'the', 'polls', 'electionnight']),\n",
       "        466954]], dtype=object)"
      ]
     },
     "execution_count": 70,
     "metadata": {},
     "output_type": "execute_result"
    }
   ],
   "source": [
    "np.array(df.head())"
   ]
  },
  {
   "cell_type": "markdown",
   "id": "ccd46513-eac6-4855-be7e-2e5f28f725db",
   "metadata": {},
   "source": [
    "- [X] Transform data(by stemming or lemmatizing)"
   ]
  },
  {
   "cell_type": "markdown",
   "id": "248ab200-4413-4dab-9ca8-007398c71532",
   "metadata": {},
   "source": [
    "We will be taking a look into vectorization and what it does"
   ]
  },
  {
   "cell_type": "markdown",
   "id": "40748d09-7976-4db2-8177-3acdc90eb330",
   "metadata": {},
   "source": [
    "### Vectorization"
   ]
  },
  {
   "cell_type": "markdown",
   "id": "45587f0c-7155-4dbd-b741-f71a5835edbf",
   "metadata": {},
   "source": [
    "Vectorization is a technical term for a classical approach of turning raw data (text) into vectors of real numbers, which is the format supported by machine learning models. This method has been around since the dawn of computing, has proven to be effective in a variety of fields, and is currently being employed in NLP.\n",
    "\n",
    "Vectorization is a phase in feature extraction in Machine Learning. By translating text to numerical vectors, the goal is to extract some identifiable features from the text for the model to learn from."
   ]
  },
  {
   "cell_type": "markdown",
   "id": "19539fa1-68cf-4a51-8ba3-709ef9d6eb1f",
   "metadata": {},
   "source": [
    "There are a few vectorization techniques but we will on 2;\n",
    "\n",
    "1. Bag-of-words; which does practically the same thing as CountVectorizer. We will be looking at both still.\n",
    "2. TF-IDF Vectorization"
   ]
  },
  {
   "cell_type": "markdown",
   "id": "a7aee223-6f1a-417c-ba67-8d5a8a2d4903",
   "metadata": {},
   "source": [
    "#### Bag-of-words"
   ]
  },
  {
   "cell_type": "markdown",
   "id": "74aeca24-418d-4d00-b321-007e1644a4da",
   "metadata": {},
   "source": [
    "Bag of words is a Natural Language Processing technique of text modelling. In technical terms, we can call it a method for extracting features from text data. This method of extracting features from documents is easy and adaptable.\n",
    "A bag of words is a text representation that describes the frequency with which words appear in a document. We only keep track of word counts and don't pay attention to grammatical subtleties or word arrangement. Because any information about the sequence or structure of words in the document is deleted, it is referred to as a \"bag\" of words. The model simply cares about whether or not recognized terms appear in the document, not where they appear. [read more](https://www.mygreatlearning.com/blog/bag-of-words/)"
   ]
  },
  {
   "cell_type": "markdown",
   "id": "0e2b1e5c-efab-4f8e-9f74-f5fd5756ee15",
   "metadata": {},
   "source": [
    "#### TF-IDF"
   ]
  },
  {
   "cell_type": "markdown",
   "id": "096298bc-b3dd-4c92-8b46-be37efd7ddda",
   "metadata": {},
   "source": [
    "Term Frequency–Inverse Document Frequency, or TF-IDF, is a numerical statistic that measures how essential a word is in a document. It's not as naive as Bag of Words, but it's another frequency-based strategy."
   ]
  },
  {
   "cell_type": "code",
   "execution_count": 71,
   "id": "e32ae83e-367e-4042-8f06-eff7b80d25c6",
   "metadata": {},
   "outputs": [],
   "source": [
    "def vectorize(data, features, label='sentiment', vectorizer=\"bow\", n_features=200, n_grams=(1, 1)):\n",
    "    \n",
    "    words_count = {}\n",
    "    bow = []\n",
    "    \n",
    "    for row in data[features]:\n",
    "        for word in row:\n",
    "            if word in words_count:\n",
    "                words_count[word] += 1\n",
    "            else:\n",
    "                words_count[word] = 1\n",
    "    \n",
    "    # sort words_count dict\n",
    "    words_count = {k: v for k, v in sorted(words_count.items(), key=lambda kv: kv[1], reverse=True)}\n",
    "    \n",
    "    # get the no of features needed\n",
    "    n_largest = dict(list(words_count.items())[:n_features])\n",
    "    \n",
    "    # vectorize \n",
    "    for row in data[features]:\n",
    "        vector = []\n",
    "        for word in n_largest.keys():\n",
    "            if word in row:\n",
    "                vector.append(1)\n",
    "            else:\n",
    "                vector.append(0)\n",
    "        bow.append(vector)\n",
    "        \n",
    "    # # convert features to category\n",
    "    # data[features] = data[features].astype('category')\n",
    "    \n",
    "    # options\n",
    "    if vectorizer == 'tfidf':\n",
    "        vector = TfidfVectorizer(lowercase=True, max_features=n_features,analyzer='word', ngram_range=n_grams)\n",
    "        vectored = vector.fit_transform([' '.join(x) for x in data[features]])\n",
    "        vectored = vectored.toarray()\n",
    "    elif vectorizer == 'cv':\n",
    "        vector = CountVectorizer(lowercase=True, max_features=n_features,analyzer='word', ngram_range=n_grams)\n",
    "        vectored = vector.fit_transform([' '.join(x) for x in data[features]])\n",
    "        vectored = vectored.toarray()\n",
    "    else:\n",
    "        vectored = np.asarray(bow)\n",
    "        \n",
    "    print(f\"using {vectorizer}\")\n",
    "    \n",
    "    X = vectored\n",
    "    if label:\n",
    "        y = data[label]\n",
    "        return X, y\n",
    "    \n",
    "    else:\n",
    "        return X\n",
    "    \n",
    "    "
   ]
  },
  {
   "cell_type": "markdown",
   "id": "85aae756-657b-4eda-ac88-b61cec128ac4",
   "metadata": {},
   "source": [
    "## Vectorization without resampling"
   ]
  },
  {
   "cell_type": "markdown",
   "id": "48fcdd5c-498f-4a6e-9246-bb331ce56c9b",
   "metadata": {},
   "source": [
    "**Recall:** that presently our data is still in its **imbalanced** form, meaning all the sentiment types are not equally represented.\n",
    "\n",
    "Now we will like to Vectorize out dataset in its imbalanced form, then in its balanced form.\n",
    "\n",
    "In the mean time, let's refresh our memory on what our imbalanced data looks like"
   ]
  },
  {
   "cell_type": "code",
   "execution_count": 72,
   "id": "00f7419b-5303-4208-8678-673e8afd67da",
   "metadata": {},
   "outputs": [
    {
     "data": {
      "image/png": "[encoded data removed]",
      "text/plain": [
       "<Figure size 864x648 with 1 Axes>"
      ]
     },
     "metadata": {},
     "output_type": "display_data"
    }
   ],
   "source": [
    "plot_series(df_copy.sentiment.value_counts(), name='sentiment')"
   ]
  },
  {
   "cell_type": "markdown",
   "id": "5c5c3e00-7a7e-4a06-a3d9-c65f630c8579",
   "metadata": {},
   "source": [
    "Let's go ahead and Vectorize"
   ]
  },
  {
   "cell_type": "markdown",
   "id": "2c669b31-32cb-4272-b3d7-51b877d8566f",
   "metadata": {},
   "source": [
    "1. #### Vectorization with **Bag-of-words**"
   ]
  },
  {
   "cell_type": "code",
   "execution_count": 73,
   "id": "30feb724-1d46-445a-81d2-d2dd9aa83e9d",
   "metadata": {},
   "outputs": [
    {
     "name": "stdout",
     "output_type": "stream",
     "text": [
      "using bow\n"
     ]
    }
   ],
   "source": [
    "X_bow, y_bow = vectorize(df_copy, 'message')"
   ]
  },
  {
   "cell_type": "code",
   "execution_count": 74,
   "id": "211e5b7d-3d53-4948-8c8b-5515f9e41bb2",
   "metadata": {},
   "outputs": [
    {
     "name": "stdout",
     "output_type": "stream",
     "text": [
      "(15819, 200)\n"
     ]
    }
   ],
   "source": [
    "print(X_bow.shape)"
   ]
  },
  {
   "cell_type": "markdown",
   "id": "09d21848-1b78-4aa5-8214-8d7d82c149ef",
   "metadata": {},
   "source": [
    "2. #### Vectorization with **CountVectorizer** package"
   ]
  },
  {
   "cell_type": "code",
   "execution_count": 75,
   "id": "3587c645-de85-4750-9ed7-d990bee9a4cf",
   "metadata": {},
   "outputs": [
    {
     "name": "stdout",
     "output_type": "stream",
     "text": [
      "using cv\n"
     ]
    }
   ],
   "source": [
    "X_cv, y_cv = vectorize(df_copy, 'message', vectorizer='cv')"
   ]
  },
  {
   "cell_type": "code",
   "execution_count": 76,
   "id": "3e876e78-c251-4f66-971c-a3ce126a9e5f",
   "metadata": {},
   "outputs": [
    {
     "name": "stdout",
     "output_type": "stream",
     "text": [
      "(15819, 200)\n"
     ]
    }
   ],
   "source": [
    "print(X_cv.shape)"
   ]
  },
  {
   "cell_type": "markdown",
   "id": "96111e01-0acb-4ff7-a2ad-a8997d18323a",
   "metadata": {},
   "source": [
    "3. #### Vectorization with **TFIDFVectorizer** package"
   ]
  },
  {
   "cell_type": "code",
   "execution_count": 77,
   "id": "44543305-c787-446d-9ffd-eff9d47e64c5",
   "metadata": {},
   "outputs": [
    {
     "name": "stdout",
     "output_type": "stream",
     "text": [
      "using tfidf\n"
     ]
    }
   ],
   "source": [
    "X_tf, y_tf = vectorize(df_copy, 'message', vectorizer='tfidf')"
   ]
  },
  {
   "cell_type": "code",
   "execution_count": 78,
   "id": "6004e440-a038-4b3f-a85c-8fcc9aed76e7",
   "metadata": {},
   "outputs": [
    {
     "name": "stdout",
     "output_type": "stream",
     "text": [
      "(15819, 200)\n"
     ]
    }
   ],
   "source": [
    "print(X_tf.shape)"
   ]
  },
  {
   "cell_type": "markdown",
   "id": "43f2fe4f-f9a5-41ec-a22a-84126011a3d5",
   "metadata": {},
   "source": [
    "#### What is an imbalanced data?"
   ]
  },
  {
   "cell_type": "markdown",
   "id": "3edb65cc-47ff-4def-96b7-e97423d52f2b",
   "metadata": {},
   "source": [
    "Imbalanced data refers to datasets in which the target class has an unequal distribution of observations, i.e. one class label has a large number of observations while the other has a small sample.\n",
    "\n",
    "Because most machine learning algorithms for classification were created with the assumption of an equal number of samples for each class, imbalanced classifications provide a difficulty for predictive modeling. As a result, models with poor prediction accuracy, particularly for the minority class, emerge.\n",
    "\n",
    "To deal with this problem, we use a concept called `resampling`"
   ]
  },
  {
   "cell_type": "markdown",
   "id": "62785f00-edf1-47b2-84be-d7f41433faf2",
   "metadata": {},
   "source": [
    "## Vectorization with sampling"
   ]
  },
  {
   "cell_type": "markdown",
   "id": "1aaa6812-7a81-46dd-b9a0-0d471f9c3a82",
   "metadata": {},
   "source": [
    "#### What is  data resampling?"
   ]
  },
  {
   "cell_type": "markdown",
   "id": "43c2db19-4bc9-46fe-9acc-6470d952eff2",
   "metadata": {},
   "source": [
    "Resampling is a technique that involves taking multiple samples from the same set of data. It's a nonparametric approach of statistical inference, which means that it doesn't rely on generic distribution tables (such as normal distribution tables) to calculate estimated p probability values. Despite the benefits of balancing classes, these methods are not without flaws."
   ]
  },
  {
   "cell_type": "markdown",
   "id": "b0863b99-ff91-40ef-a978-c512a5743059",
   "metadata": {},
   "source": [
    "There are three types of resampling widely used:\n",
    " - **Under-sampling:**\n",
    "     involves picking samples from the majority class at random and removing them from the training dataset. The majority class instances are removed at random until a more balanced distribution is attained in the random under-sampling method.\n",
    " - **Over-sampling:**\n",
    "     requires replicating minority class instances at random and adding them to the training dataset.\n",
    " - **Hybrid:**\n",
    "     this essentially combines both under-sampling and over-sampling to meet at a mid-way point"
   ]
  },
  {
   "cell_type": "markdown",
   "id": "70cd09b4-d6e6-4a93-8fed-0a250007040e",
   "metadata": {},
   "source": [
    "<img src=\"https://static-01.hindawi.com/articles/complexity/volume-2019/8460934/figures/8460934.fig.001.svgz\" alt=\"drawing\" width=\"800\"/>"
   ]
  },
  {
   "cell_type": "markdown",
   "id": "3462a5bb-ba0d-4c05-8b91-225d00755189",
   "metadata": {},
   "source": [
    "We will create a handy function that will enable us carry out the different sampling techniques as we see fit"
   ]
  },
  {
   "cell_type": "code",
   "execution_count": 79,
   "id": "0471cd1a-685d-4015-8144-d29beca040c0",
   "metadata": {
    "tags": []
   },
   "outputs": [],
   "source": [
    "def resampler(data, y, kind='hybrid'):\n",
    "    from sklearn.utils import resample\n",
    "    from imblearn.over_sampling import SMOTE\n",
    "    from imblearn.combine import SMOTETomek\n",
    "    from imblearn.combine import SMOTEENN\n",
    "    \n",
    "    # separate the values\n",
    "    y_values = {}\n",
    "    \n",
    "    for value in data[y].unique():\n",
    "        value_list = data[data[y] == value]\n",
    "        y_values[value] = len(value_list)\n",
    "        \n",
    "    # get value with max count\n",
    "    values = data[y].value_counts()\n",
    "    min_ = min(list(y_values.values()))\n",
    "    max_ = max(list(y_values.values()))\n",
    "    value_max = values[values == max_].index.values[0]\n",
    "    value_min = values[values == min_].index.values[0]\n",
    "    emp_df = pd.DataFrame()\n",
    "    sampled =[]\n",
    "    \n",
    "    if kind == 'downsample':\n",
    "        min_df = data[data[y] == value_min]\n",
    "        for i in y_values.keys():\n",
    "            if i != value_min:   \n",
    "                sampling = resample(data[data[y] == i], replace=False, n_samples=y_values[value_min], random_state=27)\n",
    "                sampled.append(sampling)    \n",
    "        sampled.append(min_df)\n",
    "        \n",
    "    elif kind == 'upsample':\n",
    "        max_df = data[data[y] == value_max]\n",
    "        for i in y_values.keys():\n",
    "            if i != value_max:   \n",
    "                sampling = resample(data[data[y] == i], replace=True, n_samples=y_values[value_max], random_state=27)\n",
    "                sampled.append(sampling)    \n",
    "        sampled.append(max_df)  \n",
    "    \n",
    "    elif kind == 'hybrid':\n",
    "        resample_size = int(max_/2)\n",
    "        for i in y_values.keys():\n",
    "            sampling = resample(data[data[y] == i], replace=True, n_samples=resample_size, random_state=27)\n",
    "            sampled.append(sampling)\n",
    "        \n",
    "    for sample in sampled:\n",
    "        emp_df = pd.concat([emp_df,sample])\n",
    "    \n",
    "    return emp_df\n",
    "    # return resample_size"
   ]
  },
  {
   "cell_type": "markdown",
   "id": "7ba8c11e-11c0-483e-8701-b81fac4640ba",
   "metadata": {},
   "source": [
    "#### First, we will attempt under-sampling our data"
   ]
  },
  {
   "cell_type": "code",
   "execution_count": 80,
   "id": "aa86a4e7-90a0-4335-a360-81d0282ae16f",
   "metadata": {},
   "outputs": [],
   "source": [
    "df_downsampled = resampler(df, 'sentiment', 'downsample')"
   ]
  },
  {
   "cell_type": "code",
   "execution_count": 81,
   "id": "5c5e1e62-b06b-47d7-b887-b454a27f25a4",
   "metadata": {},
   "outputs": [],
   "source": [
    "df_downsampled['message'] = df_downsampled['message'].apply(transform)\n",
    "df_downsampled['message'] = df_downsampled['message'].apply(transform, method='stem')"
   ]
  },
  {
   "cell_type": "markdown",
   "id": "f022e3b6-f2a8-4e67-bf00-93f14df08bb3",
   "metadata": {},
   "source": [
    "Let's plot and see what we have"
   ]
  },
  {
   "cell_type": "code",
   "execution_count": 82,
   "id": "07b97aa9-5124-4552-9e0f-697c70bd1d14",
   "metadata": {},
   "outputs": [],
   "source": [
    "def sampling_plot_check(data1, data2, target, kind='bar'):\n",
    "    df_unsamp = data1[target].value_counts()\n",
    "    df_unsamp.index = ['positive', 'factual', 'neutral', 'negative']\n",
    "    df_samp = data2[target].value_counts()\n",
    "    df_samp.index = ['positive', 'factual', 'neutral', 'negative']\n",
    "    df_unsamp.plot(kind=kind, color='blue', figsize=(9, 6))\n",
    "    df_samp.plot(kind=kind, color='orange', figsize=(9, 6))\n",
    "    plt.xticks(rotation=0)\n",
    "    plt.show()"
   ]
  },
  {
   "cell_type": "code",
   "execution_count": 83,
   "id": "1516d526-ba69-48f5-a239-6cecabc8d0da",
   "metadata": {},
   "outputs": [
    {
     "data": {
      "image/png": "[encoded data removed]",
      "text/plain": [
       "<Figure size 648x432 with 1 Axes>"
      ]
     },
     "metadata": {},
     "output_type": "display_data"
    }
   ],
   "source": [
    "sampling_plot_check(df, df_downsampled, 'sentiment')"
   ]
  },
  {
   "cell_type": "markdown",
   "id": "b8921f02-d148-4cbb-ba59-60df42d635ef",
   "metadata": {},
   "source": [
    "#### We will attempt over-sampling"
   ]
  },
  {
   "cell_type": "code",
   "execution_count": 84,
   "id": "2083b4dd-87cc-4582-bdc5-bae624b59d5e",
   "metadata": {},
   "outputs": [],
   "source": [
    "df_upsampled = resampler(df, 'sentiment', 'upsample')\n",
    "df_upsampled['message'] = df_upsampled['message'].apply(transform)\n",
    "df_upsampled['message'] = df_upsampled['message'].apply(transform, method='stem')"
   ]
  },
  {
   "cell_type": "code",
   "execution_count": 85,
   "id": "fa0da578-ce8d-47af-9fdd-e3c4c9257ddb",
   "metadata": {},
   "outputs": [
    {
     "data": {
      "image/png": "[encoded data removed]",
      "text/plain": [
       "<Figure size 648x432 with 1 Axes>"
      ]
     },
     "metadata": {},
     "output_type": "display_data"
    }
   ],
   "source": [
    "sampling_plot_check(df, df_upsampled, 'sentiment')"
   ]
  },
  {
   "cell_type": "markdown",
   "id": "e21664e0-d207-4ed3-8664-8de94ab0ee74",
   "metadata": {},
   "source": [
    "#### Lastly, hybrid sampling"
   ]
  },
  {
   "cell_type": "code",
   "execution_count": 86,
   "id": "404e47bc-4354-41a9-b90b-e2737a42834b",
   "metadata": {},
   "outputs": [],
   "source": [
    "df_hybrid = resampler(df, 'sentiment', 'hybrid')\n",
    "df_hybrid['message'] = df_hybrid['message'].apply(transform)\n",
    "df_hybrid['message'] = df_hybrid['message'].apply(transform, method='stem')"
   ]
  },
  {
   "cell_type": "code",
   "execution_count": 87,
   "id": "93c51956-77a0-4d67-9b34-9bf12f268fff",
   "metadata": {},
   "outputs": [
    {
     "data": {
      "image/png": "[encoded data removed]",
      "text/plain": [
       "<Figure size 648x432 with 1 Axes>"
      ]
     },
     "metadata": {},
     "output_type": "display_data"
    }
   ],
   "source": [
    "sampling_plot_check(df, df_hybrid, 'sentiment')"
   ]
  },
  {
   "cell_type": "code",
   "execution_count": 88,
   "id": "a86833ae-1250-413a-ae85-56d02ad5c46e",
   "metadata": {},
   "outputs": [
    {
     "data": {
      "image/png": "[encoded data removed]",
      "text/plain": [
       "<Figure size 864x648 with 1 Axes>"
      ]
     },
     "metadata": {},
     "output_type": "display_data"
    }
   ],
   "source": [
    "plot_series(df_hybrid.sentiment.value_counts(), name='sentiment')"
   ]
  },
  {
   "cell_type": "markdown",
   "id": "eee1157f-8eb8-4fcc-ab7e-20a85ed04c48",
   "metadata": {},
   "source": [
    "Wonderful!, everything looks equally balanced now. Time to **Vectorize** all three resampled dataframes"
   ]
  },
  {
   "cell_type": "code",
   "execution_count": 89,
   "id": "c7a31cb2-a47e-4e86-bd94-22ec68d0cf27",
   "metadata": {},
   "outputs": [
    {
     "name": "stdout",
     "output_type": "stream",
     "text": [
      "using bow\n"
     ]
    }
   ],
   "source": [
    "X_bow_sampled, y_bow_sampled = vectorize(df_hybrid, 'message')"
   ]
  },
  {
   "cell_type": "code",
   "execution_count": 90,
   "id": "55d6f15e-5d63-4a71-bb1b-6ea4ea8e5702",
   "metadata": {},
   "outputs": [
    {
     "name": "stdout",
     "output_type": "stream",
     "text": [
      "using cv\n"
     ]
    }
   ],
   "source": [
    "X_cv_sampled, y_cv_sampled = vectorize(df_hybrid, 'message', vectorizer='cv')"
   ]
  },
  {
   "cell_type": "code",
   "execution_count": 91,
   "id": "4e49723e-6233-410d-b130-3ad79709aac1",
   "metadata": {},
   "outputs": [
    {
     "name": "stdout",
     "output_type": "stream",
     "text": [
      "using tfidf\n"
     ]
    }
   ],
   "source": [
    "X_tfidf_sampled, y_tfidf_sampled = vectorize(df_hybrid, 'message', vectorizer='tfidf')"
   ]
  },
  {
   "cell_type": "markdown",
   "id": "43b2d523",
   "metadata": {},
   "source": [
    "<a id=\"five\"></a>\n",
    "## 5. Modelling\n",
    "<a class=\"anchor\" id=\"1.1\"></a>\n",
    "<a href=#cont>Back to Table of Contents</a>\n",
    "\n",
    "---\n",
    "    \n",
    "| ⚡ Description: Modelling ⚡ |\n",
    "| :--------------------------- |\n",
    "| In this section, you are required to create one or more regression models that are able to accurately predict the thee hour load shortfall. |\n",
    "\n",
    "---"
   ]
  },
  {
   "cell_type": "code",
   "execution_count": 92,
   "id": "0aacaccd-261f-49bb-84e1-944fbe0c88c9",
   "metadata": {},
   "outputs": [],
   "source": [
    "def make_models(x_list, y_list, model_list, check_list):\n",
    "    import warnings\n",
    "    warnings.filterwarnings('ignore')\n",
    "    \n",
    "    for model in model_list:\n",
    "        for k in range(len(x_list)):\n",
    "            X_train, X_test, y_train, y_test = train_test_split(x_list[k], y_list[k], test_size=0.2, random_state=SEED)\n",
    "            if model == 'logreg':\n",
    "                modeller = LogisticRegression(multi_class='ovr')\n",
    "            elif model == 'rfc':\n",
    "                modeller = RandomForestClassifier()\n",
    "            elif model == 'svc':\n",
    "                modeller = SVC()\n",
    "            elif model == 'xgb':\n",
    "                modeller = GradientBoostingClassifier(n_estimators=100, learning_rate=1.0, random_state=SEED)\n",
    "            else:\n",
    "                print(\"unknown classifier\")\n",
    "            \n",
    "            modeller.fit(X_train, y_train)\n",
    "            y_pred = modeller.predict(X_test)\n",
    "            \n",
    "            f_score = f1_score(y_test, y_pred, average='weighted')\n",
    "            cm = confusion_matrix(y_test, y_pred, labels=modeller.classes_)\n",
    "            disp = ConfusionMatrixDisplay(confusion_matrix=cm, display_labels=['neg', 'neu', 'pos', 'fact'])\n",
    "            print(f'f1_score for {model} using {check_list[k]} is : {f_score} \\n\\t\\t')\n",
    "            disp.plot()\n",
    "            plt.show()"
   ]
  },
  {
   "cell_type": "code",
   "execution_count": 93,
   "id": "5046a20c-9d35-474a-a63b-9be68a1d0a3e",
   "metadata": {},
   "outputs": [],
   "source": [
    "list_x = [X_bow, X_cv, X_tf, X_bow_sampled, X_cv_sampled, X_tfidf_sampled]\n",
    "list_y = [y_bow, y_cv, y_tf, y_bow_sampled, y_cv_sampled, y_tfidf_sampled]\n",
    "list_check = ['X_bow, y_bow', 'X_cv, y_cv', 'X_tf, y_tf', 'X_bow_sampled, y_bow_sampled', 'X_cv_sampled, y_cv_sampled', 'X_tfidf_sampled, y_tfidf_sampled']\n",
    "list_models = ['logreg', 'rfc', 'svc', 'xgb']"
   ]
  },
  {
   "cell_type": "code",
   "execution_count": 94,
   "id": "21d26eff-691f-4d25-94aa-6103cfe4dc26",
   "metadata": {},
   "outputs": [],
   "source": [
    "# make_models(list_x, list_y, list_models, list_check)"
   ]
  },
  {
   "cell_type": "code",
   "execution_count": 95,
   "id": "2344b3e0",
   "metadata": {},
   "outputs": [],
   "source": [
    "X_train, X_test, y_train, y_test = train_test_split(X_tfidf_sampled, y_tfidf_sampled, test_size=0.2, random_state=SEED)# split data"
   ]
  },
  {
   "cell_type": "code",
   "execution_count": 96,
   "id": "9c58df02",
   "metadata": {},
   "outputs": [],
   "source": [
    "gbc = modeller = SVC()"
   ]
  },
  {
   "cell_type": "code",
   "execution_count": 97,
   "id": "20d073e0",
   "metadata": {},
   "outputs": [
    {
     "data": {
      "text/plain": [
       "SVC()"
      ]
     },
     "execution_count": 97,
     "metadata": {},
     "output_type": "execute_result"
    }
   ],
   "source": [
    "gbc.fit(X_train, y_train)"
   ]
  },
  {
   "cell_type": "code",
   "execution_count": 98,
   "id": "a70c15d7",
   "metadata": {},
   "outputs": [],
   "source": [
    "y_pred = gbc.predict(X_test)"
   ]
  },
  {
   "cell_type": "markdown",
   "id": "6b530251",
   "metadata": {},
   "source": [
    "<a id=\"six\"></a>\n",
    "## 6. Model Performance\n",
    "<a class=\"anchor\" id=\"1.1\"></a>\n",
    "<a href=#cont>Back to Table of Contents</a>\n",
    "\n",
    "---\n",
    "    \n",
    "| ⚡ Description: Model performance ⚡ |\n",
    "| :--------------------------- |\n",
    "| In this section you are required to compare the relative performance of the various trained ML models on a holdout dataset and comment on what model is the best and why. |\n",
    "\n",
    "---"
   ]
  },
  {
   "cell_type": "code",
   "execution_count": 99,
   "id": "6a69b5a1",
   "metadata": {},
   "outputs": [
    {
     "name": "stdout",
     "output_type": "stream",
     "text": [
      "              precision    recall  f1-score   support\n",
      "\n",
      "         neg       0.87      0.90      0.88       824\n",
      "         neu       0.81      0.79      0.80       876\n",
      "         pos       0.79      0.69      0.74       851\n",
      "        fact       0.80      0.90      0.85       861\n",
      "\n",
      "    accuracy                           0.82      3412\n",
      "   macro avg       0.82      0.82      0.82      3412\n",
      "weighted avg       0.82      0.82      0.82      3412\n",
      "\n"
     ]
    }
   ],
   "source": [
    "# Compare model performance\n",
    "import warnings\n",
    "warnings.filterwarnings('ignore')\n",
    "classification = classification_report(y_test, y_pred, target_names=['neg', 'neu', 'pos', 'fact'])\n",
    "\n",
    "print(classification)"
   ]
  },
  {
   "cell_type": "code",
   "execution_count": 100,
   "id": "edd7c0f6-0cce-484c-9b8b-639e1f0edf1c",
   "metadata": {},
   "outputs": [],
   "source": [
    "test = pd.read_csv('kaggle_data/test.csv', encoding='ascii', encoding_errors='ignore')"
   ]
  },
  {
   "cell_type": "code",
   "execution_count": 101,
   "id": "455c4ab7-5b88-43cd-9a00-af45b9b15935",
   "metadata": {},
   "outputs": [
    {
     "data": {
      "text/plain": [
       "(10546, 2)"
      ]
     },
     "execution_count": 101,
     "metadata": {},
     "output_type": "execute_result"
    }
   ],
   "source": [
    "test.shape"
   ]
  },
  {
   "cell_type": "markdown",
   "id": "b2be3aee-5ce1-42fd-8d33-8490d95f70e3",
   "metadata": {},
   "source": [
    "## Clean test df"
   ]
  },
  {
   "cell_type": "code",
   "execution_count": 102,
   "id": "1da67197-649b-4651-b708-fe60b25611cd",
   "metadata": {},
   "outputs": [],
   "source": [
    "# messages = np.array(test['message'])\n",
    "# url_list = extract_urls(messages)"
   ]
  },
  {
   "cell_type": "code",
   "execution_count": 103,
   "id": "26dae4be-8237-4226-9edb-71fbe99155fe",
   "metadata": {},
   "outputs": [],
   "source": [
    "# titles = download_titles(url_list)\n",
    "\n",
    "# titles"
   ]
  },
  {
   "cell_type": "code",
   "execution_count": 104,
   "id": "a237e2d5-70da-4028-979f-40d6c77bf202",
   "metadata": {},
   "outputs": [],
   "source": [
    "# titles.to_csv('test_titles.csv')"
   ]
  },
  {
   "cell_type": "code",
   "execution_count": 105,
   "id": "3442909e-1379-4787-b8ae-4c6857c840dd",
   "metadata": {},
   "outputs": [],
   "source": [
    "# test_titles = pd.read_csv('test_titles.csv', encoding='ascii', encoding_errors='ignore')\n",
    "\n",
    "# test_titles.head()"
   ]
  },
  {
   "cell_type": "code",
   "execution_count": 106,
   "id": "05b1c33c-b011-4fa3-af3b-0e0c213ea7f5",
   "metadata": {},
   "outputs": [],
   "source": [
    "# test_titles.columns = ['title']\n",
    "\n",
    "# test_titles.head()"
   ]
  },
  {
   "cell_type": "code",
   "execution_count": null,
   "id": "fd544ec1-4d76-4c9f-85f9-0fd85f5b4ecb",
   "metadata": {},
   "outputs": [],
   "source": []
  },
  {
   "cell_type": "code",
   "execution_count": 107,
   "id": "140bbe9e-5cc1-4298-925f-69060aba0a67",
   "metadata": {},
   "outputs": [],
   "source": [
    "# test_titles.shape"
   ]
  },
  {
   "cell_type": "code",
   "execution_count": 108,
   "id": "4b5587f3-7491-4cec-be5b-4614cccf620a",
   "metadata": {},
   "outputs": [],
   "source": [
    "# with open('titles.txt', 'r') as file:\n",
    "#     bad_titles = file.readlines()\n",
    "#     file.close()\n",
    "    \n",
    "# bad_titles = [w.lower().replace('\\n', '') for w in bad_titles]\n",
    "# bad_titles"
   ]
  },
  {
   "cell_type": "code",
   "execution_count": 109,
   "id": "edb019a7-490b-40c7-91db-b816f1608f71",
   "metadata": {},
   "outputs": [],
   "source": [
    "# test_titles.fillna('google', inplace=True)"
   ]
  },
  {
   "cell_type": "code",
   "execution_count": 110,
   "id": "66c60502-3764-4399-a909-b69390d5f55b",
   "metadata": {},
   "outputs": [],
   "source": [
    "# test_titles['title'] = test_titles['title'].apply_parallel(remove_punctuations)"
   ]
  },
  {
   "cell_type": "code",
   "execution_count": 111,
   "id": "93fb38e1-732f-4b14-8f01-1bb49f113bd6",
   "metadata": {},
   "outputs": [],
   "source": [
    "# test_titles['title'] = test_titles['title'].apply_parallel(remove_bad_titles)"
   ]
  },
  {
   "cell_type": "code",
   "execution_count": 112,
   "id": "da47930a-86e3-45f7-ac0c-6f09bd876280",
   "metadata": {},
   "outputs": [],
   "source": [
    "# test = merge_msg(test, 'message', test_titles, 'title')"
   ]
  },
  {
   "cell_type": "code",
   "execution_count": 113,
   "id": "7cbea51e-e8d9-4096-850b-43e7afbc4276",
   "metadata": {},
   "outputs": [],
   "source": [
    "test['message'] = test['message'].apply_parallel(handle_weblinks)"
   ]
  },
  {
   "cell_type": "code",
   "execution_count": 114,
   "id": "04992c03-276a-484d-b730-94d4d84ebb4e",
   "metadata": {},
   "outputs": [],
   "source": [
    "test['message'] = test['message'].apply(remove_stopwords)"
   ]
  },
  {
   "cell_type": "code",
   "execution_count": 115,
   "id": "11ca57b3-462e-4fce-bc32-b205d6610037",
   "metadata": {},
   "outputs": [],
   "source": [
    "test['message'] = test['message'].apply(remove_tags)"
   ]
  },
  {
   "cell_type": "code",
   "execution_count": 116,
   "id": "819a4298-4fc8-4691-b0ce-eef4d455e5f6",
   "metadata": {},
   "outputs": [],
   "source": [
    "test['message'] = test['message'].apply(remove_punctuations)"
   ]
  },
  {
   "cell_type": "code",
   "execution_count": 117,
   "id": "0cdacbf7-770d-482a-aade-fd2e25c033ed",
   "metadata": {},
   "outputs": [],
   "source": [
    "test['message'] = test['message'].apply(tokenize)"
   ]
  },
  {
   "cell_type": "code",
   "execution_count": 118,
   "id": "6355e9a6-d02c-4d0c-ba0b-d0c0d65b026c",
   "metadata": {},
   "outputs": [],
   "source": [
    "test['message'] = test['message'].apply(transform)\n",
    "test['message'] = test['message'].apply(transform, method='stem')"
   ]
  },
  {
   "cell_type": "code",
   "execution_count": 119,
   "id": "3d3b0e1f-b48d-4a0f-bb70-012cbd596aeb",
   "metadata": {},
   "outputs": [
    {
     "name": "stdout",
     "output_type": "stream",
     "text": [
      "using tfidf\n"
     ]
    }
   ],
   "source": [
    "X = vectorize(test, 'message', vectorizer='tfidf', label=None)"
   ]
  },
  {
   "cell_type": "code",
   "execution_count": 120,
   "id": "2a2df57f-cd17-4aa4-85a2-7fb3d75e1be9",
   "metadata": {},
   "outputs": [
    {
     "data": {
      "text/plain": [
       "(10546, 200)"
      ]
     },
     "execution_count": 120,
     "metadata": {},
     "output_type": "execute_result"
    }
   ],
   "source": [
    "X.shape"
   ]
  },
  {
   "cell_type": "code",
   "execution_count": 121,
   "id": "ecd2c2ab-2c45-4cae-a229-ce94037e100c",
   "metadata": {},
   "outputs": [],
   "source": [
    "y_test_pred = gbc.predict(X)"
   ]
  },
  {
   "cell_type": "code",
   "execution_count": 122,
   "id": "b6a5cdcf-610a-4a42-9b14-9fa8bfe98851",
   "metadata": {},
   "outputs": [],
   "source": [
    "#baseline submission"
   ]
  },
  {
   "cell_type": "code",
   "execution_count": 123,
   "id": "869d02ab-8989-4b32-833b-1720c0ca1186",
   "metadata": {},
   "outputs": [],
   "source": [
    "submission_sample = pd.read_csv('kaggle_data/sample_submission.csv')"
   ]
  },
  {
   "cell_type": "code",
   "execution_count": 124,
   "id": "9a57fa3a-5680-4055-ba4f-ca5fcc3f43e4",
   "metadata": {},
   "outputs": [
    {
     "data": {
      "text/html": [
       "<div>\n",
       "<style scoped>\n",
       "    .dataframe tbody tr th:only-of-type {\n",
       "        vertical-align: middle;\n",
       "    }\n",
       "\n",
       "    .dataframe tbody tr th {\n",
       "        vertical-align: top;\n",
       "    }\n",
       "\n",
       "    .dataframe thead th {\n",
       "        text-align: right;\n",
       "    }\n",
       "</style>\n",
       "<table border=\"1\" class=\"dataframe\">\n",
       "  <thead>\n",
       "    <tr style=\"text-align: right;\">\n",
       "      <th></th>\n",
       "      <th>tweetid</th>\n",
       "      <th>sentiment</th>\n",
       "    </tr>\n",
       "  </thead>\n",
       "  <tbody>\n",
       "    <tr>\n",
       "      <th>0</th>\n",
       "      <td>169760</td>\n",
       "      <td>1</td>\n",
       "    </tr>\n",
       "    <tr>\n",
       "      <th>1</th>\n",
       "      <td>35326</td>\n",
       "      <td>1</td>\n",
       "    </tr>\n",
       "    <tr>\n",
       "      <th>2</th>\n",
       "      <td>224985</td>\n",
       "      <td>1</td>\n",
       "    </tr>\n",
       "    <tr>\n",
       "      <th>3</th>\n",
       "      <td>476263</td>\n",
       "      <td>1</td>\n",
       "    </tr>\n",
       "    <tr>\n",
       "      <th>4</th>\n",
       "      <td>872928</td>\n",
       "      <td>1</td>\n",
       "    </tr>\n",
       "  </tbody>\n",
       "</table>\n",
       "</div>"
      ],
      "text/plain": [
       "   tweetid  sentiment\n",
       "0   169760          1\n",
       "1    35326          1\n",
       "2   224985          1\n",
       "3   476263          1\n",
       "4   872928          1"
      ]
     },
     "execution_count": 124,
     "metadata": {},
     "output_type": "execute_result"
    }
   ],
   "source": [
    "submission_sample.head()"
   ]
  },
  {
   "cell_type": "code",
   "execution_count": 125,
   "id": "5146abeb-60b4-431d-99c8-5aacf5c42c53",
   "metadata": {},
   "outputs": [
    {
     "data": {
      "text/plain": [
       "array([ 0, -1,  1, ...,  1,  2,  1], dtype=int64)"
      ]
     },
     "execution_count": 125,
     "metadata": {},
     "output_type": "execute_result"
    }
   ],
   "source": [
    "y_test_pred"
   ]
  },
  {
   "cell_type": "code",
   "execution_count": 126,
   "id": "d5f34ca3-837c-4b4e-9a69-8a670b69d327",
   "metadata": {},
   "outputs": [],
   "source": [
    "sub_file = submission_sample.copy()"
   ]
  },
  {
   "cell_type": "code",
   "execution_count": 127,
   "id": "ecfb866e-839e-4115-b1bd-d2f23d516483",
   "metadata": {},
   "outputs": [],
   "source": [
    "sub_file.tweetid = test.tweetid"
   ]
  },
  {
   "cell_type": "code",
   "execution_count": 128,
   "id": "270b5134-3fee-493a-b82b-338d20e31d46",
   "metadata": {},
   "outputs": [],
   "source": [
    "sub_file.sentiment= y_test_pred"
   ]
  },
  {
   "cell_type": "code",
   "execution_count": 129,
   "id": "ae1646e9-dc89-4627-b369-f93b7d4dc686",
   "metadata": {},
   "outputs": [
    {
     "data": {
      "text/html": [
       "<div>\n",
       "<style scoped>\n",
       "    .dataframe tbody tr th:only-of-type {\n",
       "        vertical-align: middle;\n",
       "    }\n",
       "\n",
       "    .dataframe tbody tr th {\n",
       "        vertical-align: top;\n",
       "    }\n",
       "\n",
       "    .dataframe thead th {\n",
       "        text-align: right;\n",
       "    }\n",
       "</style>\n",
       "<table border=\"1\" class=\"dataframe\">\n",
       "  <thead>\n",
       "    <tr style=\"text-align: right;\">\n",
       "      <th></th>\n",
       "      <th>tweetid</th>\n",
       "      <th>sentiment</th>\n",
       "    </tr>\n",
       "  </thead>\n",
       "  <tbody>\n",
       "    <tr>\n",
       "      <th>0</th>\n",
       "      <td>169760</td>\n",
       "      <td>0</td>\n",
       "    </tr>\n",
       "    <tr>\n",
       "      <th>1</th>\n",
       "      <td>35326</td>\n",
       "      <td>-1</td>\n",
       "    </tr>\n",
       "    <tr>\n",
       "      <th>2</th>\n",
       "      <td>224985</td>\n",
       "      <td>1</td>\n",
       "    </tr>\n",
       "    <tr>\n",
       "      <th>3</th>\n",
       "      <td>476263</td>\n",
       "      <td>0</td>\n",
       "    </tr>\n",
       "    <tr>\n",
       "      <th>4</th>\n",
       "      <td>872928</td>\n",
       "      <td>2</td>\n",
       "    </tr>\n",
       "  </tbody>\n",
       "</table>\n",
       "</div>"
      ],
      "text/plain": [
       "   tweetid  sentiment\n",
       "0   169760          0\n",
       "1    35326         -1\n",
       "2   224985          1\n",
       "3   476263          0\n",
       "4   872928          2"
      ]
     },
     "execution_count": 129,
     "metadata": {},
     "output_type": "execute_result"
    }
   ],
   "source": [
    "sub_file.head()"
   ]
  },
  {
   "cell_type": "code",
   "execution_count": 130,
   "id": "db905330-47a7-4c79-9424-278813cfdc81",
   "metadata": {},
   "outputs": [],
   "source": [
    "sub_file.to_csv(\"baseline.csv\", index=False)"
   ]
  },
  {
   "cell_type": "code",
   "execution_count": 131,
   "id": "ed7ea0b4-cb0c-4635-8f9c-e12f79d3f7c9",
   "metadata": {},
   "outputs": [],
   "source": [
    "# submission_sample.head()"
   ]
  },
  {
   "cell_type": "markdown",
   "id": "a8ad0c0d",
   "metadata": {},
   "source": [
    "<a id=\"seven\"></a>\n",
    "## 7. Model Explanations\n",
    "<a class=\"anchor\" id=\"1.1\"></a>\n",
    "<a href=#cont>Back to Table of Contents</a>\n",
    "\n",
    "---\n",
    "    \n",
    "| ⚡ Description: Model explanation ⚡ |\n",
    "| :--------------------------- |\n",
    "| In this section, you are required to discuss how the best performing model works in a simple way so that both technical and non-technical stakeholders can grasp the intuition behind the model's inner workings. |\n",
    "\n",
    "---"
   ]
  },
  {
   "cell_type": "code",
   "execution_count": 132,
   "id": "5ff741c2",
   "metadata": {},
   "outputs": [],
   "source": [
    "# discuss chosen methods logic"
   ]
  }
 ],
 "metadata": {
  "kernelspec": {
   "display_name": "Python 3 (ipykernel)",
   "language": "python",
   "name": "python3"
  },
  "language_info": {
   "codemirror_mode": {
    "name": "ipython",
    "version": 3
   },
   "file_extension": ".py",
   "mimetype": "text/x-python",
   "name": "python",
   "nbconvert_exporter": "python",
   "pygments_lexer": "ipython3",
   "version": "3.9.9"
  },
  "latex_envs": {
   "LaTeX_envs_menu_present": true,
   "autoclose": false,
   "autocomplete": true,
   "bibliofile": "biblio.bib",
   "cite_by": "apalike",
   "current_citInitial": 1,
   "eqLabelWithNumbers": true,
   "eqNumInitial": 1,
   "hotkeys": {
    "equation": "Ctrl-E",
    "itemize": "Ctrl-I"
   },
   "labels_anchors": false,
   "latex_user_defs": false,
   "report_style_numbering": false,
   "user_envs_cfg": false
  },
  "toc": {
   "base_numbering": 1,
   "nav_menu": {},
   "number_sections": true,
   "sideBar": true,
   "skip_h1_title": false,
   "title_cell": "Table of Contents",
   "title_sidebar": "Contents",
   "toc_cell": false,
   "toc_position": {},
   "toc_section_display": true,
   "toc_window_display": false
  },
  "varInspector": {
   "cols": {
    "lenName": 16,
    "lenType": 16,
    "lenVar": 40
   },
   "kernels_config": {
    "python": {
     "delete_cmd_postfix": "",
     "delete_cmd_prefix": "del ",
     "library": "var_list.py",
     "varRefreshCmd": "print(var_dic_list())"
    },
    "r": {
     "delete_cmd_postfix": ") ",
     "delete_cmd_prefix": "rm(",
     "library": "var_list.r",
     "varRefreshCmd": "cat(var_dic_list()) "
    }
   },
   "types_to_exclude": [
    "module",
    "function",
    "builtin_function_or_method",
    "instance",
    "_Feature"
   ],
   "window_display": false
  }
 },
 "nbformat": 4,
 "nbformat_minor": 5
}
