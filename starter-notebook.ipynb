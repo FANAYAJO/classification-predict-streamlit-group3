{
 "cells": [
  {
   "cell_type": "markdown",
   "id": "05600c92",
   "metadata": {},
   "source": [
    "<a id=\"cont\"></a>\n",
    "\n",
    "## Table of Contents\n",
    "\n",
    "<a href=#one>1. Importing Packages</a>\n",
    "\n",
    "<a href=#two>2. Loading Data</a>\n",
    "\n",
    "<a href=#three>3. Exploratory Data Analysis (EDA)</a>\n",
    "\n",
    "<a href=#four>4. Data Engineering</a>\n",
    "\n",
    "<a href=#five>5. Modeling</a>\n",
    "\n",
    "<a href=#six>6. Model Performance</a>\n",
    "\n",
    "<a href=#seven>7. Model Explanations</a>"
   ]
  },
  {
   "cell_type": "markdown",
   "id": "997462e2",
   "metadata": {},
   "source": [
    " <a id=\"one\"></a>\n",
    "## 1. Importing Packages\n",
    "<a href=#cont>Back to Table of Contents</a>\n",
    "\n",
    "---\n",
    "    \n",
    "| ⚡ Description: Importing Packages ⚡ |\n",
    "| :--------------------------- |\n",
    "| In this section we import the libraries that will be used throughout our analysis and modelling. |\n",
    "\n",
    "---"
   ]
  },
  {
   "cell_type": "code",
   "execution_count": 261,
   "id": "475dbe93",
   "metadata": {
    "ExecuteTime": {
     "end_time": "2021-06-23T10:30:53.800892Z",
     "start_time": "2021-06-23T10:30:50.215449Z"
    }
   },
   "outputs": [],
   "source": [
    "# Libraries for data loading, data manipulation and data visulisation\n",
    "import re\n",
    "import time\n",
    "import numpy as np\n",
    "import pandas as pd\n",
    "import matplotlib.pyplot as plt\n",
    "import seaborn as sns\n",
    "from bs4 import BeautifulSoup\n",
    "import requests\n",
    "from requests.packages.urllib3.exceptions import InsecureRequestWarning\n",
    "requests.packages.urllib3.disable_warnings(InsecureRequestWarning)\n",
    "from multiprocesspandas import applyparallel\n",
    "\n",
    "%matplotlib inline\n",
    "# set plot style\n",
    "sns.set()\n",
    "\n",
    "# Libraries for Natural Language processing\n",
    "import nltk\n",
    "from nltk.corpus import stopwords\n",
    "from nltk.sentiment.vader import SentimentIntensityAnalyzer\n",
    "from nltk.stem import WordNetLemmatizer\n",
    "from nltk import PorterStemmer\n",
    "from nltk.tokenize import TreebankWordTokenizer\n",
    "\n",
    "# Libraries for data preparation and model building\n",
    "# from sklearn import preprocessing\n",
    "# from sklearn.utils import resample\n",
    "# from sklearn.model_selection import train_test_split\n",
    "# from sklearn.linear_model import LogisticRegression\n",
    "# from sklearn.ensemble import RandomForestClassifier\n",
    "# from sklearn.metrics import classification_report\n",
    "# from sklearn.metrics import accuracy_score\n",
    "# from sklearn.preprocessing import LabelEncoder\n",
    "# from sklearn.preprocessing import MinMaxScaler\n",
    "# from sklearn.feature_extraction.text import TfidfVectorizer\n",
    "# from sklearn.feature_extraction.text import CountVectorizer\n",
    "\n",
    "# Setting global constants to ensure notebook results are reproducible\n",
    "SEED = 42"
   ]
  },
  {
   "cell_type": "markdown",
   "id": "f22a6718",
   "metadata": {},
   "source": [
    "<a id=\"two\"></a>\n",
    "## 2. Loading the Data\n",
    "<a class=\"anchor\" id=\"1.1\"></a>\n",
    "<a href=#cont>Back to Table of Contents</a>\n",
    "\n",
    "---\n",
    "    \n",
    "| ⚡ Description: Loading the data ⚡ |\n",
    "| :--------------------------- |\n",
    "| In this section we load the data from the `train.csv` file into a DataFrame. |\n",
    "\n",
    "---"
   ]
  },
  {
   "cell_type": "code",
   "execution_count": 150,
   "id": "fbbb6c18",
   "metadata": {
    "ExecuteTime": {
     "end_time": "2021-06-28T08:49:35.311495Z",
     "start_time": "2021-06-28T08:49:35.295494Z"
    }
   },
   "outputs": [],
   "source": [
    "df = pd.read_csv('kaggle_data/train.csv', encoding='ascii', encoding_errors='ignore')# load the data"
   ]
  },
  {
   "cell_type": "markdown",
   "id": "81132ab3",
   "metadata": {
    "tags": []
   },
   "source": [
    "<a id=\"three\"></a>\n",
    "## 3. Exploratory Data Analysis (EDA)\n",
    "<a class=\"anchor\" id=\"1.1\"></a>\n",
    "<a href=#cont>Back to Table of Contents</a>\n",
    "\n",
    "---\n",
    "    \n",
    "| ⚡ Description: Exploratory data analysis ⚡ |\n",
    "| :--------------------------- |\n",
    "| In this section, we perform an in-depth analysis of all the variables in the DataFrame. |\n",
    "\n",
    "---\n"
   ]
  },
  {
   "cell_type": "markdown",
   "id": "03ae80f1-e3dd-4f2f-8165-c3c06edf9ec9",
   "metadata": {},
   "source": [
    "### What is EDA?\n",
    "\n",
    "- In a nutshell, exploratory data analysis (EDA) is what data analysts do with large amounts of data to uncover patterns and summarize the dataset's primary characteristics in addition to what they learn from modeling and hypothesis testing. EDA is a notion in data analytics that allows analysts to approach a database without making any assumptions. When a data analyst employs EDA, it's as if the data is revealing what they don't already know."
   ]
  },
  {
   "cell_type": "code",
   "execution_count": 3,
   "id": "e805134e",
   "metadata": {
    "ExecuteTime": {
     "end_time": "2021-06-28T08:52:37.824204Z",
     "start_time": "2021-06-28T08:52:37.811206Z"
    }
   },
   "outputs": [
    {
     "data": {
      "text/html": [
       "<div>\n",
       "<style scoped>\n",
       "    .dataframe tbody tr th:only-of-type {\n",
       "        vertical-align: middle;\n",
       "    }\n",
       "\n",
       "    .dataframe tbody tr th {\n",
       "        vertical-align: top;\n",
       "    }\n",
       "\n",
       "    .dataframe thead th {\n",
       "        text-align: right;\n",
       "    }\n",
       "</style>\n",
       "<table border=\"1\" class=\"dataframe\">\n",
       "  <thead>\n",
       "    <tr style=\"text-align: right;\">\n",
       "      <th></th>\n",
       "      <th>sentiment</th>\n",
       "      <th>message</th>\n",
       "      <th>tweetid</th>\n",
       "    </tr>\n",
       "  </thead>\n",
       "  <tbody>\n",
       "    <tr>\n",
       "      <th>0</th>\n",
       "      <td>1</td>\n",
       "      <td>PolySciMajor EPA chief doesn't think carbon di...</td>\n",
       "      <td>625221</td>\n",
       "    </tr>\n",
       "    <tr>\n",
       "      <th>1</th>\n",
       "      <td>1</td>\n",
       "      <td>It's not like we lack evidence of anthropogeni...</td>\n",
       "      <td>126103</td>\n",
       "    </tr>\n",
       "    <tr>\n",
       "      <th>2</th>\n",
       "      <td>2</td>\n",
       "      <td>RT @RawStory: Researchers say we have three ye...</td>\n",
       "      <td>698562</td>\n",
       "    </tr>\n",
       "    <tr>\n",
       "      <th>3</th>\n",
       "      <td>1</td>\n",
       "      <td>#TodayinMaker# WIRED : 2016 was a pivotal year...</td>\n",
       "      <td>573736</td>\n",
       "    </tr>\n",
       "    <tr>\n",
       "      <th>4</th>\n",
       "      <td>1</td>\n",
       "      <td>RT @SoyNovioDeTodas: It's 2016, and a racist, ...</td>\n",
       "      <td>466954</td>\n",
       "    </tr>\n",
       "  </tbody>\n",
       "</table>\n",
       "</div>"
      ],
      "text/plain": [
       "   sentiment                                            message  tweetid\n",
       "0          1  PolySciMajor EPA chief doesn't think carbon di...   625221\n",
       "1          1  It's not like we lack evidence of anthropogeni...   126103\n",
       "2          2  RT @RawStory: Researchers say we have three ye...   698562\n",
       "3          1  #TodayinMaker# WIRED : 2016 was a pivotal year...   573736\n",
       "4          1  RT @SoyNovioDeTodas: It's 2016, and a racist, ...   466954"
      ]
     },
     "execution_count": 3,
     "metadata": {},
     "output_type": "execute_result"
    }
   ],
   "source": [
    "# take a peek into the dataset\n",
    "df.head()"
   ]
  },
  {
   "cell_type": "markdown",
   "id": "fc505323-4f96-4f6d-953e-44a87fce57b9",
   "metadata": {},
   "source": [
    "Here we take a quick peek into our loaded dataset and we see that there are __3__ columns of note; `sentiment`, `message` and `tweetid`"
   ]
  },
  {
   "cell_type": "markdown",
   "id": "504caeea-9b97-4801-b150-c1da6d09aab8",
   "metadata": {},
   "source": [
    "A further investigation will provide the dimensions of our dataset, that is looking at the `shape` of the data"
   ]
  },
  {
   "cell_type": "code",
   "execution_count": 4,
   "id": "515133e7-4845-497a-926c-1b06b736c8a2",
   "metadata": {},
   "outputs": [
    {
     "data": {
      "text/plain": [
       "(15819, 3)"
      ]
     },
     "execution_count": 4,
     "metadata": {},
     "output_type": "execute_result"
    }
   ],
   "source": [
    "df.shape"
   ]
  },
  {
   "cell_type": "markdown",
   "id": "da42a942-ea30-40de-846f-8efd41a4fe26",
   "metadata": {},
   "source": [
    "Here, we can see that our dataset is made up of __15,819__ rows and __3__ columns, as was earlier revealed."
   ]
  },
  {
   "cell_type": "markdown",
   "id": "a0f1ef85-6a33-4fa8-abd2-c9243071702a",
   "metadata": {},
   "source": [
    "Next let's see of all that number of data points in the dataset, how many of them do not contain any data? and what kind of data is contained in each column? These questions will be answered by looking at the information of the dataset provided by the `.info()` method."
   ]
  },
  {
   "cell_type": "code",
   "execution_count": 5,
   "id": "c286dfa4-d548-4f66-9bc7-51d1dbe34e78",
   "metadata": {},
   "outputs": [
    {
     "name": "stdout",
     "output_type": "stream",
     "text": [
      "<class 'pandas.core.frame.DataFrame'>\n",
      "RangeIndex: 15819 entries, 0 to 15818\n",
      "Data columns (total 3 columns):\n",
      " #   Column     Non-Null Count  Dtype \n",
      "---  ------     --------------  ----- \n",
      " 0   sentiment  15819 non-null  int64 \n",
      " 1   message    15819 non-null  object\n",
      " 2   tweetid    15819 non-null  int64 \n",
      "dtypes: int64(2), object(1)\n",
      "memory usage: 309.0+ KB\n"
     ]
    }
   ],
   "source": [
    "df.info()"
   ]
  },
  {
   "cell_type": "markdown",
   "id": "57067a7a-3695-431e-a725-e78a5b148233",
   "metadata": {},
   "source": [
    "The information above tells us that all of the columns in our dataset contain __15,819__ rows of data that `non-null`, meaning we have no missing values in our dataset. This can be attested to by the information provided when we looked at the `shape` of the data above"
   ]
  },
  {
   "cell_type": "markdown",
   "id": "d382a655-e717-4521-9ce0-840348dbd8c2",
   "metadata": {},
   "source": [
    "Another interesting information to extract from this dataset will be the unique labels in the `sentiment` which is our `label` or `dependent variable`"
   ]
  },
  {
   "cell_type": "code",
   "execution_count": 6,
   "id": "93fb1d39-2223-4bff-b96e-d3c91196a51d",
   "metadata": {},
   "outputs": [
    {
     "name": "stdout",
     "output_type": "stream",
     "text": [
      "[1, 2, 0, -1]\n"
     ]
    }
   ],
   "source": [
    "sentiment_labels = list(df.sentiment.unique())\n",
    "print(sentiment_labels)"
   ]
  },
  {
   "cell_type": "markdown",
   "id": "80d09c1e-c210-4f1b-b35c-7886a37940b9",
   "metadata": {},
   "source": [
    "We have __4__ different labels which make up the list of all possible sentiments that can be predicted by our model(s)"
   ]
  },
  {
   "cell_type": "markdown",
   "id": "9ada0a1b-11dc-4720-a80e-38579de84606",
   "metadata": {},
   "source": [
    "__-1__: means it is a NEGATIVE sentiment\n",
    "__0__: means it is a NEUTRAL sentiment\n",
    "__1__: means it is a POSITIVE sentiment\n",
    "__2__: means it is a FACTUAL sentiment from a reputable News Site"
   ]
  },
  {
   "cell_type": "markdown",
   "id": "4d434bcc-68cc-4923-a0bf-fd53a6cd7f2f",
   "metadata": {},
   "source": [
    "What are the proportions of our dataset that these labels represent? First, we will look at the figures and then we will look at a chart for better understanding  "
   ]
  },
  {
   "cell_type": "code",
   "execution_count": 7,
   "id": "9568b054-d0cf-4584-b484-eefa99894076",
   "metadata": {},
   "outputs": [
    {
     "data": {
      "text/plain": [
       " 1    8530\n",
       " 2    3640\n",
       " 0    2353\n",
       "-1    1296\n",
       "Name: sentiment, dtype: int64"
      ]
     },
     "execution_count": 7,
     "metadata": {},
     "output_type": "execute_result"
    }
   ],
   "source": [
    "labels_proportions = df.sentiment.value_counts()\n",
    "labels_proportions"
   ]
  },
  {
   "cell_type": "markdown",
   "id": "ec33591a-699c-4404-a710-d07c00e65c2e",
   "metadata": {},
   "source": [
    "We can see that _label 1_ is very highly represented (__8,530__) and _label 2_ follows not so closely (__3,640__), which can be a good thing because it indicates that a lot of people are speaking about climate change and are aware of its impacts on our planet. _Label 0_ comes in third (__2,353__); these tweets are neutral, having no connections with climate change or its woes.\n",
    "\n",
    "Gladly, the negative sentiments come in tops from the bottom (__1,296__). These are tweets from people that do not believe in the reality of climate change or global warming"
   ]
  },
  {
   "cell_type": "markdown",
   "id": "73649e60-3a93-41c2-b125-d7bedb7a1e46",
   "metadata": {},
   "source": [
    "Now the chart."
   ]
  },
  {
   "cell_type": "code",
   "execution_count": 8,
   "id": "6dd6ee8c",
   "metadata": {},
   "outputs": [
    {
     "data": {
      "image/png": "[encoded data removed]",
      "text/plain": [
       "<Figure size 432x288 with 1 Axes>"
      ]
     },
     "metadata": {},
     "output_type": "display_data"
    }
   ],
   "source": [
    "labels_proportions.plot(kind=\"pie\")\n",
    "plt.xticks(rotation=0)\n",
    "plt.show()"
   ]
  },
  {
   "cell_type": "markdown",
   "id": "acbf0405-bc80-4a05-b908-89ad1d207f4d",
   "metadata": {},
   "source": [
    "Here we see that the biggest slice of the pie represents the _positive comments_ followed by the _factual comments/posts_ and so on, confirming what we understand from the figures"
   ]
  },
  {
   "cell_type": "markdown",
   "id": "6e251bd7-d801-4bbd-943f-7d29d5a32d6d",
   "metadata": {},
   "source": [
    "While we are glad that there are more _positive_ comments than the _neutral_ and _negative_ ones combined, this poses an issue when we try to feed the data into our machine learning algorithm. This is as a result of an __imbalance__ of the proportion of data represented by the labels in our dataset. We will dive into that further in the **data engineering** section; what data imbalance is and how to deal with it."
   ]
  },
  {
   "cell_type": "markdown",
   "id": "d412cfe8-daea-4150-84d9-2897d020100e",
   "metadata": {},
   "source": [
    "Out of curiosity, While it is intuitive to spot a _postive_ or a _negative_ or a _neutral_ comment, what makes a comment *factual*? hmm..\n",
    "\n",
    "Let's look further into the data and see what we find."
   ]
  },
  {
   "cell_type": "markdown",
   "id": "c95086f6-1c08-4f50-b68a-59e6b7635f6e",
   "metadata": {},
   "source": [
    "We will approach this by printing a sample of messages in these different comment categories and see if we can make sense of what we find."
   ]
  },
  {
   "cell_type": "code",
   "execution_count": 10,
   "id": "0ad11a4e-3673-48eb-a50a-fe73a824b5d5",
   "metadata": {},
   "outputs": [
    {
     "name": "stdout",
     "output_type": "stream",
     "text": [
      "Positive comments:\n",
      "\t[\"PolySciMajor EPA chief doesn't think carbon dioxide is main cause of global warming and.. wait, what!? https://t.co/yeLvcEFXkC via @mashable\"\n",
      " \"It's not like we lack evidence of anthropogenic global warming\"\n",
      " '#TodayinMaker# WIRED : 2016 was a pivotal year in the war on climate change https://t.co/44wOTxTLcD'\n",
      " \"RT @SoyNovioDeTodas: It's 2016, and a racist, sexist, climate change denying bigot is leading in the polls. #ElectionNight\"\n",
      " \"Worth a read whether you do or don't believe in climate change https://t.co/ggLZVNYjun https://t.co/7AFE2mAH8j\"]\n",
      "\n",
      "Negative comments:\n",
      "\t['Sally Kohns latest evidence of climate change proves she is not a smart person https://t.co/MhkzoGL9Vt via @twitchyteam Need we say more'\n",
      " \"@realDonaldTrump Carbon Tax is a Globalist idea to enslave the world's population. It is the whole reason for propagating global warming!\"\n",
      " 'RT @SteveSGoddard: We had winds close to 100 MPH in the area this afternoon. I would blame climate change, except that this happens pr '\n",
      " '@MissLizzyNJ lmao  snowflakes  complaining about snowflakes  in winter =global warming '\n",
      " \"RT @Dawn2334Dawn: This is ONE of Arnold Schwarzenegger's vehicles. He is now whining about climate change.\\nHow's his maid...illegal or\\nhttp\"]\n",
      "\n",
      "Neutral comments:\n",
      "\t['Calum: *tweets abt reunitingish w the cast*\\n-sees replies begging him to come to their countries-\\nCalum: *goes back to rting climate change*'\n",
      " 'we also met this guy, he let us in on some truth about climate change and gay people not existing https://t.co/Q7yOMcMZaj'\n",
      " \"@Jnp_Ftw are these the same scientists that denounce climate change? It's not a choice\"\n",
      " 'We ve dealt with simple issues like climate change and energy policy. Now the complex issues. Mal vs Tones. #qanda'\n",
      " \"RT @andrewsharp: Win probability is bullshit man. I saw the NBA Finals and that's when I knew, global warming isn't real\"]\n",
      "\n",
      "Factual comments:\n",
      "\t['RT @RawStory: Researchers say we have three years to act on climate change before its too late https://t.co/WdT0KdUr2f https://t.co/Z0ANPT'\n",
      " 'RT @tveitdal: We only have a 5 percent chance of avoiding dangerous global warming, a study finds https://t.co/xUBTqNxhkK https://t.co/of'\n",
      " 'Fossil fuel giant ExxonMobil misled the public about climate change, Harvard academics conclude https://t.co/ofc2WSu4EX'\n",
      " 'Bangladesh confronting climate change head on https://t.co/MTqeNBQDUt https://t.co/itgkUxgEfg'\n",
      " 'RT @latimes: Atmospheric rivers fueled by climate change could decimate wild oysters in San Francisco Bay https://t.co/p0LZBhlU5K https://t']\n",
      "\n"
     ]
    }
   ],
   "source": [
    "positives = df['message'][df['sentiment'] == 1]\n",
    "negatives = df['message'][df['sentiment'] == -1]\n",
    "neutrals = df['message'][df['sentiment'] == 0]\n",
    "factuals = df['message'][df['sentiment'] == 2]\n",
    "\n",
    "print(\"Positive comments:\")\n",
    "print(f\"\\t{np.array(positives[:5])}\\n\")\n",
    "print(\"Negative comments:\")\n",
    "print(f\"\\t{np.array(negatives[:5])}\\n\")\n",
    "print(\"Neutral comments:\")\n",
    "print(f\"\\t{np.array(neutrals[:5])}\\n\")\n",
    "print(\"Factual comments:\")\n",
    "print(f\"\\t{np.array(factuals[:5])}\\n\")"
   ]
  },
  {
   "cell_type": "markdown",
   "id": "8322c134-1a36-44a1-95d8-46e585e78e29",
   "metadata": {},
   "source": [
    "At first glance, nothing particularly stands out but looking closely, only factual comments have posts from news sites like **@RawStory** and **@latimes**. A quick research into **@tveitdal** shows that he is a grandmaster in climate change and environmental consultancy, but are we to take his words as facts? hmm.. We will dive into this further during **data engineering**. \n",
    "\n",
    "There are no surprises in the _negative_ comments, there's a post with Donald Trump tagged."
   ]
  },
  {
   "cell_type": "markdown",
   "id": "16631b88-a707-41b0-aa5f-aae36357d67c",
   "metadata": {},
   "source": [
    "There also seem to be a lot of links in these posts. These have to be handled one way or another as they will become \"noise\" in the data set. In the meantime, let's investigate this further."
   ]
  },
  {
   "cell_type": "markdown",
   "id": "16b627ac-5713-4e8e-81bc-76afa47e1229",
   "metadata": {},
   "source": [
    "**What are the words that are more frequent in each post type**"
   ]
  },
  {
   "cell_type": "code",
   "execution_count": 104,
   "id": "5db57e96-a3ff-4456-ac97-2c52397d89e4",
   "metadata": {},
   "outputs": [],
   "source": [
    "def words_freq(df, n):\n",
    "    import string\n",
    "    stop_words = stopwords.words('english')\n",
    "    stop_words.append('rt')\n",
    "    stop_words.append('&amp;')\n",
    "    dict_ = {}\n",
    "    for row in np.array(df):\n",
    "        word_sw = ' '.join([l.lower() for l in row.split(' ') if l.lower() not in stop_words])\n",
    "        word_punct = ''.join([l for l in word_sw if l not in string.punctuation])\n",
    "\n",
    "        for wd in word_punct.split(\" \"):\n",
    "            if wd in dict_:\n",
    "                dict_[wd] += 1\n",
    "            else:\n",
    "                dict_[wd] = 1\n",
    "    \n",
    "    dict_ = {k: v for k,v in sorted(dict_.items(), key=lambda kv: kv[1], reverse=True)}\n",
    "    n_largest = dict(list(dict_.items())[:n])\n",
    "    \n",
    "    return n_largest"
   ]
  },
  {
   "cell_type": "code",
   "execution_count": 105,
   "id": "72fff112-aa09-40e5-85fa-ed8fbf919adb",
   "metadata": {},
   "outputs": [
    {
     "name": "stdout",
     "output_type": "stream",
     "text": [
      "{'climate': 7346, 'change': 7056, 'global': 1595, '': 1454, 'warming': 1429, 'believe': 1004, 'trump': 883, 'going': 590, 'real': 497, 'people': 454, 'world': 446, 'us': 444, 'die': 394, 'thinking': 338, 'hoax': 316, 'husband': 312, 'like': 310, 'stephenschlegel': 307, 'httpstcosjofon': 307, 'fight': 284}\n"
     ]
    }
   ],
   "source": [
    "pos = words_freq(positives, 20)\n",
    "print(pos)"
   ]
  },
  {
   "cell_type": "code",
   "execution_count": 106,
   "id": "4a992149-7f3b-43b1-85eb-fbb0fe2994d0",
   "metadata": {},
   "outputs": [
    {
     "name": "stdout",
     "output_type": "stream",
     "text": [
      "{'climate': 795, 'change': 735, 'global': 635, 'warming': 604, '': 218, 'science': 77, 'realdonaldtrump': 69, 'us': 63, 'real': 59, 'people': 57, 'trump': 57, 'man': 53, 'scam': 51, 'would': 50, 'hoax': 50, 'made': 48, 'data': 48, 'fake': 47, 'manmade': 46, 'believe': 46}\n"
     ]
    }
   ],
   "source": [
    "neg = words_freq(negatives, 20)\n",
    "print(neg)"
   ]
  },
  {
   "cell_type": "code",
   "execution_count": 107,
   "id": "7a2c6430-708d-43df-be15-dbc86293d72e",
   "metadata": {},
   "outputs": [
    {
     "name": "stdout",
     "output_type": "stream",
     "text": [
      "{'climate': 1435, 'change': 1370, 'global': 1036, 'warming': 966, '': 446, 'trump': 147, 'us': 100, 'like': 96, 'real': 94, 'believe': 87, 'im': 86, 'penguin': 84, 'think': 82, 'hes': 78, 'people': 65, 'cause': 56, 'know': 52, 'one': 49, 'says': 45, 'get': 45}\n"
     ]
    }
   ],
   "source": [
    "neu = words_freq(neutrals, 20)\n",
    "print(neu)"
   ]
  },
  {
   "cell_type": "code",
   "execution_count": 108,
   "id": "b87ddfbd-1e6f-4dd6-9cac-e77ed6e73e61",
   "metadata": {},
   "outputs": [
    {
     "name": "stdout",
     "output_type": "stream",
     "text": [
      "{'climate': 3348, 'change': 3201, '': 837, 'trump': 825, 'global': 507, 'warming': 435, 'via': 299, 'us': 292, 'says': 241, 'trumps': 239, 'epa': 237, 'new': 191, 'scientists': 178, 'donald': 166, 'fight': 159, 'china': 142, 'could': 133, 'news': 125, 'world': 114, 'scott': 112}\n"
     ]
    }
   ],
   "source": [
    "fact = words_freq(factuals, 20)\n",
    "print(fact)"
   ]
  },
  {
   "cell_type": "markdown",
   "id": "02ba676f-f936-4126-9f32-e7b58a900fee",
   "metadata": {},
   "source": [
    "#### - *words that make a comment factual*"
   ]
  },
  {
   "cell_type": "code",
   "execution_count": 109,
   "id": "bb702d5b-641c-4acf-bfdc-190c299e976e",
   "metadata": {},
   "outputs": [
    {
     "name": "stdout",
     "output_type": "stream",
     "text": [
      "['epa', 'news', 'donald', 'china', 'scientists', 'trumps', 'via', 'scott', 'new', 'could']\n"
     ]
    }
   ],
   "source": [
    "print(list(set(fact.keys()) - set(list(neg.keys()) + list(pos.keys()) + list(neu.keys()))))"
   ]
  },
  {
   "cell_type": "markdown",
   "id": "68e78421-2394-4f8c-8d72-5b181e5a0e96",
   "metadata": {},
   "source": [
    "So far we've taken a look at what the most frequent words are per sentiment and have seen how factual comments differ from other comments after taking a look at the top 20 frequent words. A few words of interest are \"epa\", \"news\", \"scientists\" and \"via\" which all tend to be words use in a news site publication"
   ]
  },
  {
   "cell_type": "markdown",
   "id": "6a4d5a3d-8e73-4480-86e6-5c3f06937092",
   "metadata": {},
   "source": [
    "**Note**, our data is still a bit noisy because we haven't taken care of the urls in each post yet. But this gives us an idea."
   ]
  },
  {
   "cell_type": "markdown",
   "id": "41137022-62a3-4dae-9ccf-cab16fa9c6ce",
   "metadata": {},
   "source": [
    "**How many links are there in total? and How are they shared amongst the sentiments?**"
   ]
  },
  {
   "cell_type": "code",
   "execution_count": 15,
   "id": "3518f3fc-7aba-4529-9826-4138186f2c0a",
   "metadata": {},
   "outputs": [
    {
     "name": "stdout",
     "output_type": "stream",
     "text": [
      "9673\n"
     ]
    }
   ],
   "source": [
    "# how many links there are\n",
    "pattern_url = r'http[s]?://(?:[A-Za-z]|[0-9]|[$-_@.&+]|[!*\\(\\),]|(?:%[0-9A-Fa-f][0-9A-Fa-f]))+'\n",
    "urls = []\n",
    "for row in df['message']:\n",
    "    match = re.findall(pattern_url, row)\n",
    "    for item in match:\n",
    "        urls.append(item)\n",
    "\n",
    "total_links = len(urls)\n",
    "print(total_links)"
   ]
  },
  {
   "cell_type": "markdown",
   "id": "aba302d7-fc10-4087-a1f7-3479e7348b58",
   "metadata": {},
   "source": [
    "Here we see that there are __9,673__ url links in the dataset."
   ]
  },
  {
   "cell_type": "code",
   "execution_count": 16,
   "id": "d07d0794-c626-4fc6-ace4-c9372edb307d",
   "metadata": {},
   "outputs": [
    {
     "data": {
      "text/html": [
       "<div>\n",
       "<style scoped>\n",
       "    .dataframe tbody tr th:only-of-type {\n",
       "        vertical-align: middle;\n",
       "    }\n",
       "\n",
       "    .dataframe tbody tr th {\n",
       "        vertical-align: top;\n",
       "    }\n",
       "\n",
       "    .dataframe thead th {\n",
       "        text-align: right;\n",
       "    }\n",
       "</style>\n",
       "<table border=\"1\" class=\"dataframe\">\n",
       "  <thead>\n",
       "    <tr style=\"text-align: right;\">\n",
       "      <th></th>\n",
       "      <th>sentiment</th>\n",
       "      <th>message</th>\n",
       "      <th>tweetid</th>\n",
       "      <th>url</th>\n",
       "    </tr>\n",
       "  </thead>\n",
       "  <tbody>\n",
       "    <tr>\n",
       "      <th>0</th>\n",
       "      <td>1</td>\n",
       "      <td>PolySciMajor EPA chief doesn't think carbon di...</td>\n",
       "      <td>625221</td>\n",
       "      <td>1</td>\n",
       "    </tr>\n",
       "    <tr>\n",
       "      <th>1</th>\n",
       "      <td>1</td>\n",
       "      <td>It's not like we lack evidence of anthropogeni...</td>\n",
       "      <td>126103</td>\n",
       "      <td>0</td>\n",
       "    </tr>\n",
       "    <tr>\n",
       "      <th>2</th>\n",
       "      <td>2</td>\n",
       "      <td>RT @RawStory: Researchers say we have three ye...</td>\n",
       "      <td>698562</td>\n",
       "      <td>2</td>\n",
       "    </tr>\n",
       "    <tr>\n",
       "      <th>3</th>\n",
       "      <td>1</td>\n",
       "      <td>#TodayinMaker# WIRED : 2016 was a pivotal year...</td>\n",
       "      <td>573736</td>\n",
       "      <td>1</td>\n",
       "    </tr>\n",
       "    <tr>\n",
       "      <th>4</th>\n",
       "      <td>1</td>\n",
       "      <td>RT @SoyNovioDeTodas: It's 2016, and a racist, ...</td>\n",
       "      <td>466954</td>\n",
       "      <td>0</td>\n",
       "    </tr>\n",
       "  </tbody>\n",
       "</table>\n",
       "</div>"
      ],
      "text/plain": [
       "   sentiment                                            message  tweetid  url\n",
       "0          1  PolySciMajor EPA chief doesn't think carbon di...   625221    1\n",
       "1          1  It's not like we lack evidence of anthropogeni...   126103    0\n",
       "2          2  RT @RawStory: Researchers say we have three ye...   698562    2\n",
       "3          1  #TodayinMaker# WIRED : 2016 was a pivotal year...   573736    1\n",
       "4          1  RT @SoyNovioDeTodas: It's 2016, and a racist, ...   466954    0"
      ]
     },
     "execution_count": 16,
     "metadata": {},
     "output_type": "execute_result"
    }
   ],
   "source": [
    "# Number of links per sentiment\n",
    "\n",
    "# copy dataframe to not change structure of main df\n",
    "df_copy = df.copy()\n",
    "\n",
    "# create new column `url\n",
    "url = []\n",
    "\n",
    "# find urls per row \n",
    "for row in df_copy['message']:\n",
    "    match = re.findall(pattern_url, row)\n",
    "    url.append(len(match)) # append the number of urls found per row\n",
    "    \n",
    "df_copy['url'] = url\n",
    "\n",
    "df_copy.head()"
   ]
  },
  {
   "cell_type": "code",
   "execution_count": 17,
   "id": "4af4d741-ef7a-4b3c-8695-e0772e1e5b6c",
   "metadata": {},
   "outputs": [
    {
     "data": {
      "text/html": [
       "<div>\n",
       "<style scoped>\n",
       "    .dataframe tbody tr th:only-of-type {\n",
       "        vertical-align: middle;\n",
       "    }\n",
       "\n",
       "    .dataframe tbody tr th {\n",
       "        vertical-align: top;\n",
       "    }\n",
       "\n",
       "    .dataframe thead th {\n",
       "        text-align: right;\n",
       "    }\n",
       "</style>\n",
       "<table border=\"1\" class=\"dataframe\">\n",
       "  <thead>\n",
       "    <tr style=\"text-align: right;\">\n",
       "      <th></th>\n",
       "      <th>sentiment</th>\n",
       "      <th>message</th>\n",
       "      <th>tweetid</th>\n",
       "      <th>url</th>\n",
       "    </tr>\n",
       "  </thead>\n",
       "  <tbody>\n",
       "    <tr>\n",
       "      <th>2754</th>\n",
       "      <td>2</td>\n",
       "      <td>https://t.co/u4R1BqQ5UR | Parliament ratifies ...</td>\n",
       "      <td>104560</td>\n",
       "      <td>3</td>\n",
       "    </tr>\n",
       "    <tr>\n",
       "      <th>3233</th>\n",
       "      <td>2</td>\n",
       "      <td>https://t.co/B2Fk05gnwC Forbidden phrases at U...</td>\n",
       "      <td>954879</td>\n",
       "      <td>3</td>\n",
       "    </tr>\n",
       "    <tr>\n",
       "      <th>5715</th>\n",
       "      <td>2</td>\n",
       "      <td>Cloudy feedback on global warming - https://t....</td>\n",
       "      <td>659920</td>\n",
       "      <td>3</td>\n",
       "    </tr>\n",
       "    <tr>\n",
       "      <th>8297</th>\n",
       "      <td>1</td>\n",
       "      <td>RT @zoeschlanger: The https://t.co/O90Lo4IhlO ...</td>\n",
       "      <td>67703</td>\n",
       "      <td>3</td>\n",
       "    </tr>\n",
       "    <tr>\n",
       "      <th>9131</th>\n",
       "      <td>2</td>\n",
       "      <td>How climate change may drive extreme weather -...</td>\n",
       "      <td>338028</td>\n",
       "      <td>3</td>\n",
       "    </tr>\n",
       "    <tr>\n",
       "      <th>11256</th>\n",
       "      <td>2</td>\n",
       "      <td>RT @NaturePlants: Predicting rice yield losses...</td>\n",
       "      <td>273452</td>\n",
       "      <td>3</td>\n",
       "    </tr>\n",
       "  </tbody>\n",
       "</table>\n",
       "</div>"
      ],
      "text/plain": [
       "       sentiment                                            message  tweetid  \\\n",
       "2754           2  https://t.co/u4R1BqQ5UR | Parliament ratifies ...   104560   \n",
       "3233           2  https://t.co/B2Fk05gnwC Forbidden phrases at U...   954879   \n",
       "5715           2  Cloudy feedback on global warming - https://t....   659920   \n",
       "8297           1  RT @zoeschlanger: The https://t.co/O90Lo4IhlO ...    67703   \n",
       "9131           2  How climate change may drive extreme weather -...   338028   \n",
       "11256          2  RT @NaturePlants: Predicting rice yield losses...   273452   \n",
       "\n",
       "       url  \n",
       "2754     3  \n",
       "3233     3  \n",
       "5715     3  \n",
       "8297     3  \n",
       "9131     3  \n",
       "11256    3  "
      ]
     },
     "execution_count": 17,
     "metadata": {},
     "output_type": "execute_result"
    }
   ],
   "source": [
    "maxf = max(list(df_copy.url))\n",
    "\n",
    "df_copy[df_copy.url == maxf]"
   ]
  },
  {
   "cell_type": "code",
   "execution_count": 18,
   "id": "52e65b90-6ac2-426a-b1a6-ca0793430a90",
   "metadata": {},
   "outputs": [
    {
     "data": {
      "text/plain": [
       "{1: 4199, 2: 4070, 0: 865, -1: 539}"
      ]
     },
     "execution_count": 18,
     "metadata": {},
     "output_type": "execute_result"
    }
   ],
   "source": [
    "count_dict = {}\n",
    "\n",
    "for l in df_copy.sentiment.unique():\n",
    "    new_df = df_copy[df_copy.sentiment == l]\n",
    "    count_dict[l] = sum(new_df.url)\n",
    "    \n",
    "count_dict"
   ]
  },
  {
   "cell_type": "code",
   "execution_count": 19,
   "id": "d6c059b5-126a-4795-9ae3-5f3a6357d98a",
   "metadata": {},
   "outputs": [
    {
     "data": {
      "image/png": "[encoded data removed]",
      "text/plain": [
       "<Figure size 432x288 with 1 Axes>"
      ]
     },
     "metadata": {},
     "output_type": "display_data"
    }
   ],
   "source": [
    "pd.Series(count_dict).plot(kind='pie')\n",
    "plt.xticks(rotation=0)\n",
    "plt.show()"
   ]
  },
  {
   "cell_type": "markdown",
   "id": "b5636f20-cd91-48bb-aac7-ca8234fb1326",
   "metadata": {},
   "source": [
    "Again, _positive_ and _factual_ comments lead the way, indicating that there may be more to gain from these urls, particularly in the case of the _factual_ comments which has more **urls** than it does **data points** (__4,070 :__ __3640__). This is by no means conclusive. \n",
    "\n",
    "Perhaps the model will tell us more eventually."
   ]
  },
  {
   "cell_type": "markdown",
   "id": "5cb332e0-9567-44bf-95cd-1b787bc0ec62",
   "metadata": {},
   "source": [
    "#### The Problem With Text Data\n",
    "\n",
    "A major problem with *text* data is that it is very messy and requires a lot of cleaning. In addition to that, it comes in a form that will be very difficult to feed into our machine learning models and get meaningful results, if any for that matter.\n",
    "\n",
    "A machine learning model only understands numbers in form of `ints` and `floats` and has a difficult time comprehending what alphabets represent.\n",
    "\n",
    "To help our machine learn better and make its life more bearable, we will need to transform our text data into digits in such a way that translates what the text is to the machine in numbers, thereby retaining, up to level, the meanings of the text. To do this, we will be carrying out a concept called `Data Engineering`.\n",
    "\n",
    "`Data Engineering` has been referred to a couple of times so far in this notebook, let's find out what it is next"
   ]
  },
  {
   "cell_type": "code",
   "execution_count": 26,
   "id": "e32ae83e-367e-4042-8f06-eff7b80d25c6",
   "metadata": {},
   "outputs": [],
   "source": [
    "def vectorize(data, features, label='sentiment', vectorizer=\"bow\", n_features=20, n_grams=(1, 1)):\n",
    "    \n",
    "    words_count = {}\n",
    "    bow = []\n",
    "    \n",
    "    for row in data:\n",
    "        for word in row:\n",
    "            if word in words_count:\n",
    "                words_count[word] += 1\n",
    "            else:\n",
    "                words_count[word] = 1\n",
    "    \n",
    "    # sort words_count dict\n",
    "    words_count = {k: v for k, v in sorted(words_count.items(), key=lambda kv: kv[1], reverse=True)}\n",
    "    \n",
    "    # get the no of features needed\n",
    "    n_largest = dict(list(words_count.items())[:n_features])\n",
    "    \n",
    "    # vectorize \n",
    "    for row in data[features]:\n",
    "        vector = []\n",
    "        for word in n_largest.keys():\n",
    "            if word in row:\n",
    "                vector.append(1)\n",
    "            else:\n",
    "                vector.append(0)\n",
    "        bow.append(vector)\n",
    "        \n",
    "    # convert features to category\n",
    "    data[features] = data[features].astype('category')\n",
    "    \n",
    "    # options\n",
    "    if vectorizer == 'tfidf':\n",
    "        vector = TfidfVectorizer(lowercase=True, max_features=n_features,analyzer='word', ngram_range=n_grams)\n",
    "        vectored = vector.fit_transform(data[features])\n",
    "        vectored = vectored.toarray()\n",
    "    elif vectorizer == 'cv':\n",
    "        vector = CountVectorizer(lowercase=True, max_features=n_features,analyzer='word', ngram_range=n_grams)\n",
    "        vectored = vector.fit_transform(data[features])\n",
    "        vectored = vectored.toarray()\n",
    "    else:\n",
    "        vectored = np.asarray(bow)\n",
    "        \n",
    "    print(f\"using {vector}\")\n",
    "    X = vectored\n",
    "    y = data[label]\n",
    "    \n",
    "    return X, y\n",
    "    "
   ]
  },
  {
   "cell_type": "code",
   "execution_count": 168,
   "id": "bb67709b-6b56-4926-b270-f0376fbfac11",
   "metadata": {
    "jupyter": {
     "source_hidden": true
    },
    "tags": []
   },
   "outputs": [],
   "source": [
    "vector = []\n",
    "\n",
    "for row in df['message']:\n",
    "    sub_vect = []\n",
    "    for j in n_largest.keys():\n",
    "        if j in row.split(\" \"):\n",
    "            sub_vect.append(1)\n",
    "        else:\n",
    "            sub_vect.append(0)\n",
    "    vector.append(sub_vect)\n",
    "\n",
    "X = vector\n"
   ]
  },
  {
   "cell_type": "code",
   "execution_count": 172,
   "id": "56c1e8b9-2443-42c2-8faf-f6aa47c4483f",
   "metadata": {
    "collapsed": true,
    "jupyter": {
     "outputs_hidden": true,
     "source_hidden": true
    },
    "tags": []
   },
   "outputs": [
    {
     "ename": "AttributeError",
     "evalue": "'list' object has no attribute 'to_numpy'",
     "output_type": "error",
     "traceback": [
      "\u001b[1;31m---------------------------------------------------------------------------\u001b[0m",
      "\u001b[1;31mAttributeError\u001b[0m                            Traceback (most recent call last)",
      "\u001b[1;32m~\\AppData\\Local\\Temp/ipykernel_4844/4127274506.py\u001b[0m in \u001b[0;36m<module>\u001b[1;34m\u001b[0m\n\u001b[1;32m----> 1\u001b[1;33m \u001b[1;33m(\u001b[0m\u001b[0mX\u001b[0m\u001b[1;33m[\u001b[0m\u001b[1;33m:\u001b[0m\u001b[1;36m10\u001b[0m\u001b[1;33m]\u001b[0m\u001b[1;33m)\u001b[0m\u001b[1;33m.\u001b[0m\u001b[0mto_numpy\u001b[0m\u001b[1;33m(\u001b[0m\u001b[1;33m)\u001b[0m\u001b[1;33m\u001b[0m\u001b[1;33m\u001b[0m\u001b[0m\n\u001b[0m",
      "\u001b[1;31mAttributeError\u001b[0m: 'list' object has no attribute 'to_numpy'"
     ]
    }
   ],
   "source": [
    "X[:10]"
   ]
  },
  {
   "cell_type": "code",
   "execution_count": 90,
   "id": "b78fe75b-1ade-443c-8c2c-4f75ddd7f4cf",
   "metadata": {
    "jupyter": {
     "source_hidden": true
    },
    "tags": []
   },
   "outputs": [],
   "source": [
    "def bag_of_words_count(words, word_dict={}):\n",
    "    \"\"\" this function takes in a list of words and returns a dictionary \n",
    "        with each word as a key, and the value represents the number of \n",
    "        times that word appeared\"\"\"\n",
    "    for word in words:\n",
    "        if word in word_dict.keys():\n",
    "            word_dict[word] += 1\n",
    "        else:\n",
    "            word_dict[word] = 1\n",
    "    return word_dict"
   ]
  },
  {
   "cell_type": "code",
   "execution_count": 137,
   "id": "cb1a99b9-fe8e-4f25-ab7c-f36bc3de1c82",
   "metadata": {
    "jupyter": {
     "source_hidden": true
    },
    "tags": []
   },
   "outputs": [],
   "source": [
    "label = {}\n",
    "for label_type in list(df.sentiment.unique()):\n",
    "    data = df.groupby('sentiment')\n",
    "    label[label_type] = {}\n",
    "    for row in data.get_group(label_type)['message'].str.split(\" \"):\n",
    "        label[label_type] = bag_of_words_count(row, label[label_type])"
   ]
  },
  {
   "cell_type": "code",
   "execution_count": 138,
   "id": "94a41913-78dd-48c6-b93c-799f03eb4dfb",
   "metadata": {
    "jupyter": {
     "source_hidden": true
    },
    "tags": []
   },
   "outputs": [],
   "source": [
    "all_words = set()\n",
    "for label_type in list(df.sentiment.unique()):\n",
    "    for word in label[label_type]:\n",
    "        all_words.add(word)"
   ]
  },
  {
   "cell_type": "code",
   "execution_count": 139,
   "id": "25e96a41-83de-464a-8aea-de1811974a99",
   "metadata": {
    "collapsed": true,
    "jupyter": {
     "outputs_hidden": true,
     "source_hidden": true
    },
    "tags": []
   },
   "outputs": [
    {
     "data": {
      "text/plain": [
       "45923"
      ]
     },
     "execution_count": 139,
     "metadata": {},
     "output_type": "execute_result"
    }
   ],
   "source": [
    "len(all_words)"
   ]
  },
  {
   "cell_type": "code",
   "execution_count": null,
   "id": "2a75d43c-1e57-417c-bf63-f8e025fb53d5",
   "metadata": {
    "jupyter": {
     "source_hidden": true
    },
    "tags": []
   },
   "outputs": [],
   "source": [
    "label['all'] = {}\n",
    "for label_type in list(df.sentiment.unique()):    \n",
    "    for word in all_words:\n",
    "        if word in label[label_type].keys():\n",
    "            if word in label['all']:\n",
    "                label['all'][word] += label[label_type][word]\n",
    "            else:\n",
    "                label['all'][word] = label[label_type][word]"
   ]
  },
  {
   "cell_type": "code",
   "execution_count": null,
   "id": "508358d1-9ea9-40a0-995d-0c36596b35a7",
   "metadata": {
    "collapsed": true,
    "jupyter": {
     "outputs_hidden": true,
     "source_hidden": true
    },
    "tags": []
   },
   "outputs": [
    {
     "data": {
      "text/plain": [
       "278862"
      ]
     },
     "execution_count": 105,
     "metadata": {},
     "output_type": "execute_result"
    }
   ],
   "source": [
    "total_words = sum([v for v in label['all'].values()])\n",
    "\n",
    "total_words"
   ]
  },
  {
   "cell_type": "code",
   "execution_count": 108,
   "id": "720766bb-a87c-4598-8c71-a0fd23a1c15e",
   "metadata": {
    "collapsed": true,
    "jupyter": {
     "outputs_hidden": true,
     "source_hidden": true
    },
    "tags": []
   },
   "outputs": [
    {
     "data": {
      "text/plain": [
       "Text(0.5, 0, 'word frequency')"
      ]
     },
     "execution_count": 108,
     "metadata": {},
     "output_type": "execute_result"
    },
    {
     "data": {
      "image/png": "[encoded data removed]",
      "text/plain": [
       "<Figure size 432x288 with 1 Axes>"
      ]
     },
     "metadata": {},
     "output_type": "display_data"
    }
   ],
   "source": [
    "_ = plt.hist([v for v in label['all'].values() if v < 10],bins=10)\n",
    "plt.ylabel(\"# of words\")\n",
    "plt.xlabel(\"word frequency\")"
   ]
  },
  {
   "cell_type": "code",
   "execution_count": 109,
   "id": "478ae8e5-f096-4c5a-96db-e3ac768bb454",
   "metadata": {
    "collapsed": true,
    "jupyter": {
     "outputs_hidden": true,
     "source_hidden": true
    },
    "tags": []
   },
   "outputs": [
    {
     "data": {
      "text/plain": [
       "33616"
      ]
     },
     "execution_count": 109,
     "metadata": {},
     "output_type": "execute_result"
    }
   ],
   "source": [
    "len([v for v in label['all'].values() if v == 1])"
   ]
  },
  {
   "cell_type": "code",
   "execution_count": 110,
   "id": "62fdb637-23db-4864-a823-aed4ce4cdaf2",
   "metadata": {
    "collapsed": true,
    "jupyter": {
     "outputs_hidden": true,
     "source_hidden": true
    },
    "tags": []
   },
   "outputs": [
    {
     "name": "stdout",
     "output_type": "stream",
     "text": [
      "['Hunton/Weindorf', '@treubold:', 'https://t.co/hyFV639fbi', 'Rosen,', 'https://t.co/TXjG0HwZWD', 'dig:', 'Wile', '@BretStephensNYT.', 'https://t.co/hotv3hRhaZ', 'https://t.co/y60BdLDO0U', 'https://t.co/JgUosRxVlf', 'https://t.co/xGa8rIgWwa', '#nowreading', 'http://www.c40/women4', '(@irinnews)', 'https://t.co/2ZqjuwMDVz', '@jackholmes0:', '@HopeFTFuture', '#Deplorables', \"'why\", '63%', '1,459)', 'hypocrite.', 'themselves!', '@RobinBHarding:', 'pop.', '@RKennedyob:', '(sniff)', '(if', '@MorrisseyHelena:', 'delivering', '30s', '(manmade,political,', 'AG,', 'DISAGREEMENT!', 'denialist.', '@staffo_sez:', '@jphever:', 'https://t.co/uZ2ykZiavE', '@PaulieMcGinty:', '@tcktcktck:', 'unproven', 'https://t.co/nFGYRdm98c', 'us,blacks', '@NaturalBAtheist:', 'Truue.', 'https://t.co/wbHsVugIn0', 'volatile', 'https://t.co/hisuYCHMGD', 'Anniversary', '@BRANDONWARDELL:', 'https://t.co/cYPCBZax3E', '@kikyowolf:', 'b/w', '#StopCpv', \"*don't*\", \"mind,'\", 'troll.', '#mediterranean', 'SoS', 'problems\\nmost', 'Trumpism', 'https://t.co/T9fOhiVRsO', 'https://t.co/hwP78OohY3', 'debt?', 'skittle', 'executed,', 'https://t.co/Z2YEM4u3FO', '@Carolinecxleman:', 'https://t.co/0TLEldyim1', '@JamwalNidhi', '.@DFO_MPO', '@Mark_Neilg', 'disavows', 'temperatures......\\nWhile', 'esp.,', \"future'-https://t.co/raU8teCUS3\", 'comparison', 'voxdotcom\\n#Trump2016\\nhttps://t', 'occuring?', 'behave', 'https://t.co/UpwqCN', '@sashclements:', 'tans.', \"piracy'\", 'MYTH:', 'https://t.co/lXPyDGA16u', 'it!!', 'Ostriches', '@EhrenKassam:', '#NDPldr', 'story.', 'vegan.\\n#climate', 'Albertans', 'https://t.co/4FAlHrgX1C', '@ComedyPics:', '@CallForClimate:', 'carrot', 'ultra', '#Jobs.\\nhttps://t.co/rW0x9jSdNU']\n"
     ]
    }
   ],
   "source": [
    "rare_words = [k for k, v in label['all'].items() if v==1] \n",
    "print(rare_words[:100])"
   ]
  },
  {
   "cell_type": "code",
   "execution_count": 111,
   "id": "aaf94e15-dd10-4215-94ba-68f7130c626d",
   "metadata": {
    "collapsed": true,
    "jupyter": {
     "outputs_hidden": true,
     "source_hidden": true
    },
    "tags": []
   },
   "outputs": [
    {
     "name": "stdout",
     "output_type": "stream",
     "text": [
      "2580\n",
      "211652\n"
     ]
    }
   ],
   "source": [
    "print(len([v for v in label['all'].values() if v >= 10]))\n",
    "occurs_more_than_10_times = sum([v for v in label['all'].values() if v >= 10])\n",
    "print(occurs_more_than_10_times)"
   ]
  },
  {
   "cell_type": "code",
   "execution_count": 112,
   "id": "06c106a0-b53c-44d7-965f-7b95ee69205b",
   "metadata": {
    "collapsed": true,
    "jupyter": {
     "outputs_hidden": true,
     "source_hidden": true
    },
    "tags": []
   },
   "outputs": [
    {
     "name": "stdout",
     "output_type": "stream",
     "text": [
      "0.7589847307987463\n"
     ]
    }
   ],
   "source": [
    "print(occurs_more_than_10_times/total_words)"
   ]
  },
  {
   "cell_type": "code",
   "execution_count": 113,
   "id": "79f95f84-40de-4b8d-b023-d09752486a17",
   "metadata": {
    "jupyter": {
     "source_hidden": true
    },
    "tags": []
   },
   "outputs": [],
   "source": [
    "max_count = 10\n",
    "remaining_word_index = [k for k, v in label['all'].items() if v > max_count]"
   ]
  },
  {
   "cell_type": "code",
   "execution_count": null,
   "id": "e36b2885-189b-40ac-852f-af1ea2763cb5",
   "metadata": {
    "jupyter": {
     "source_hidden": true
    },
    "tags": []
   },
   "outputs": [],
   "source": [
    "hm = []\n",
    "for p, p_bow in label.items():\n",
    "    df_bow = pd.DataFrame([(k, v) for k, v in p_bow.items() if k in remaining_word_index], columns=['Word', p])\n",
    "    df_bow.set_index('Word', inplace=True)\n",
    "    hm.append(df_bow)\n",
    "\n",
    "# create one big dataframe\n",
    "df_bow = pd.concat(hm, axis=1)\n",
    "df_bow.fillna(0, inplace=True)"
   ]
  },
  {
   "cell_type": "code",
   "execution_count": null,
   "id": "9257ec74-2c46-416f-8d00-a3ddda70fed3",
   "metadata": {
    "collapsed": true,
    "jupyter": {
     "outputs_hidden": true,
     "source_hidden": true
    },
    "tags": []
   },
   "outputs": [
    {
     "data": {
      "text/html": [
       "<div>\n",
       "<style scoped>\n",
       "    .dataframe tbody tr th:only-of-type {\n",
       "        vertical-align: middle;\n",
       "    }\n",
       "\n",
       "    .dataframe tbody tr th {\n",
       "        vertical-align: top;\n",
       "    }\n",
       "\n",
       "    .dataframe thead th {\n",
       "        text-align: right;\n",
       "    }\n",
       "</style>\n",
       "<table border=\"1\" class=\"dataframe\">\n",
       "  <thead>\n",
       "    <tr style=\"text-align: right;\">\n",
       "      <th></th>\n",
       "      <th>1</th>\n",
       "      <th>2</th>\n",
       "      <th>0</th>\n",
       "      <th>-1</th>\n",
       "      <th>all</th>\n",
       "    </tr>\n",
       "    <tr>\n",
       "      <th>Word</th>\n",
       "      <th></th>\n",
       "      <th></th>\n",
       "      <th></th>\n",
       "      <th></th>\n",
       "      <th></th>\n",
       "    </tr>\n",
       "  </thead>\n",
       "  <tbody>\n",
       "    <tr>\n",
       "      <th>EPA</th>\n",
       "      <td>191.0</td>\n",
       "      <td>227.0</td>\n",
       "      <td>15.0</td>\n",
       "      <td>12.0</td>\n",
       "      <td>445</td>\n",
       "    </tr>\n",
       "    <tr>\n",
       "      <th>chief</th>\n",
       "      <td>56.0</td>\n",
       "      <td>83.0</td>\n",
       "      <td>4.0</td>\n",
       "      <td>2.0</td>\n",
       "      <td>145</td>\n",
       "    </tr>\n",
       "    <tr>\n",
       "      <th>doesn't</th>\n",
       "      <td>689.0</td>\n",
       "      <td>21.0</td>\n",
       "      <td>47.0</td>\n",
       "      <td>18.0</td>\n",
       "      <td>775</td>\n",
       "    </tr>\n",
       "    <tr>\n",
       "      <th>think</th>\n",
       "      <td>220.0</td>\n",
       "      <td>15.0</td>\n",
       "      <td>81.0</td>\n",
       "      <td>27.0</td>\n",
       "      <td>343</td>\n",
       "    </tr>\n",
       "    <tr>\n",
       "      <th>carbon</th>\n",
       "      <td>82.0</td>\n",
       "      <td>62.0</td>\n",
       "      <td>11.0</td>\n",
       "      <td>13.0</td>\n",
       "      <td>168</td>\n",
       "    </tr>\n",
       "  </tbody>\n",
       "</table>\n",
       "</div>"
      ],
      "text/plain": [
       "             1      2     0    -1  all\n",
       "Word                                  \n",
       "EPA      191.0  227.0  15.0  12.0  445\n",
       "chief     56.0   83.0   4.0   2.0  145\n",
       "doesn't  689.0   21.0  47.0  18.0  775\n",
       "think    220.0   15.0  81.0  27.0  343\n",
       "carbon    82.0   62.0  11.0  13.0  168"
      ]
     },
     "execution_count": 115,
     "metadata": {},
     "output_type": "execute_result"
    }
   ],
   "source": [
    "df_bow"
   ]
  },
  {
   "cell_type": "code",
   "execution_count": 66,
   "id": "af74df84-3807-4727-9b73-09ee01207eac",
   "metadata": {
    "jupyter": {
     "source_hidden": true
    },
    "tags": []
   },
   "outputs": [],
   "source": [
    "def feature_selection(data, column_name):\n",
    "    type_labels = data[column_name].unique()\n",
    "    labels = {}\n",
    "    for s in type_labels:\n",
    "        data = data.groupby(column_name)\n",
    "        labels[s] = {}\n",
    "        for row in df.get_group(s)['tokens']:\n",
    "            personality[pp] = bag_of_words_count(row, personality[pp])"
   ]
  },
  {
   "cell_type": "code",
   "execution_count": 240,
   "id": "a616182c-22f3-41f1-bac3-0e008ac5a1d0",
   "metadata": {},
   "outputs": [
    {
     "name": "stdout",
     "output_type": "stream",
     "text": [
      "today is the best day of my life World food supplies at risk as climate change threatens international trade, warn experts | The Independent | The Independent\n"
     ]
    }
   ],
   "source": [
    "word = handle_weblinks('today is the best day of my life https://t.co/rWCW2XF2lr')\n",
    "# word = remove_stopwords(word)\n",
    "# word = remove_punctuations(word)\n",
    "# word = tokenize(word)\n",
    "# word = transform(word, method='lemma')\n",
    "print(word)"
   ]
  },
  {
   "cell_type": "markdown",
   "id": "3fa93ec6",
   "metadata": {
    "tags": []
   },
   "source": [
    "<a id=\"four\"></a>\n",
    "## 4. Data Engineering\n",
    "<a class=\"anchor\" id=\"1.1\"></a>\n",
    "<a href=#cont>Back to Table of Contents</a>\n",
    "\n",
    "---\n",
    "    \n",
    "| ⚡ Description: Data engineering ⚡ |\n",
    "| :--------------------------- |\n",
    "| In this section we will: clean the dataset, and possibly create new features - as identified in the EDA phase. |\n",
    "\n",
    "---"
   ]
  },
  {
   "cell_type": "markdown",
   "id": "1aadd564-580e-4c8b-820d-ebd714fd5f71",
   "metadata": {},
   "source": [
    "### What is Data Engineering?\n",
    "\n",
    "- Data engineering is the process of creating features that allow machine learning algorithms to work utilizing domain knowledge of the data. Feature engineering is both difficult and expensive, but it is essential to the application of machine learning."
   ]
  },
  {
   "cell_type": "markdown",
   "id": "fadb34a3-c541-4961-bdb0-46adf320f827",
   "metadata": {},
   "source": [
    "#### Our Mission\n",
    "\n",
    "- [X] Extract titles from Urls and incorporate findings into our data\n",
    "\n",
    "- [X] Remove Stopwords\n",
    "\n",
    "- [X] Remove hashtags and @usernames\n",
    "\n",
    "- [X] Remove Punctuations\n",
    "\n",
    "- [X] Tokenize text data\n",
    "\n",
    "- [ ] Transform data(by stemming or lemmatizing)\n",
    "\n",
    "- [ ] Vectorize data without resampling(by bag of words, countvectorizer or tfidfvectorizer)\n",
    "\n",
    "- [ ] Vectorize data with resampling(by bag of words, countvectorizer or tfidfvectorizer)"
   ]
  },
  {
   "cell_type": "markdown",
   "id": "981722dc-935f-49b7-a527-2dc37ab093db",
   "metadata": {},
   "source": [
    "1. ###  Extracting Titles for Urls"
   ]
  },
  {
   "cell_type": "markdown",
   "id": "774475b8-9b50-4f41-a761-b1e4c754d78a",
   "metadata": {},
   "source": [
    "To achieve this goal, we will need to create a few functions for a cleaner process"
   ]
  },
  {
   "cell_type": "markdown",
   "id": "ce94f708-8b27-4c11-8c34-f6310262b69b",
   "metadata": {},
   "source": [
    "In this section, we will extract the urls from the tweets and scrape the title from the webpage the url links to and then replace url with the title of the webpage to give the tweet message more context"
   ]
  },
  {
   "cell_type": "markdown",
   "id": "b628343f-58d6-4862-a24d-698186243c44",
   "metadata": {},
   "source": [
    "There are cases where the tweet made and the title of the url extracted from the tweet are the same. This is a problem because the end goal of the extraction and handling of the url is to replace the url with the scraped title of the website, and with the tweet and the message being similar, it will lead to duplication of tweet message which will blow up the count of some words in the long run."
   ]
  },
  {
   "cell_type": "markdown",
   "id": "bc93f30a-18d3-4e04-8e78-d65fb5b1b8d4",
   "metadata": {},
   "source": [
    "Let us look at an example: for tweet indexed 14551"
   ]
  },
  {
   "cell_type": "code",
   "execution_count": 28,
   "id": "43a2af91-d814-4016-af57-42c25ab9a0a9",
   "metadata": {},
   "outputs": [
    {
     "name": "stdout",
     "output_type": "stream",
     "text": [
      "In rare move, China criticizes Trump plan to exit climate change pact https://t.co/svDExQ7mlA via @Reuters\n"
     ]
    }
   ],
   "source": [
    "tweet = df_copy.message[14551]\n",
    "print(tweet)"
   ]
  },
  {
   "cell_type": "code",
   "execution_count": 29,
   "id": "fef84121-147d-4a67-bc2f-b97c5a78e6ea",
   "metadata": {},
   "outputs": [
    {
     "name": "stdout",
     "output_type": "stream",
     "text": [
      "['https://t.co/svDExQ7mlA']\n"
     ]
    }
   ],
   "source": [
    "match = re.findall(pattern_url, tweet)\n",
    "print(match)"
   ]
  },
  {
   "cell_type": "code",
   "execution_count": 30,
   "id": "21f710a4-14aa-4ab2-8f2f-f0ee5d83137e",
   "metadata": {},
   "outputs": [
    {
     "name": "stdout",
     "output_type": "stream",
     "text": [
      "In rare move, China criticizes Trump plan to exit climate change pact | Reuters\n"
     ]
    }
   ],
   "source": [
    "for url in match:\n",
    "    response = requests.get(url,verify=False)\n",
    "    soup = BeautifulSoup(response.text, 'html.parser')\n",
    "    for title in soup.find_all('title'):\n",
    "        print(title.get_text())"
   ]
  },
  {
   "cell_type": "markdown",
   "id": "3c158c27-25a8-45dc-b29c-1508bb08bab3",
   "metadata": {},
   "source": [
    "As we can see, the title is exactly the same as the message in the tweet. We do not want this to happen. To handle this problem, we will create a function that checks the similarity between the tweet message and the title from the url. Given a threshold, at about 40%, if the similarity between both texts is greater than or equal to the threshold, the url in the tweet message is replaced with _facturl_."
   ]
  },
  {
   "cell_type": "code",
   "execution_count": 139,
   "id": "7ac19a4e-d39d-4d98-bb5e-0f99a7ab596a",
   "metadata": {},
   "outputs": [],
   "source": [
    "def check_title_similarity(text, title):\n",
    "    \"\"\"\n",
    "    This function checks the similarity between\n",
    "    the tweet message and the title scraped from\n",
    "    the url link.\n",
    "    \"\"\"\n",
    "    text = text.split(\" \")\n",
    "    title = title.split(\" \")\n",
    "    text_counter = set()\n",
    "    title = set(title)\n",
    "    \n",
    "    for txt in title:\n",
    "        if txt in text:\n",
    "            text_counter.add(txt)\n",
    "    \n",
    "    perc_similarity = (len(text_counter)/len(title))*100\n",
    "    \n",
    "    return perc_similarity"
   ]
  },
  {
   "cell_type": "code",
   "execution_count": 14,
   "id": "ac460771-4d6c-48a9-afc6-a35fe47701bb",
   "metadata": {},
   "outputs": [],
   "source": [
    "def extract(url):\n",
    "    url_titles = []\n",
    "    try:\n",
    "        try:\n",
    "            response = requests.get(url,verify=False, timeout=15)\n",
    "\n",
    "        except:\n",
    "            url = 'https://www.google.com'\n",
    "\n",
    "        finally:\n",
    "            response = requests.get(url,verify=False)\n",
    "            soup = BeautifulSoup(response.text, 'html.parser')\n",
    "            for title in soup.find_all('title'):\n",
    "                if title:\n",
    "                    return title.get_text()\n",
    "                else:\n",
    "                    return (\"\")\n",
    "    except:\n",
    "        pass"
   ]
  },
  {
   "cell_type": "markdown",
   "id": "abef493b-b837-4114-91fd-011462bcb7a3",
   "metadata": {},
   "source": [
    "Due to the size of our dataset, it will be difficult and computationally expensive to extract the urls from the tweets and get the url info and extract the title of the web page the url links to. That doesn't sound too difficult, but for a dataset in the tens of thousands, it is massively difficult especially on an average pc.\n",
    "\n",
    "To help us with this problem, we employ the services of __multithreading__. A brief introduction into this concept will only be proper."
   ]
  },
  {
   "cell_type": "markdown",
   "id": "8273bca8-3599-47b4-a956-a47d50f5f45c",
   "metadata": {},
   "source": [
    "**What is Multithreading?**\n",
    "\n",
    "- Multithreading is a popular Python technique that allows numerous jobs to run at the same time. Multithreading, in simple terms, is the ability of a processor to run many [threads](https://www.scaler.com/topics/multithreading-in-python) at the same time. \n",
    "\n",
    "Another concept of note is a concept called **[multiprocessing](https://www.scaler.com/topics/multithreading-in-python)** click on the link to read more.\n",
    "\n",
    "We are going to be making use of the package `concurrent.futures`, it already exists in python's standard library so you do not need to install it."
   ]
  },
  {
   "cell_type": "code",
   "execution_count": 15,
   "id": "1e889330-cf05-4a04-90e9-888f904db547",
   "metadata": {},
   "outputs": [],
   "source": [
    "def download_titles(urls):\n",
    "    import concurrent.futures\n",
    "    titles = []\n",
    "    MAX_THREADS = 30\n",
    "    start = time.perf_counter()\n",
    "    \n",
    "    threads = min(MAX_THREADS, len(urls))\n",
    "    \n",
    "    with concurrent.futures.ThreadPoolExecutor(max_workers=threads) as executor:\n",
    "        title = executor.map(extract, urls)\n",
    "        for i, tit in enumerate(title):\n",
    "            titles.append(tit)\n",
    "            print(i, tit)\n",
    "            \n",
    "    end = time.perf_counter() - start\n",
    "    \n",
    "    print(f\"done {len(urls)} in {end} secs\")\n",
    "    \n",
    "    return titles"
   ]
  },
  {
   "cell_type": "markdown",
   "id": "e7a47513-91a3-4c09-b02f-80eeaf868e9b",
   "metadata": {},
   "source": [
    "We have created a function above called `download_titles` which makes use of python's multithreading which maps the `extract` function over each url in a list of urls"
   ]
  },
  {
   "cell_type": "markdown",
   "id": "8b344a94-3e0c-4025-a311-04c3abd5fb3e",
   "metadata": {},
   "source": [
    "Below, we create a function to extract the urls from the `message` column"
   ]
  },
  {
   "cell_type": "code",
   "execution_count": 27,
   "id": "8abc7462-f9e1-4625-a3ed-843a9c5fdc32",
   "metadata": {},
   "outputs": [],
   "source": [
    "def extract_urls(arr):\n",
    "\n",
    "    urls = []\n",
    "    count = 0\n",
    "    start = time.perf_counter()\n",
    "    \n",
    "    for m in arr:\n",
    "        pattern_url = r'http[s]?://(?:[A-Za-z]|[0-9]|[$-_@.&+]|[!*\\(\\),]|(?:%[0-9A-Fa-f][0-9A-Fa-f]))+'\n",
    "        match = re.search(pattern_url, m)\n",
    "        \n",
    "        if match is not None:\n",
    "            urls.append(match.group())\n",
    "            \n",
    "        else:\n",
    "            urls.append(None)\n",
    "            \n",
    "        count += 1\n",
    "        \n",
    "    tots = time.perf_counter() - start\n",
    "    \n",
    "    return urls"
   ]
  },
  {
   "cell_type": "code",
   "execution_count": 29,
   "id": "6106b8d4-4b48-4238-823f-428ba04ec942",
   "metadata": {},
   "outputs": [],
   "source": [
    "messages = np.array(df['message'])\n",
    "url_list = extract_urls(messages)"
   ]
  },
  {
   "cell_type": "markdown",
   "id": "bb6765d6-5846-40c0-8e7b-f186b85f7959",
   "metadata": {},
   "source": [
    "The code below calls the `download_titles` function and stores the downloaded titles in a titles variable. \n",
    "\n",
    "**Warning:** this bit practically took about an hour and three quarters to execute, don't believe me? here's proof; [done **15819** jobs in **5746.6804334 secs**  that is about **1 hour, 40 mins**]. \n",
    "\n",
    "Still don't believe me? grab a cup of coffee, some snacks and turn on Netflix to your favorite show and have at it, because it is going to take that long. \n",
    "\n",
    "Well... except your machine is way better than mine ...and i bet it is."
   ]
  },
  {
   "cell_type": "code",
   "execution_count": 31,
   "id": "e4c44e8a-d36a-42fb-b13c-780abc5a2192",
   "metadata": {},
   "outputs": [],
   "source": [
    "# titles = download_titles(url_list)\n",
    "\n",
    "# titles"
   ]
  },
  {
   "cell_type": "markdown",
   "id": "27e7164e-f967-4a96-b2bb-4e411c2011b6",
   "metadata": {},
   "source": [
    "The result of the above code has been saved into a CSV file as `titles.csv` and can be read in for ease of use."
   ]
  },
  {
   "cell_type": "code",
   "execution_count": 85,
   "id": "2873890d-cfe3-4dfe-ac52-9a480ddc9da8",
   "metadata": {},
   "outputs": [
    {
     "data": {
      "text/html": [
       "<div>\n",
       "<style scoped>\n",
       "    .dataframe tbody tr th:only-of-type {\n",
       "        vertical-align: middle;\n",
       "    }\n",
       "\n",
       "    .dataframe tbody tr th {\n",
       "        vertical-align: top;\n",
       "    }\n",
       "\n",
       "    .dataframe thead th {\n",
       "        text-align: right;\n",
       "    }\n",
       "</style>\n",
       "<table border=\"1\" class=\"dataframe\">\n",
       "  <thead>\n",
       "    <tr style=\"text-align: right;\">\n",
       "      <th></th>\n",
       "      <th>Unnamed: 0</th>\n",
       "      <th>0</th>\n",
       "    </tr>\n",
       "  </thead>\n",
       "  <tbody>\n",
       "    <tr>\n",
       "      <th>0</th>\n",
       "      <td>0</td>\n",
       "      <td>EPA chief denies carbon dioxide is main cause ...</td>\n",
       "    </tr>\n",
       "    <tr>\n",
       "      <th>1</th>\n",
       "      <td>1</td>\n",
       "      <td>Google</td>\n",
       "    </tr>\n",
       "    <tr>\n",
       "      <th>2</th>\n",
       "      <td>2</td>\n",
       "      <td>Google</td>\n",
       "    </tr>\n",
       "    <tr>\n",
       "      <th>3</th>\n",
       "      <td>3</td>\n",
       "      <td>2016 Was a Pivotal Year in the War on Climate ...</td>\n",
       "    </tr>\n",
       "    <tr>\n",
       "      <th>4</th>\n",
       "      <td>4</td>\n",
       "      <td>Google</td>\n",
       "    </tr>\n",
       "  </tbody>\n",
       "</table>\n",
       "</div>"
      ],
      "text/plain": [
       "   Unnamed: 0                                                  0\n",
       "0           0  EPA chief denies carbon dioxide is main cause ...\n",
       "1           1                                             Google\n",
       "2           2                                             Google\n",
       "3           3  2016 Was a Pivotal Year in the War on Climate ...\n",
       "4           4                                             Google"
      ]
     },
     "execution_count": 85,
     "metadata": {},
     "output_type": "execute_result"
    }
   ],
   "source": [
    "titles = pd.read_csv('titles.csv')\n",
    "\n",
    "titles.head()"
   ]
  },
  {
   "cell_type": "markdown",
   "id": "6f2cf618-2de5-4426-934d-2224bd807152",
   "metadata": {},
   "source": [
    "Let's clean up a bit"
   ]
  },
  {
   "cell_type": "markdown",
   "id": "1fc94a72-6f73-4bf6-a00c-5f8ac04826ef",
   "metadata": {},
   "source": [
    "- #### Cleaning *titles* dataframe"
   ]
  },
  {
   "cell_type": "markdown",
   "id": "5233fffd-08ea-4de2-b75f-f3077b04a288",
   "metadata": {},
   "source": [
    "We will drop the unwanted column `unnamed:0` because it is merely an index column that came with the file and give the column containing titles a befitting name"
   ]
  },
  {
   "cell_type": "code",
   "execution_count": 86,
   "id": "a1438057-c543-4d40-bdc0-1ff1df6fa73c",
   "metadata": {},
   "outputs": [
    {
     "data": {
      "text/html": [
       "<div>\n",
       "<style scoped>\n",
       "    .dataframe tbody tr th:only-of-type {\n",
       "        vertical-align: middle;\n",
       "    }\n",
       "\n",
       "    .dataframe tbody tr th {\n",
       "        vertical-align: top;\n",
       "    }\n",
       "\n",
       "    .dataframe thead th {\n",
       "        text-align: right;\n",
       "    }\n",
       "</style>\n",
       "<table border=\"1\" class=\"dataframe\">\n",
       "  <thead>\n",
       "    <tr style=\"text-align: right;\">\n",
       "      <th></th>\n",
       "      <th>title</th>\n",
       "    </tr>\n",
       "  </thead>\n",
       "  <tbody>\n",
       "    <tr>\n",
       "      <th>0</th>\n",
       "      <td>EPA chief denies carbon dioxide is main cause ...</td>\n",
       "    </tr>\n",
       "    <tr>\n",
       "      <th>1</th>\n",
       "      <td>Google</td>\n",
       "    </tr>\n",
       "    <tr>\n",
       "      <th>2</th>\n",
       "      <td>Google</td>\n",
       "    </tr>\n",
       "    <tr>\n",
       "      <th>3</th>\n",
       "      <td>2016 Was a Pivotal Year in the War on Climate ...</td>\n",
       "    </tr>\n",
       "    <tr>\n",
       "      <th>4</th>\n",
       "      <td>Google</td>\n",
       "    </tr>\n",
       "  </tbody>\n",
       "</table>\n",
       "</div>"
      ],
      "text/plain": [
       "                                               title\n",
       "0  EPA chief denies carbon dioxide is main cause ...\n",
       "1                                             Google\n",
       "2                                             Google\n",
       "3  2016 Was a Pivotal Year in the War on Climate ...\n",
       "4                                             Google"
      ]
     },
     "execution_count": 86,
     "metadata": {},
     "output_type": "execute_result"
    }
   ],
   "source": [
    "titles.drop('Unnamed: 0', axis=1, inplace=True)\n",
    "titles.columns = ['title']\n",
    "\n",
    "titles.head()"
   ]
  },
  {
   "cell_type": "markdown",
   "id": "53a3e030-fbce-4887-8419-82b012ed9ed0",
   "metadata": {},
   "source": [
    "That looks better"
   ]
  },
  {
   "cell_type": "markdown",
   "id": "5dc81629-7eb8-44c9-a145-0d59bb426941",
   "metadata": {},
   "source": [
    "*Google* is only a placeholder for links that lead nowhere or have restrictions and will not be treated as text of interest but remove."
   ]
  },
  {
   "cell_type": "markdown",
   "id": "9a00cdf9-3e57-49ee-987a-22598db11891",
   "metadata": {},
   "source": [
    "There are some rows with invalid data or website error messages such *404 Not Found* etc. We have a list of titles to remove and are stored in `titles.txt` file. Let's read that in."
   ]
  },
  {
   "cell_type": "code",
   "execution_count": 48,
   "id": "bcb083e3-2ad4-481b-bd76-c4787bd287c3",
   "metadata": {},
   "outputs": [
    {
     "data": {
      "text/plain": [
       "['google',\n",
       " 'none',\n",
       " '403 forbidden',\n",
       " 'file not found',\n",
       " 'page not found',\n",
       " '404 not found',\n",
       " '404 page not found',\n",
       " 'twitter',\n",
       " 'youtube',\n",
       " 'scihubbz',\n",
       " 'tco twitter',\n",
       " '500 internal server error',\n",
       " 'short url blocked',\n",
       " 'Sorry something went wrong',\n",
       " 'attention required',\n",
       " 'error',\n",
       " '405 You have been blacklisted',\n",
       " 'not acceptable',\n",
       " 'facebook',\n",
       " 'sciencedirect',\n",
       " 'are you a robot',\n",
       " 'just a moment',\n",
       " 'whoops',\n",
       " 'service unavailable']"
      ]
     },
     "execution_count": 48,
     "metadata": {},
     "output_type": "execute_result"
    }
   ],
   "source": [
    "with open('titles.txt', 'r') as file:\n",
    "    bad_titles = file.readlines()\n",
    "    file.close()\n",
    "    \n",
    "bad_titles = [w.replace('\\n', '') for w in bad_titles]\n",
    "bad_titles"
   ]
  },
  {
   "cell_type": "code",
   "execution_count": 91,
   "id": "059a0159-b1a2-438a-8970-26b5ae4512e3",
   "metadata": {},
   "outputs": [],
   "source": [
    "titles.fillna('google', inplace=True)"
   ]
  },
  {
   "cell_type": "markdown",
   "id": "b02fea6b-0fc4-4d0d-b0c4-67ee6209b5eb",
   "metadata": {},
   "source": [
    "Again, 'google' is just a placeholder"
   ]
  },
  {
   "cell_type": "markdown",
   "id": "f870ed98-dad6-47b6-a4d0-622fbca1067a",
   "metadata": {},
   "source": [
    "Next, we will remove punctuations from our `titles` dataframe, employing the use of the `remove_punctuation` function"
   ]
  },
  {
   "cell_type": "code",
   "execution_count": 70,
   "id": "e9acb7ed-ef3a-4e0b-b770-9d22f980671a",
   "metadata": {},
   "outputs": [],
   "source": [
    "def remove_punctuations(text):\n",
    "    import re\n",
    "    # using regex to remove punctuations\n",
    "    text = re.sub(r'[^\\w\\s]', '', text)\n",
    "    \n",
    "    return text"
   ]
  },
  {
   "cell_type": "code",
   "execution_count": 93,
   "id": "f43a927b-f133-4f40-88df-c4d83c6c9b97",
   "metadata": {},
   "outputs": [],
   "source": [
    "titles['title'] = titles['title'].apply_parallel(remove_punctuations)"
   ]
  },
  {
   "cell_type": "markdown",
   "id": "4042e627-848e-4605-8dad-f127b896a3dd",
   "metadata": {},
   "source": [
    "Now, Let's remove those bad titles.\n",
    "\n",
    "We will approach this by using the `*.__contains__*` string class method"
   ]
  },
  {
   "cell_type": "code",
   "execution_count": 113,
   "id": "8e381b33-0f04-4e78-aa06-cd86ab0c79d5",
   "metadata": {},
   "outputs": [],
   "source": [
    "def remove_bad_titles(title, remove_titles=bad_titles):\n",
    "    title = title.lower()\n",
    "    title = title.strip()\n",
    "    for bt in remove_titles:\n",
    "        if title.__contains__(bt):\n",
    "            split_title = title.split(bt)\n",
    "            title = \"\".join(split_title)\n",
    "    \n",
    "    return title"
   ]
  },
  {
   "cell_type": "code",
   "execution_count": 114,
   "id": "3b0aa04b-b066-49f5-9ceb-467f226c80ca",
   "metadata": {},
   "outputs": [],
   "source": [
    "titles['title'] = titles['title'].apply_parallel(remove_bad_titles)"
   ]
  },
  {
   "cell_type": "code",
   "execution_count": 116,
   "id": "45734b43-4f55-48a7-abae-2ee157694523",
   "metadata": {},
   "outputs": [
    {
     "data": {
      "text/plain": [
       "0    epa chief denies carbon dioxide is main cause ...\n",
       "1                                                     \n",
       "2                                                     \n",
       "3    2016 was a pivotal year in the war on climate ...\n",
       "4                                                     \n",
       "Name: title, dtype: object"
      ]
     },
     "execution_count": 116,
     "metadata": {},
     "output_type": "execute_result"
    }
   ],
   "source": [
    "titles['title'].head()"
   ]
  },
  {
   "cell_type": "markdown",
   "id": "9233fece-6e59-4e9f-85f4-c5fdddb02c2c",
   "metadata": {},
   "source": [
    "Okay! everything is looking good thus far"
   ]
  },
  {
   "cell_type": "markdown",
   "id": "e7d37f14-4264-43e8-b23b-0b5bdab1db07",
   "metadata": {},
   "source": [
    "- #### Merge tweet messages with extracted titles"
   ]
  },
  {
   "cell_type": "markdown",
   "id": "2cf8a140-c387-4956-866e-1a58ef2a347e",
   "metadata": {},
   "source": [
    "Next, lets merge these titles to our tweet messages"
   ]
  },
  {
   "cell_type": "code",
   "execution_count": 159,
   "id": "b1f71845-e930-45ea-b3fc-4bef900c82eb",
   "metadata": {},
   "outputs": [],
   "source": [
    "def merge_msg(main_df, main_col, title_df, title_col):\n",
    "    rows = []\n",
    "    \n",
    "    for i in range(len(title_df)):\n",
    "        if check_title_similarity(main_df[main_col][i], title_df[title_col][i]) >= 30:\n",
    "            rows.append(main_df[main_col][i])\n",
    "        else:\n",
    "            rows.append(main_df[main_col][i] +' '+ title_df[title_col][i])\n",
    "        \n",
    "    main_df[main_col] = rows\n",
    "    \n",
    "    return main_df"
   ]
  },
  {
   "cell_type": "code",
   "execution_count": null,
   "id": "1be7eed2-3f62-4b86-b6dd-56ab80bdf2bb",
   "metadata": {},
   "outputs": [],
   "source": [
    "df = merge_msg(df, 'message', titles, 'title')"
   ]
  },
  {
   "cell_type": "code",
   "execution_count": 176,
   "id": "956b993e-6cfc-46e2-b1e7-c6508feb98b6",
   "metadata": {},
   "outputs": [
    {
     "data": {
      "text/plain": [
       "array([[1,\n",
       "        \"polyscimajor epa chief doesn't think carbon dioxide is main cause of global warming and.. wait, what!?  via @mashable\",\n",
       "        625221],\n",
       "       [1,\n",
       "        \"it's not like we lack evidence of anthropogenic global warming\",\n",
       "        126103],\n",
       "       [2,\n",
       "        'rt @rawstory: researchers say we have three years to act on climate change before its too late',\n",
       "        698562],\n",
       "       [1,\n",
       "        '#todayinmaker# wired : 2016 was a pivotal year in the war on climate change',\n",
       "        573736],\n",
       "       [1,\n",
       "        \"rt @soynoviodetodas: it's 2016, and a racist, sexist, climate change denying bigot is leading in the polls. #electionnight\",\n",
       "        466954]], dtype=object)"
      ]
     },
     "execution_count": 176,
     "metadata": {},
     "output_type": "execute_result"
    }
   ],
   "source": [
    "df.head().to_numpy()"
   ]
  },
  {
   "cell_type": "markdown",
   "id": "42140254-5ae8-40c3-8b1f-9849fa38b014",
   "metadata": {},
   "source": [
    "It is evident that there has been a successful merger.\n",
    "\n",
    "Next we remove the links in each message as we have already extracted information from the useful ones"
   ]
  },
  {
   "cell_type": "markdown",
   "id": "7da45c54-e995-4849-a107-d254816f185e",
   "metadata": {},
   "source": [
    "- #### Remove web links from text"
   ]
  },
  {
   "cell_type": "code",
   "execution_count": 172,
   "id": "c0d7f2ed-c889-44d7-b045-b03a17a0a670",
   "metadata": {},
   "outputs": [],
   "source": [
    "def handle_weblinks(text):\n",
    "    import re\n",
    "    pattern_url = r'http[s]?://(?:[A-Za-z]|[0-9]|[$-_@.&+]|[!*\\(\\),]|(?:%[0-9A-Fa-f][0-9A-Fa-f]))+'\n",
    "    match = re.findall(pattern_url, text)\n",
    "    \n",
    "    for sub in match:\n",
    "        text = re.sub(pattern_url, '', text)\n",
    "    \n",
    "    return text.strip().lower()"
   ]
  },
  {
   "cell_type": "code",
   "execution_count": 173,
   "id": "0e4dbe7a-4b30-4429-a86f-0a5c84d0ceed",
   "metadata": {},
   "outputs": [],
   "source": [
    "df['message'] = df['message'].apply_parallel(handle_weblinks)"
   ]
  },
  {
   "cell_type": "code",
   "execution_count": 174,
   "id": "e2235617-f5f3-46dc-828a-98982e884bf8",
   "metadata": {},
   "outputs": [
    {
     "data": {
      "text/plain": [
       "array([\"polyscimajor epa chief doesn't think carbon dioxide is main cause of global warming and.. wait, what!?  via @mashable\",\n",
       "       \"it's not like we lack evidence of anthropogenic global warming\",\n",
       "       'rt @rawstory: researchers say we have three years to act on climate change before its too late',\n",
       "       '#todayinmaker# wired : 2016 was a pivotal year in the war on climate change',\n",
       "       \"rt @soynoviodetodas: it's 2016, and a racist, sexist, climate change denying bigot is leading in the polls. #electionnight\",\n",
       "       \"worth a read whether you do or don't believe in climate change   how to teach kids about climate change where most parents are skeptics  the washington post\",\n",
       "       'rt @thenation: mike pence doesnt believe in global warming or that smoking causes lung cancer.  the nation',\n",
       "       'rt @makeandmendlife: six big things we can all do today to fight climate change, or how to be a climate activist  h sustainableish',\n",
       "       '@aceofspadeshq my 8yo nephew is inconsolable. he wants to die of old age like me, but will perish in the fiery hellscape of climate change.',\n",
       "       'rt @paigetweedy: no offense but like how do you just not believe in global warming'],\n",
       "      dtype=object)"
      ]
     },
     "execution_count": 174,
     "metadata": {},
     "output_type": "execute_result"
    }
   ],
   "source": [
    "np.array(df['message'])[:10]"
   ]
  },
  {
   "cell_type": "markdown",
   "id": "b56e233b-950f-4bad-bfb5-fb39f868bb12",
   "metadata": {},
   "source": [
    "Okay! that's done. We have successfully finished the first mission. Hurray!"
   ]
  },
  {
   "cell_type": "markdown",
   "id": "09a9c9c3-d87d-4b22-9c33-acc109d38fb5",
   "metadata": {},
   "source": [
    "- [X] Extract titles from Urls and incorporate findings into our data"
   ]
  },
  {
   "cell_type": "markdown",
   "id": "51c7d048-d35f-4efb-91ed-dd254b063c9c",
   "metadata": {},
   "source": [
    "Next up on our mission is to remove stopwords from our texts"
   ]
  },
  {
   "cell_type": "markdown",
   "id": "62f7a9ef-89cb-49d6-a9ad-3c229d3665f5",
   "metadata": {},
   "source": [
    "2. ###  Remove Stopwords"
   ]
  },
  {
   "cell_type": "markdown",
   "id": "27eed4cf-9af5-409c-ae11-cdbc7e31dee3",
   "metadata": {},
   "source": [
    "#### What are Stopwords?"
   ]
  },
  {
   "cell_type": "markdown",
   "id": "4692e805-651e-469e-bc35-f32d71a2aed9",
   "metadata": {},
   "source": [
    "Stopwords are words that are quite common in human language but are often useless since they represent words like \"the,\" \"of,\" and \"to.\""
   ]
  },
  {
   "cell_type": "markdown",
   "id": "745e0b10-44b9-4614-8f13-744b3e185a7e",
   "metadata": {},
   "source": [
    "Apart from the universally known stopwords, there are words that are perculiar to some industries or particular topics and content that may be regarded as stop words. For instance, in our case where we are dealing with tweets, \"RT\" which stands for \"Retweet\" can be considered a stop word, also @Usernames and #topics may be considered as stopwords.\n",
    "\n",
    "Let's remove these bits of texts from the messages in our dataset"
   ]
  },
  {
   "cell_type": "code",
   "execution_count": 178,
   "id": "e0039b31-092a-40e1-ae28-c967a393592a",
   "metadata": {},
   "outputs": [],
   "source": [
    "def remove_stopwords(text):\n",
    "    text = text.lower()\n",
    "    stop_words = stopwords.words('english')\n",
    "    stop_words.append(\"rt\")\n",
    "    text = \" \".join([word for word in text.split(\" \") if word not in stop_words])\n",
    "    \n",
    "    return text"
   ]
  },
  {
   "cell_type": "code",
   "execution_count": 180,
   "id": "b889dcf4-15a8-40fe-8a21-5d8f4204395d",
   "metadata": {},
   "outputs": [],
   "source": [
    "df['message'] = df['message'].apply(remove_stopwords)"
   ]
  },
  {
   "cell_type": "code",
   "execution_count": 181,
   "id": "a1794b33-b98c-4200-a50c-45771c5bba42",
   "metadata": {},
   "outputs": [
    {
     "data": {
      "text/html": [
       "<div>\n",
       "<style scoped>\n",
       "    .dataframe tbody tr th:only-of-type {\n",
       "        vertical-align: middle;\n",
       "    }\n",
       "\n",
       "    .dataframe tbody tr th {\n",
       "        vertical-align: top;\n",
       "    }\n",
       "\n",
       "    .dataframe thead th {\n",
       "        text-align: right;\n",
       "    }\n",
       "</style>\n",
       "<table border=\"1\" class=\"dataframe\">\n",
       "  <thead>\n",
       "    <tr style=\"text-align: right;\">\n",
       "      <th></th>\n",
       "      <th>sentiment</th>\n",
       "      <th>message</th>\n",
       "      <th>tweetid</th>\n",
       "    </tr>\n",
       "  </thead>\n",
       "  <tbody>\n",
       "    <tr>\n",
       "      <th>0</th>\n",
       "      <td>1</td>\n",
       "      <td>polyscimajor epa chief think carbon dioxide ma...</td>\n",
       "      <td>625221</td>\n",
       "    </tr>\n",
       "    <tr>\n",
       "      <th>1</th>\n",
       "      <td>1</td>\n",
       "      <td>like lack evidence anthropogenic global warming</td>\n",
       "      <td>126103</td>\n",
       "    </tr>\n",
       "    <tr>\n",
       "      <th>2</th>\n",
       "      <td>2</td>\n",
       "      <td>@rawstory: researchers say three years act cli...</td>\n",
       "      <td>698562</td>\n",
       "    </tr>\n",
       "    <tr>\n",
       "      <th>3</th>\n",
       "      <td>1</td>\n",
       "      <td>#todayinmaker# wired : 2016 pivotal year war c...</td>\n",
       "      <td>573736</td>\n",
       "    </tr>\n",
       "    <tr>\n",
       "      <th>4</th>\n",
       "      <td>1</td>\n",
       "      <td>@soynoviodetodas: 2016, racist, sexist, climat...</td>\n",
       "      <td>466954</td>\n",
       "    </tr>\n",
       "  </tbody>\n",
       "</table>\n",
       "</div>"
      ],
      "text/plain": [
       "   sentiment                                            message  tweetid\n",
       "0          1  polyscimajor epa chief think carbon dioxide ma...   625221\n",
       "1          1    like lack evidence anthropogenic global warming   126103\n",
       "2          2  @rawstory: researchers say three years act cli...   698562\n",
       "3          1  #todayinmaker# wired : 2016 pivotal year war c...   573736\n",
       "4          1  @soynoviodetodas: 2016, racist, sexist, climat...   466954"
      ]
     },
     "execution_count": 181,
     "metadata": {},
     "output_type": "execute_result"
    }
   ],
   "source": [
    "df.head()"
   ]
  },
  {
   "cell_type": "markdown",
   "id": "3b3bfd27-3355-4c82-bcca-ca6ac3664c39",
   "metadata": {},
   "source": [
    "- [X] Remove stopwords"
   ]
  },
  {
   "cell_type": "markdown",
   "id": "9c570e62-2813-4978-9bd3-fa8c274f2b1c",
   "metadata": {},
   "source": [
    "3. ###  Remove tagged usernames and hashtags"
   ]
  },
  {
   "cell_type": "code",
   "execution_count": 229,
   "id": "c21ee039-a93a-4168-a5e1-c12b52589cac",
   "metadata": {},
   "outputs": [],
   "source": [
    "def remove_tags(text):\n",
    "    pattern_hash = r'[#@](?:[A-Za-z]|[0-9]|[$-_@.&+#])+'\n",
    "    match = re.findall(pattern_hash, text)\n",
    "    \n",
    "    for sub in match:\n",
    "        text = re.sub(pattern_hash, '', text)\n",
    "\n",
    "    return text.strip()"
   ]
  },
  {
   "cell_type": "code",
   "execution_count": 232,
   "id": "29b9a3a8-80f9-4ce6-b74d-6e8cd1b3c725",
   "metadata": {},
   "outputs": [],
   "source": [
    "df['message'] = df['message'].apply(remove_tags)"
   ]
  },
  {
   "cell_type": "code",
   "execution_count": 233,
   "id": "351396ec-11cc-4718-b14e-15fc0b04a8f0",
   "metadata": {},
   "outputs": [
    {
     "data": {
      "text/html": [
       "<div>\n",
       "<style scoped>\n",
       "    .dataframe tbody tr th:only-of-type {\n",
       "        vertical-align: middle;\n",
       "    }\n",
       "\n",
       "    .dataframe tbody tr th {\n",
       "        vertical-align: top;\n",
       "    }\n",
       "\n",
       "    .dataframe thead th {\n",
       "        text-align: right;\n",
       "    }\n",
       "</style>\n",
       "<table border=\"1\" class=\"dataframe\">\n",
       "  <thead>\n",
       "    <tr style=\"text-align: right;\">\n",
       "      <th></th>\n",
       "      <th>sentiment</th>\n",
       "      <th>message</th>\n",
       "      <th>tweetid</th>\n",
       "    </tr>\n",
       "  </thead>\n",
       "  <tbody>\n",
       "    <tr>\n",
       "      <th>0</th>\n",
       "      <td>1</td>\n",
       "      <td>polyscimajor epa chief think carbon dioxide ma...</td>\n",
       "      <td>625221</td>\n",
       "    </tr>\n",
       "    <tr>\n",
       "      <th>1</th>\n",
       "      <td>1</td>\n",
       "      <td>like lack evidence anthropogenic global warming</td>\n",
       "      <td>126103</td>\n",
       "    </tr>\n",
       "    <tr>\n",
       "      <th>2</th>\n",
       "      <td>2</td>\n",
       "      <td>researchers say three years act climate change...</td>\n",
       "      <td>698562</td>\n",
       "    </tr>\n",
       "    <tr>\n",
       "      <th>3</th>\n",
       "      <td>1</td>\n",
       "      <td>wired : 2016 pivotal year war climate change</td>\n",
       "      <td>573736</td>\n",
       "    </tr>\n",
       "    <tr>\n",
       "      <th>4</th>\n",
       "      <td>1</td>\n",
       "      <td>2016, racist, sexist, climate change denying b...</td>\n",
       "      <td>466954</td>\n",
       "    </tr>\n",
       "  </tbody>\n",
       "</table>\n",
       "</div>"
      ],
      "text/plain": [
       "   sentiment                                            message  tweetid\n",
       "0          1  polyscimajor epa chief think carbon dioxide ma...   625221\n",
       "1          1    like lack evidence anthropogenic global warming   126103\n",
       "2          2  researchers say three years act climate change...   698562\n",
       "3          1       wired : 2016 pivotal year war climate change   573736\n",
       "4          1  2016, racist, sexist, climate change denying b...   466954"
      ]
     },
     "execution_count": 233,
     "metadata": {},
     "output_type": "execute_result"
    }
   ],
   "source": [
    "df.head()"
   ]
  },
  {
   "cell_type": "markdown",
   "id": "619959ee-b2ec-419d-ba35-270e353cf9bb",
   "metadata": {},
   "source": [
    "Next, we will be getting rid of punctuations from out dataset."
   ]
  },
  {
   "cell_type": "markdown",
   "id": "1adc225c-5f2d-471c-91db-84d336a03d86",
   "metadata": {},
   "source": [
    "- [X] Remove usernames and hashtags"
   ]
  },
  {
   "cell_type": "markdown",
   "id": "aa77a0d6-ad6c-4a45-931c-ccef96d971fc",
   "metadata": {},
   "source": [
    "4. ### Remove Punctuations"
   ]
  },
  {
   "cell_type": "markdown",
   "id": "9e3d1a77-eaa7-47f2-8480-4440f5daac4d",
   "metadata": {},
   "source": [
    "Here we will be making use of the `remove_punctuations` function"
   ]
  },
  {
   "cell_type": "code",
   "execution_count": 234,
   "id": "df91652d-aadb-46b4-b787-787081dae60f",
   "metadata": {},
   "outputs": [],
   "source": [
    "df['message'] = df['message'].apply(remove_punctuations)"
   ]
  },
  {
   "cell_type": "code",
   "execution_count": 236,
   "id": "afb0740c-699e-439f-a243-241eaef2d29a",
   "metadata": {},
   "outputs": [
    {
     "data": {
      "text/html": [
       "<div>\n",
       "<style scoped>\n",
       "    .dataframe tbody tr th:only-of-type {\n",
       "        vertical-align: middle;\n",
       "    }\n",
       "\n",
       "    .dataframe tbody tr th {\n",
       "        vertical-align: top;\n",
       "    }\n",
       "\n",
       "    .dataframe thead th {\n",
       "        text-align: right;\n",
       "    }\n",
       "</style>\n",
       "<table border=\"1\" class=\"dataframe\">\n",
       "  <thead>\n",
       "    <tr style=\"text-align: right;\">\n",
       "      <th></th>\n",
       "      <th>sentiment</th>\n",
       "      <th>message</th>\n",
       "      <th>tweetid</th>\n",
       "    </tr>\n",
       "  </thead>\n",
       "  <tbody>\n",
       "    <tr>\n",
       "      <th>0</th>\n",
       "      <td>1</td>\n",
       "      <td>polyscimajor epa chief think carbon dioxide ma...</td>\n",
       "      <td>625221</td>\n",
       "    </tr>\n",
       "    <tr>\n",
       "      <th>1</th>\n",
       "      <td>1</td>\n",
       "      <td>like lack evidence anthropogenic global warming</td>\n",
       "      <td>126103</td>\n",
       "    </tr>\n",
       "    <tr>\n",
       "      <th>2</th>\n",
       "      <td>2</td>\n",
       "      <td>researchers say three years act climate change...</td>\n",
       "      <td>698562</td>\n",
       "    </tr>\n",
       "    <tr>\n",
       "      <th>3</th>\n",
       "      <td>1</td>\n",
       "      <td>wired  2016 pivotal year war climate change</td>\n",
       "      <td>573736</td>\n",
       "    </tr>\n",
       "    <tr>\n",
       "      <th>4</th>\n",
       "      <td>1</td>\n",
       "      <td>2016 racist sexist climate change denying bigo...</td>\n",
       "      <td>466954</td>\n",
       "    </tr>\n",
       "  </tbody>\n",
       "</table>\n",
       "</div>"
      ],
      "text/plain": [
       "   sentiment                                            message  tweetid\n",
       "0          1  polyscimajor epa chief think carbon dioxide ma...   625221\n",
       "1          1    like lack evidence anthropogenic global warming   126103\n",
       "2          2  researchers say three years act climate change...   698562\n",
       "3          1        wired  2016 pivotal year war climate change   573736\n",
       "4          1  2016 racist sexist climate change denying bigo...   466954"
      ]
     },
     "execution_count": 236,
     "metadata": {},
     "output_type": "execute_result"
    }
   ],
   "source": [
    "df.head()"
   ]
  },
  {
   "cell_type": "markdown",
   "id": "d6a826ee-33cb-4ba8-88e8-f2067143dc34",
   "metadata": {},
   "source": [
    "- [X] Remove punctuations"
   ]
  },
  {
   "cell_type": "markdown",
   "id": "b0da20da-1304-41b4-ac4d-ff41256b7d0a",
   "metadata": {},
   "source": [
    "#### Mission Check Point\n",
    "\n",
    "- [X] Extract titles from Urls and incorporate findings into our data\n",
    "\n",
    "- [X] Remove Stopwords\n",
    "\n",
    "- [X] Remove hashtags and @usernames\n",
    "\n",
    "- [X] Remove Punctuations\n",
    "\n",
    "- [ ] Tokenize text data\n",
    "\n",
    "- [ ] Transform data(by stemming or lemmatizing)\n",
    "\n",
    "- [ ] Vectorize data without resampling(by bag of words, countvectorizer or tfidfvectorizer)\n",
    "\n",
    "- [ ] Vectorize data with resampling(by bag of words, countvectorizer or tfidfvectorizer)"
   ]
  },
  {
   "cell_type": "markdown",
   "id": "a85ccf6f-2d3e-48e5-b512-b31aa1c56dab",
   "metadata": {},
   "source": [
    "Next item on our mission list is to tokenize text data"
   ]
  },
  {
   "cell_type": "markdown",
   "id": "fc06f2a0-cacd-46b1-a00c-83c9f8ff6171",
   "metadata": {},
   "source": [
    "5. ### Tokenize Text Data"
   ]
  },
  {
   "cell_type": "markdown",
   "id": "3eba0b31-b72a-492e-bf6e-8645f4b4db42",
   "metadata": {},
   "source": [
    "Tokenization is the most primary step in any natural language processing model because machines cannot comprehend the language as it is, it must be transformed to numbers, which is where tokenization comes in handy. Tokenization is the process of breaking down sentences into words.\n",
    "\n",
    "This appears straightforward, but there are a few drawbacks, mostly because we want to map each token to a number, and the size and meaning of the resulting mapping is vital for Machine Learning tasks."
   ]
  },
  {
   "cell_type": "markdown",
   "id": "7e4722ad-a808-4d81-b790-b5b37fed232a",
   "metadata": {},
   "source": [
    "There are a few tokenizers available, but for this program, we will be making use of the `TreebankWordTokenizer()`"
   ]
  },
  {
   "cell_type": "code",
   "execution_count": 237,
   "id": "bccaea9e-54a8-4cab-aff2-5c3db5f00c69",
   "metadata": {},
   "outputs": [],
   "source": [
    "def tokenize(text):\n",
    "    tokenizer = TreebankWordTokenizer()\n",
    "    \n",
    "    return tokenizer.tokenize(text)"
   ]
  },
  {
   "cell_type": "code",
   "execution_count": 238,
   "id": "800df2c0-da78-418f-830a-f20a7f7e98b2",
   "metadata": {},
   "outputs": [],
   "source": [
    "df['message'] = df['message'].apply(tokenize)"
   ]
  },
  {
   "cell_type": "code",
   "execution_count": 239,
   "id": "76a3be61-4a6d-472e-9c79-239cc40991f8",
   "metadata": {},
   "outputs": [
    {
     "data": {
      "text/html": [
       "<div>\n",
       "<style scoped>\n",
       "    .dataframe tbody tr th:only-of-type {\n",
       "        vertical-align: middle;\n",
       "    }\n",
       "\n",
       "    .dataframe tbody tr th {\n",
       "        vertical-align: top;\n",
       "    }\n",
       "\n",
       "    .dataframe thead th {\n",
       "        text-align: right;\n",
       "    }\n",
       "</style>\n",
       "<table border=\"1\" class=\"dataframe\">\n",
       "  <thead>\n",
       "    <tr style=\"text-align: right;\">\n",
       "      <th></th>\n",
       "      <th>sentiment</th>\n",
       "      <th>message</th>\n",
       "      <th>tweetid</th>\n",
       "    </tr>\n",
       "  </thead>\n",
       "  <tbody>\n",
       "    <tr>\n",
       "      <th>0</th>\n",
       "      <td>1</td>\n",
       "      <td>[polyscimajor, epa, chief, think, carbon, diox...</td>\n",
       "      <td>625221</td>\n",
       "    </tr>\n",
       "    <tr>\n",
       "      <th>1</th>\n",
       "      <td>1</td>\n",
       "      <td>[like, lack, evidence, anthropogenic, global, ...</td>\n",
       "      <td>126103</td>\n",
       "    </tr>\n",
       "    <tr>\n",
       "      <th>2</th>\n",
       "      <td>2</td>\n",
       "      <td>[researchers, say, three, years, act, climate,...</td>\n",
       "      <td>698562</td>\n",
       "    </tr>\n",
       "    <tr>\n",
       "      <th>3</th>\n",
       "      <td>1</td>\n",
       "      <td>[wired, 2016, pivotal, year, war, climate, cha...</td>\n",
       "      <td>573736</td>\n",
       "    </tr>\n",
       "    <tr>\n",
       "      <th>4</th>\n",
       "      <td>1</td>\n",
       "      <td>[2016, racist, sexist, climate, change, denyin...</td>\n",
       "      <td>466954</td>\n",
       "    </tr>\n",
       "  </tbody>\n",
       "</table>\n",
       "</div>"
      ],
      "text/plain": [
       "   sentiment                                            message  tweetid\n",
       "0          1  [polyscimajor, epa, chief, think, carbon, diox...   625221\n",
       "1          1  [like, lack, evidence, anthropogenic, global, ...   126103\n",
       "2          2  [researchers, say, three, years, act, climate,...   698562\n",
       "3          1  [wired, 2016, pivotal, year, war, climate, cha...   573736\n",
       "4          1  [2016, racist, sexist, climate, change, denyin...   466954"
      ]
     },
     "execution_count": 239,
     "metadata": {},
     "output_type": "execute_result"
    }
   ],
   "source": [
    "df.head()"
   ]
  },
  {
   "cell_type": "markdown",
   "id": "f5e0e6fb-f6ee-48e8-8813-558969e8b572",
   "metadata": {},
   "source": [
    "- [X] Token Text Data"
   ]
  },
  {
   "cell_type": "markdown",
   "id": "c91ce8df-bc7e-4e96-a3db-e0d316680570",
   "metadata": {},
   "source": [
    "6. ### Transform data(by stemming or lemmatizing)"
   ]
  },
  {
   "cell_type": "markdown",
   "id": "a3a22b87-b384-47f0-9c4e-25f4abe98e94",
   "metadata": {},
   "source": [
    "**Stemming** is the process of stripping a word of its suffix and reducing it to its underlying term.\n",
    "\n",
    "For example: “Flying” is a word and its suffix is “ing”, if we remove “ing” from “Flying” then we will get base word or root word which is “Fly”. Read more about stemming [here](https://medium.com/@tusharsri/nlp-a-quick-guide-to-stemming-60f1ca5db49e#:~:text=NLP%3A%20A%20quick%20guide%20to%20Stemming%201%20OverStemming.,...%205%20Lancaster%20Stemmmer.%20...%206%20Conclusion.%20)"
   ]
  },
  {
   "cell_type": "markdown",
   "id": "aa3ecc44-07c5-4ffc-a013-f8a5149ad2dd",
   "metadata": {},
   "source": [
    "**Lemmatization** is not very different from **stemming** in that we are trying to reduce a given term to its root word in both stemming and lemmatization. In Natural Language Processing (NLP) and machine learning in general, lemmatization is one of the most used text pre-processing techniques. In the stemming process, the root word is termed a stem, and in the lemmatization process, it is called a lemma."
   ]
  },
  {
   "cell_type": "markdown",
   "id": "6680cf9f-1228-41b9-b884-0ab7d0bc49ca",
   "metadata": {},
   "source": [
    "#### How do they differ?"
   ]
  },
  {
   "cell_type": "markdown",
   "id": "488e9da3-fa63-441e-9214-f86b028a461e",
   "metadata": {},
   "source": [
    "In stemming, a portion of the word is simply sliced off at the end. Different methods are employed to determine how many letters must be removed, however the algorithms do not understand the meaning of the word in the language it belongs to. The algorithms in lemmatization, on the other hand, have this knowledge. In fact, you could argue that these algorithms consult a dictionary to figure out what a word means before reducing it to its root word, or lemma.\n",
    "As a result, a lemmatization algorithm would recognize that **better** is derived from good, and hence the lemme is **good**.\n",
    "\n",
    "A stemming algorithm, on the other hand, would be unable to do so. Over-stemming or under-stemming may occur, and the term **better** may be shortened to **bet** or **bett**, or simply **preserved as better**. However, there is no way to reduce it to its underlying word excellent by stemming. This is the main distinction between stemming and lemmatization."
   ]
  },
  {
   "cell_type": "code",
   "execution_count": 270,
   "id": "35b4f32d-7fa6-4118-ae17-6d5a98d54101",
   "metadata": {},
   "outputs": [],
   "source": [
    "def transform(text_list, method='stem'):\n",
    "    lemmatizer = WordNetLemmatizer()\n",
    "    stemmer = PorterStemmer()\n",
    "    words = []\n",
    "    if method == 'lemma':\n",
    "        for word in text_list:\n",
    "            word = lemmatizer.lemmatize(word)\n",
    "            words.append(word)\n",
    "\n",
    "    elif method == 'stem':\n",
    "        for word in text_list:\n",
    "            word = stemmer.stem(word)\n",
    "            words.append(word)\n",
    "            \n",
    "    else:\n",
    "        return(f\"ERROR: '{method}' is an unknown transformation method use 'stem' or 'lemma'\")\n",
    "\n",
    "    return words"
   ]
  },
  {
   "cell_type": "code",
   "execution_count": 271,
   "id": "c264631b-ae51-4fa2-8890-3202d7bda714",
   "metadata": {},
   "outputs": [],
   "source": [
    "df['message'] = df['message'].apply(transform)"
   ]
  },
  {
   "cell_type": "code",
   "execution_count": 272,
   "id": "362b2f46-b012-438b-8eb1-d02edfa1faf9",
   "metadata": {},
   "outputs": [
    {
     "data": {
      "text/html": [
       "<div>\n",
       "<style scoped>\n",
       "    .dataframe tbody tr th:only-of-type {\n",
       "        vertical-align: middle;\n",
       "    }\n",
       "\n",
       "    .dataframe tbody tr th {\n",
       "        vertical-align: top;\n",
       "    }\n",
       "\n",
       "    .dataframe thead th {\n",
       "        text-align: right;\n",
       "    }\n",
       "</style>\n",
       "<table border=\"1\" class=\"dataframe\">\n",
       "  <thead>\n",
       "    <tr style=\"text-align: right;\">\n",
       "      <th></th>\n",
       "      <th>sentiment</th>\n",
       "      <th>message</th>\n",
       "      <th>tweetid</th>\n",
       "    </tr>\n",
       "  </thead>\n",
       "  <tbody>\n",
       "    <tr>\n",
       "      <th>0</th>\n",
       "      <td>1</td>\n",
       "      <td>[polyscimajor, epa, chief, think, carbon, diox...</td>\n",
       "      <td>625221</td>\n",
       "    </tr>\n",
       "    <tr>\n",
       "      <th>1</th>\n",
       "      <td>1</td>\n",
       "      <td>[like, lack, evid, anthropogen, global, warm]</td>\n",
       "      <td>126103</td>\n",
       "    </tr>\n",
       "    <tr>\n",
       "      <th>2</th>\n",
       "      <td>2</td>\n",
       "      <td>[research, say, three, year, act, climat, chan...</td>\n",
       "      <td>698562</td>\n",
       "    </tr>\n",
       "    <tr>\n",
       "      <th>3</th>\n",
       "      <td>1</td>\n",
       "      <td>[wire, 2016, pivot, year, war, climat, chang]</td>\n",
       "      <td>573736</td>\n",
       "    </tr>\n",
       "    <tr>\n",
       "      <th>4</th>\n",
       "      <td>1</td>\n",
       "      <td>[2016, racist, sexist, climat, chang, deni, bi...</td>\n",
       "      <td>466954</td>\n",
       "    </tr>\n",
       "  </tbody>\n",
       "</table>\n",
       "</div>"
      ],
      "text/plain": [
       "   sentiment                                            message  tweetid\n",
       "0          1  [polyscimajor, epa, chief, think, carbon, diox...   625221\n",
       "1          1      [like, lack, evid, anthropogen, global, warm]   126103\n",
       "2          2  [research, say, three, year, act, climat, chan...   698562\n",
       "3          1      [wire, 2016, pivot, year, war, climat, chang]   573736\n",
       "4          1  [2016, racist, sexist, climat, chang, deni, bi...   466954"
      ]
     },
     "execution_count": 272,
     "metadata": {},
     "output_type": "execute_result"
    }
   ],
   "source": [
    "df.head()"
   ]
  },
  {
   "cell_type": "markdown",
   "id": "ccd46513-eac6-4855-be7e-2e5f28f725db",
   "metadata": {},
   "source": [
    "- [X] Transform data(by stemming or lemmatizing)"
   ]
  },
  {
   "cell_type": "code",
   "execution_count": 212,
   "id": "0471cd1a-685d-4015-8144-d29beca040c0",
   "metadata": {
    "tags": []
   },
   "outputs": [],
   "source": [
    "def resampler(data, y, kind='balance'):\n",
    "    from sklearn.utils import resample\n",
    "    from imblearn.over_sampling import SMOTE\n",
    "    from imblearn.combine import SMOTETomek\n",
    "    from imblearn.combine import SMOTEENN\n",
    "    \n",
    "    # separate the values\n",
    "    y_values = {}\n",
    "    \n",
    "    for value in data[y].unique():\n",
    "        value_list = data[data[y] == value]\n",
    "        y_values[value] = len(value_list)\n",
    "        \n",
    "    # get value with max count\n",
    "    values = data[y].value_counts()\n",
    "    min_ = min(list(y_values.values()))\n",
    "    max_ = max(list(y_values.values()))\n",
    "    value_max = values[values == max_].index.values[0]\n",
    "    value_min = values[values == min_].index.values[0]\n",
    "    emp_df = pd.DataFrame()\n",
    "    sampled =[]\n",
    "    \n",
    "    if kind == 'downsample':\n",
    "        min_df = data[data[y] == value_min]\n",
    "        for i in y_values.keys():\n",
    "            if i != value_min:   \n",
    "                sampling = resample(data[data[y] == i], replace=False, n_samples=y_values[value_min], random_state=27)\n",
    "                sampled.append(sampling)    \n",
    "        sampled.append(min_df)\n",
    "        \n",
    "    elif kind == 'upsample':\n",
    "        max_df = data[data[y] == value_max]\n",
    "        for i in y_values.keys():\n",
    "            if i != value_max:   \n",
    "                sampling = resample(data[data[y] == i], replace=True, n_samples=y_values[value_max], random_state=27)\n",
    "                sampled.append(sampling)    \n",
    "        sampled.append(max_df)  \n",
    "    \n",
    "    elif kind == 'balance':\n",
    "        resample_size = int(max_/2)\n",
    "        for i in y_values.keys():\n",
    "            sampling = resample(data[data[y] == i], replace=True, n_samples=resample_size, random_state=27)\n",
    "            sampled.append(sampling)\n",
    "            \n",
    "        \n",
    "    for sample in sampled:\n",
    "        emp_df = pd.concat([emp_df,sample])\n",
    "    \n",
    "    return emp_df\n",
    "    # return resample_size"
   ]
  },
  {
   "cell_type": "code",
   "execution_count": 333,
   "id": "aa86a4e7-90a0-4335-a360-81d0282ae16f",
   "metadata": {},
   "outputs": [
    {
     "data": {
      "text/html": [
       "<div>\n",
       "<style scoped>\n",
       "    .dataframe tbody tr th:only-of-type {\n",
       "        vertical-align: middle;\n",
       "    }\n",
       "\n",
       "    .dataframe tbody tr th {\n",
       "        vertical-align: top;\n",
       "    }\n",
       "\n",
       "    .dataframe thead th {\n",
       "        text-align: right;\n",
       "    }\n",
       "</style>\n",
       "<table border=\"1\" class=\"dataframe\">\n",
       "  <thead>\n",
       "    <tr style=\"text-align: right;\">\n",
       "      <th></th>\n",
       "      <th>sentiment</th>\n",
       "      <th>message</th>\n",
       "      <th>tweetid</th>\n",
       "    </tr>\n",
       "  </thead>\n",
       "  <tbody>\n",
       "    <tr>\n",
       "      <th>9628</th>\n",
       "      <td>1</td>\n",
       "      <td>RT @jimsciutto: We are in a parallel universe ...</td>\n",
       "      <td>98572</td>\n",
       "    </tr>\n",
       "    <tr>\n",
       "      <th>7064</th>\n",
       "      <td>1</td>\n",
       "      <td>Our inaction on climate change will be the bla...</td>\n",
       "      <td>77569</td>\n",
       "    </tr>\n",
       "    <tr>\n",
       "      <th>7333</th>\n",
       "      <td>1</td>\n",
       "      <td>RT @LibyaLiberty: This was an eye opener - how...</td>\n",
       "      <td>399472</td>\n",
       "    </tr>\n",
       "    <tr>\n",
       "      <th>9107</th>\n",
       "      <td>1</td>\n",
       "      <td>@IvankaTrump - so much for making climate chan...</td>\n",
       "      <td>177571</td>\n",
       "    </tr>\n",
       "    <tr>\n",
       "      <th>13358</th>\n",
       "      <td>1</td>\n",
       "      <td>RT @krystalball: A little girl just asked @jas...</td>\n",
       "      <td>781743</td>\n",
       "    </tr>\n",
       "    <tr>\n",
       "      <th>...</th>\n",
       "      <td>...</td>\n",
       "      <td>...</td>\n",
       "      <td>...</td>\n",
       "    </tr>\n",
       "    <tr>\n",
       "      <th>4130</th>\n",
       "      <td>-1</td>\n",
       "      <td>The priority for most Africans is getting food...</td>\n",
       "      <td>517059</td>\n",
       "    </tr>\n",
       "    <tr>\n",
       "      <th>9768</th>\n",
       "      <td>-1</td>\n",
       "      <td>RT @realDonaldTrump: The concept of global war...</td>\n",
       "      <td>759713</td>\n",
       "    </tr>\n",
       "    <tr>\n",
       "      <th>1052</th>\n",
       "      <td>-1</td>\n",
       "      <td>RT @CattHarmony: I'd rather #MarchforBabies th...</td>\n",
       "      <td>189585</td>\n",
       "    </tr>\n",
       "    <tr>\n",
       "      <th>6937</th>\n",
       "      <td>-1</td>\n",
       "      <td>RT @loftyjester: Of course they have, fuck all...</td>\n",
       "      <td>763763</td>\n",
       "    </tr>\n",
       "    <tr>\n",
       "      <th>2563</th>\n",
       "      <td>-1</td>\n",
       "      <td>RT @ScottAdamsSays: Did you know the consensus...</td>\n",
       "      <td>530783</td>\n",
       "    </tr>\n",
       "  </tbody>\n",
       "</table>\n",
       "<p>17060 rows × 3 columns</p>\n",
       "</div>"
      ],
      "text/plain": [
       "       sentiment                                            message  tweetid\n",
       "9628           1  RT @jimsciutto: We are in a parallel universe ...    98572\n",
       "7064           1  Our inaction on climate change will be the bla...    77569\n",
       "7333           1  RT @LibyaLiberty: This was an eye opener - how...   399472\n",
       "9107           1  @IvankaTrump - so much for making climate chan...   177571\n",
       "13358          1  RT @krystalball: A little girl just asked @jas...   781743\n",
       "...          ...                                                ...      ...\n",
       "4130          -1  The priority for most Africans is getting food...   517059\n",
       "9768          -1  RT @realDonaldTrump: The concept of global war...   759713\n",
       "1052          -1  RT @CattHarmony: I'd rather #MarchforBabies th...   189585\n",
       "6937          -1  RT @loftyjester: Of course they have, fuck all...   763763\n",
       "2563          -1  RT @ScottAdamsSays: Did you know the consensus...   530783\n",
       "\n",
       "[17060 rows x 3 columns]"
      ]
     },
     "execution_count": 333,
     "metadata": {},
     "output_type": "execute_result"
    }
   ],
   "source": [
    "resampler(df, 'sentiment', 'balance')"
   ]
  },
  {
   "cell_type": "code",
   "execution_count": null,
   "id": "07b97aa9-5124-4552-9e0f-697c70bd1d14",
   "metadata": {},
   "outputs": [],
   "source": []
  },
  {
   "cell_type": "markdown",
   "id": "43b2d523",
   "metadata": {},
   "source": [
    "<a id=\"five\"></a>\n",
    "## 5. Modelling\n",
    "<a class=\"anchor\" id=\"1.1\"></a>\n",
    "<a href=#cont>Back to Table of Contents</a>\n",
    "\n",
    "---\n",
    "    \n",
    "| ⚡ Description: Modelling ⚡ |\n",
    "| :--------------------------- |\n",
    "| In this section, you are required to create one or more regression models that are able to accurately predict the thee hour load shortfall. |\n",
    "\n",
    "---"
   ]
  },
  {
   "cell_type": "code",
   "execution_count": 216,
   "id": "2344b3e0",
   "metadata": {},
   "outputs": [],
   "source": [
    "X_train, X_test, y_train, y_test = train_test_split(X, y, test_size=0.2, random_state=1)# split data"
   ]
  },
  {
   "cell_type": "code",
   "execution_count": 217,
   "id": "9c58df02",
   "metadata": {},
   "outputs": [],
   "source": [
    "logreg = LogisticRegression(multi_class='ovr')"
   ]
  },
  {
   "cell_type": "code",
   "execution_count": 218,
   "id": "20d073e0",
   "metadata": {},
   "outputs": [
    {
     "data": {
      "text/plain": [
       "LogisticRegression(multi_class='ovr')"
      ]
     },
     "execution_count": 218,
     "metadata": {},
     "output_type": "execute_result"
    }
   ],
   "source": [
    "logreg.fit(X_train, y_train)"
   ]
  },
  {
   "cell_type": "code",
   "execution_count": 219,
   "id": "a70c15d7",
   "metadata": {},
   "outputs": [],
   "source": [
    "y_pred = logreg.predict(X_test)"
   ]
  },
  {
   "cell_type": "code",
   "execution_count": null,
   "id": "c7b5810e-0c3e-4abe-b341-64317bc868c7",
   "metadata": {},
   "outputs": [],
   "source": []
  },
  {
   "cell_type": "code",
   "execution_count": 220,
   "id": "d9a90b1d-1617-4b04-9271-f8ae17cfd7f5",
   "metadata": {},
   "outputs": [],
   "source": [
    "rfc = RandomForestClassifier()"
   ]
  },
  {
   "cell_type": "code",
   "execution_count": 221,
   "id": "485a7e82-9c42-49c1-ac9d-ecb9f140555a",
   "metadata": {},
   "outputs": [
    {
     "data": {
      "text/plain": [
       "RandomForestClassifier()"
      ]
     },
     "execution_count": 221,
     "metadata": {},
     "output_type": "execute_result"
    }
   ],
   "source": [
    "rfc.fit(X_train, y_train)"
   ]
  },
  {
   "cell_type": "code",
   "execution_count": 222,
   "id": "c53ae8e6-b497-4cbb-928e-a54cec9e2eee",
   "metadata": {},
   "outputs": [],
   "source": [
    "rfc_pred = rfc.predict(X_test)"
   ]
  },
  {
   "cell_type": "markdown",
   "id": "6b530251",
   "metadata": {},
   "source": [
    "<a id=\"six\"></a>\n",
    "## 6. Model Performance\n",
    "<a class=\"anchor\" id=\"1.1\"></a>\n",
    "<a href=#cont>Back to Table of Contents</a>\n",
    "\n",
    "---\n",
    "    \n",
    "| ⚡ Description: Model performance ⚡ |\n",
    "| :--------------------------- |\n",
    "| In this section you are required to compare the relative performance of the various trained ML models on a holdout dataset and comment on what model is the best and why. |\n",
    "\n",
    "---"
   ]
  },
  {
   "cell_type": "code",
   "execution_count": 223,
   "id": "6a69b5a1",
   "metadata": {},
   "outputs": [
    {
     "name": "stdout",
     "output_type": "stream",
     "text": [
      "              precision    recall  f1-score   support\n",
      "\n",
      "          -1       0.43      0.06      0.10       219\n",
      "           0       0.41      0.18      0.25       461\n",
      "           1       0.67      0.82      0.74      1759\n",
      "           2       0.59      0.62      0.60       725\n",
      "\n",
      "    accuracy                           0.63      3164\n",
      "   macro avg       0.53      0.42      0.43      3164\n",
      "weighted avg       0.60      0.63      0.59      3164\n",
      "\n"
     ]
    }
   ],
   "source": [
    "# Compare model performance\n",
    "import warnings\n",
    "warnings.filterwarnings('ignore')\n",
    "classification = classification_report(y_test, y_pred, target_names=['-1', '0', '1', '2'])\n",
    "\n",
    "print(classification)"
   ]
  },
  {
   "cell_type": "code",
   "execution_count": 224,
   "id": "3874a7c6",
   "metadata": {},
   "outputs": [
    {
     "name": "stdout",
     "output_type": "stream",
     "text": [
      "              precision    recall  f1-score   support\n",
      "\n",
      "          -1       0.32      0.15      0.20       219\n",
      "           0       0.41      0.25      0.31       461\n",
      "           1       0.67      0.78      0.72      1759\n",
      "           2       0.60      0.62      0.61       725\n",
      "\n",
      "    accuracy                           0.62      3164\n",
      "   macro avg       0.50      0.45      0.46      3164\n",
      "weighted avg       0.59      0.62      0.60      3164\n",
      "\n"
     ]
    }
   ],
   "source": [
    "# Choose best model and motivate why it is the best choice\n",
    "\n",
    "classification = classification_report(y_test, rfc_pred, target_names=['-1', '0', '1', '2'])\n",
    "\n",
    "print(classification)"
   ]
  },
  {
   "cell_type": "code",
   "execution_count": 225,
   "id": "edd7c0f6-0cce-484c-9b8b-639e1f0edf1c",
   "metadata": {},
   "outputs": [],
   "source": [
    "test = pd.read_csv('kaggle_data/test.csv')"
   ]
  },
  {
   "cell_type": "code",
   "execution_count": 226,
   "id": "861797fd-c1dc-4ddb-a98a-7b8eea8dd259",
   "metadata": {},
   "outputs": [
    {
     "data": {
      "text/html": [
       "<div>\n",
       "<style scoped>\n",
       "    .dataframe tbody tr th:only-of-type {\n",
       "        vertical-align: middle;\n",
       "    }\n",
       "\n",
       "    .dataframe tbody tr th {\n",
       "        vertical-align: top;\n",
       "    }\n",
       "\n",
       "    .dataframe thead th {\n",
       "        text-align: right;\n",
       "    }\n",
       "</style>\n",
       "<table border=\"1\" class=\"dataframe\">\n",
       "  <thead>\n",
       "    <tr style=\"text-align: right;\">\n",
       "      <th></th>\n",
       "      <th>message</th>\n",
       "      <th>tweetid</th>\n",
       "    </tr>\n",
       "  </thead>\n",
       "  <tbody>\n",
       "    <tr>\n",
       "      <th>0</th>\n",
       "      <td>Europe will now be looking to China to make su...</td>\n",
       "      <td>169760</td>\n",
       "    </tr>\n",
       "    <tr>\n",
       "      <th>1</th>\n",
       "      <td>Combine this with the polling of staffers re c...</td>\n",
       "      <td>35326</td>\n",
       "    </tr>\n",
       "    <tr>\n",
       "      <th>2</th>\n",
       "      <td>The scary, unimpeachable evidence that climate...</td>\n",
       "      <td>224985</td>\n",
       "    </tr>\n",
       "    <tr>\n",
       "      <th>3</th>\n",
       "      <td>@Karoli @morgfair @OsborneInk @dailykos \\nPuti...</td>\n",
       "      <td>476263</td>\n",
       "    </tr>\n",
       "    <tr>\n",
       "      <th>4</th>\n",
       "      <td>RT @FakeWillMoore: 'Female orgasms cause globa...</td>\n",
       "      <td>872928</td>\n",
       "    </tr>\n",
       "  </tbody>\n",
       "</table>\n",
       "</div>"
      ],
      "text/plain": [
       "                                             message  tweetid\n",
       "0  Europe will now be looking to China to make su...   169760\n",
       "1  Combine this with the polling of staffers re c...    35326\n",
       "2  The scary, unimpeachable evidence that climate...   224985\n",
       "3  @Karoli @morgfair @OsborneInk @dailykos \\nPuti...   476263\n",
       "4  RT @FakeWillMoore: 'Female orgasms cause globa...   872928"
      ]
     },
     "execution_count": 226,
     "metadata": {},
     "output_type": "execute_result"
    }
   ],
   "source": [
    "test.head()"
   ]
  },
  {
   "cell_type": "code",
   "execution_count": 227,
   "id": "aa00f2ef-e41d-4cfc-b143-ee6dafce54b9",
   "metadata": {},
   "outputs": [],
   "source": [
    "test_x = vector.fit_transform(test.message).toarray()"
   ]
  },
  {
   "cell_type": "code",
   "execution_count": 228,
   "id": "96b3a6fe-2a63-4418-8189-422728de6055",
   "metadata": {},
   "outputs": [],
   "source": [
    "pred_y = rfc.predict(test_x)"
   ]
  },
  {
   "cell_type": "code",
   "execution_count": 229,
   "id": "455c4ab7-5b88-43cd-9a00-af45b9b15935",
   "metadata": {},
   "outputs": [
    {
     "data": {
      "text/plain": [
       "array([1, 1, 1, ..., 1, 1, 1], dtype=int64)"
      ]
     },
     "execution_count": 229,
     "metadata": {},
     "output_type": "execute_result"
    }
   ],
   "source": [
    "pred_y"
   ]
  },
  {
   "cell_type": "code",
   "execution_count": null,
   "id": "9fb8768d-419d-4f08-92ac-f3fd4849d66d",
   "metadata": {},
   "outputs": [],
   "source": []
  },
  {
   "cell_type": "code",
   "execution_count": null,
   "id": "104de710-fd57-4992-880e-e4c0b62b4d42",
   "metadata": {},
   "outputs": [],
   "source": []
  },
  {
   "cell_type": "code",
   "execution_count": 230,
   "id": "b6a5cdcf-610a-4a42-9b14-9fa8bfe98851",
   "metadata": {},
   "outputs": [],
   "source": [
    "#baseline submission"
   ]
  },
  {
   "cell_type": "code",
   "execution_count": 231,
   "id": "869d02ab-8989-4b32-833b-1720c0ca1186",
   "metadata": {},
   "outputs": [],
   "source": [
    "submission_sample = pd.read_csv('kaggle_data/sample_submission.csv')"
   ]
  },
  {
   "cell_type": "code",
   "execution_count": 232,
   "id": "9a57fa3a-5680-4055-ba4f-ca5fcc3f43e4",
   "metadata": {},
   "outputs": [
    {
     "data": {
      "text/html": [
       "<div>\n",
       "<style scoped>\n",
       "    .dataframe tbody tr th:only-of-type {\n",
       "        vertical-align: middle;\n",
       "    }\n",
       "\n",
       "    .dataframe tbody tr th {\n",
       "        vertical-align: top;\n",
       "    }\n",
       "\n",
       "    .dataframe thead th {\n",
       "        text-align: right;\n",
       "    }\n",
       "</style>\n",
       "<table border=\"1\" class=\"dataframe\">\n",
       "  <thead>\n",
       "    <tr style=\"text-align: right;\">\n",
       "      <th></th>\n",
       "      <th>tweetid</th>\n",
       "      <th>sentiment</th>\n",
       "    </tr>\n",
       "  </thead>\n",
       "  <tbody>\n",
       "    <tr>\n",
       "      <th>0</th>\n",
       "      <td>169760</td>\n",
       "      <td>1</td>\n",
       "    </tr>\n",
       "    <tr>\n",
       "      <th>1</th>\n",
       "      <td>35326</td>\n",
       "      <td>1</td>\n",
       "    </tr>\n",
       "    <tr>\n",
       "      <th>2</th>\n",
       "      <td>224985</td>\n",
       "      <td>1</td>\n",
       "    </tr>\n",
       "    <tr>\n",
       "      <th>3</th>\n",
       "      <td>476263</td>\n",
       "      <td>1</td>\n",
       "    </tr>\n",
       "    <tr>\n",
       "      <th>4</th>\n",
       "      <td>872928</td>\n",
       "      <td>1</td>\n",
       "    </tr>\n",
       "  </tbody>\n",
       "</table>\n",
       "</div>"
      ],
      "text/plain": [
       "   tweetid  sentiment\n",
       "0   169760          1\n",
       "1    35326          1\n",
       "2   224985          1\n",
       "3   476263          1\n",
       "4   872928          1"
      ]
     },
     "execution_count": 232,
     "metadata": {},
     "output_type": "execute_result"
    }
   ],
   "source": [
    "submission_sample.head()"
   ]
  },
  {
   "cell_type": "code",
   "execution_count": 233,
   "id": "5146abeb-60b4-431d-99c8-5aacf5c42c53",
   "metadata": {},
   "outputs": [
    {
     "data": {
      "text/plain": [
       "array([ 1, -1,  1, ...,  1,  0,  1], dtype=int64)"
      ]
     },
     "execution_count": 233,
     "metadata": {},
     "output_type": "execute_result"
    }
   ],
   "source": [
    "y_pred"
   ]
  },
  {
   "cell_type": "code",
   "execution_count": 234,
   "id": "d5f34ca3-837c-4b4e-9a69-8a670b69d327",
   "metadata": {},
   "outputs": [],
   "source": [
    "sub_file = submission_sample.copy()"
   ]
  },
  {
   "cell_type": "code",
   "execution_count": 235,
   "id": "ecfb866e-839e-4115-b1bd-d2f23d516483",
   "metadata": {},
   "outputs": [],
   "source": [
    "sub_file.tweetid = test.tweetid"
   ]
  },
  {
   "cell_type": "code",
   "execution_count": 236,
   "id": "270b5134-3fee-493a-b82b-338d20e31d46",
   "metadata": {},
   "outputs": [],
   "source": [
    "sub_file.sentiment= pred_y"
   ]
  },
  {
   "cell_type": "code",
   "execution_count": 237,
   "id": "ae1646e9-dc89-4627-b369-f93b7d4dc686",
   "metadata": {},
   "outputs": [
    {
     "data": {
      "text/html": [
       "<div>\n",
       "<style scoped>\n",
       "    .dataframe tbody tr th:only-of-type {\n",
       "        vertical-align: middle;\n",
       "    }\n",
       "\n",
       "    .dataframe tbody tr th {\n",
       "        vertical-align: top;\n",
       "    }\n",
       "\n",
       "    .dataframe thead th {\n",
       "        text-align: right;\n",
       "    }\n",
       "</style>\n",
       "<table border=\"1\" class=\"dataframe\">\n",
       "  <thead>\n",
       "    <tr style=\"text-align: right;\">\n",
       "      <th></th>\n",
       "      <th>tweetid</th>\n",
       "      <th>sentiment</th>\n",
       "    </tr>\n",
       "  </thead>\n",
       "  <tbody>\n",
       "    <tr>\n",
       "      <th>0</th>\n",
       "      <td>169760</td>\n",
       "      <td>1</td>\n",
       "    </tr>\n",
       "    <tr>\n",
       "      <th>1</th>\n",
       "      <td>35326</td>\n",
       "      <td>1</td>\n",
       "    </tr>\n",
       "    <tr>\n",
       "      <th>2</th>\n",
       "      <td>224985</td>\n",
       "      <td>1</td>\n",
       "    </tr>\n",
       "    <tr>\n",
       "      <th>3</th>\n",
       "      <td>476263</td>\n",
       "      <td>1</td>\n",
       "    </tr>\n",
       "    <tr>\n",
       "      <th>4</th>\n",
       "      <td>872928</td>\n",
       "      <td>1</td>\n",
       "    </tr>\n",
       "  </tbody>\n",
       "</table>\n",
       "</div>"
      ],
      "text/plain": [
       "   tweetid  sentiment\n",
       "0   169760          1\n",
       "1    35326          1\n",
       "2   224985          1\n",
       "3   476263          1\n",
       "4   872928          1"
      ]
     },
     "execution_count": 237,
     "metadata": {},
     "output_type": "execute_result"
    }
   ],
   "source": [
    "sub_file.head()"
   ]
  },
  {
   "cell_type": "code",
   "execution_count": 238,
   "id": "db905330-47a7-4c79-9424-278813cfdc81",
   "metadata": {},
   "outputs": [],
   "source": [
    "sub_file.to_csv(\"baseline.csv\", index=False)"
   ]
  },
  {
   "cell_type": "code",
   "execution_count": 239,
   "id": "ed7ea0b4-cb0c-4635-8f9c-e12f79d3f7c9",
   "metadata": {},
   "outputs": [
    {
     "data": {
      "text/html": [
       "<div>\n",
       "<style scoped>\n",
       "    .dataframe tbody tr th:only-of-type {\n",
       "        vertical-align: middle;\n",
       "    }\n",
       "\n",
       "    .dataframe tbody tr th {\n",
       "        vertical-align: top;\n",
       "    }\n",
       "\n",
       "    .dataframe thead th {\n",
       "        text-align: right;\n",
       "    }\n",
       "</style>\n",
       "<table border=\"1\" class=\"dataframe\">\n",
       "  <thead>\n",
       "    <tr style=\"text-align: right;\">\n",
       "      <th></th>\n",
       "      <th>tweetid</th>\n",
       "      <th>sentiment</th>\n",
       "    </tr>\n",
       "  </thead>\n",
       "  <tbody>\n",
       "    <tr>\n",
       "      <th>0</th>\n",
       "      <td>169760</td>\n",
       "      <td>1</td>\n",
       "    </tr>\n",
       "    <tr>\n",
       "      <th>1</th>\n",
       "      <td>35326</td>\n",
       "      <td>1</td>\n",
       "    </tr>\n",
       "    <tr>\n",
       "      <th>2</th>\n",
       "      <td>224985</td>\n",
       "      <td>1</td>\n",
       "    </tr>\n",
       "    <tr>\n",
       "      <th>3</th>\n",
       "      <td>476263</td>\n",
       "      <td>1</td>\n",
       "    </tr>\n",
       "    <tr>\n",
       "      <th>4</th>\n",
       "      <td>872928</td>\n",
       "      <td>1</td>\n",
       "    </tr>\n",
       "  </tbody>\n",
       "</table>\n",
       "</div>"
      ],
      "text/plain": [
       "   tweetid  sentiment\n",
       "0   169760          1\n",
       "1    35326          1\n",
       "2   224985          1\n",
       "3   476263          1\n",
       "4   872928          1"
      ]
     },
     "execution_count": 239,
     "metadata": {},
     "output_type": "execute_result"
    }
   ],
   "source": [
    "submission_sample.head()"
   ]
  },
  {
   "cell_type": "markdown",
   "id": "a8ad0c0d",
   "metadata": {},
   "source": [
    "<a id=\"seven\"></a>\n",
    "## 7. Model Explanations\n",
    "<a class=\"anchor\" id=\"1.1\"></a>\n",
    "<a href=#cont>Back to Table of Contents</a>\n",
    "\n",
    "---\n",
    "    \n",
    "| ⚡ Description: Model explanation ⚡ |\n",
    "| :--------------------------- |\n",
    "| In this section, you are required to discuss how the best performing model works in a simple way so that both technical and non-technical stakeholders can grasp the intuition behind the model's inner workings. |\n",
    "\n",
    "---"
   ]
  },
  {
   "cell_type": "code",
   "execution_count": null,
   "id": "5ff741c2",
   "metadata": {},
   "outputs": [],
   "source": [
    "# discuss chosen methods logic"
   ]
  }
 ],
 "metadata": {
  "kernelspec": {
   "display_name": "Python 3 (ipykernel)",
   "language": "python",
   "name": "python3"
  },
  "language_info": {
   "codemirror_mode": {
    "name": "ipython",
    "version": 3
   },
   "file_extension": ".py",
   "mimetype": "text/x-python",
   "name": "python",
   "nbconvert_exporter": "python",
   "pygments_lexer": "ipython3",
   "version": "3.9.9"
  },
  "latex_envs": {
   "LaTeX_envs_menu_present": true,
   "autoclose": false,
   "autocomplete": true,
   "bibliofile": "biblio.bib",
   "cite_by": "apalike",
   "current_citInitial": 1,
   "eqLabelWithNumbers": true,
   "eqNumInitial": 1,
   "hotkeys": {
    "equation": "Ctrl-E",
    "itemize": "Ctrl-I"
   },
   "labels_anchors": false,
   "latex_user_defs": false,
   "report_style_numbering": false,
   "user_envs_cfg": false
  },
  "toc": {
   "base_numbering": 1,
   "nav_menu": {},
   "number_sections": true,
   "sideBar": true,
   "skip_h1_title": false,
   "title_cell": "Table of Contents",
   "title_sidebar": "Contents",
   "toc_cell": false,
   "toc_position": {},
   "toc_section_display": true,
   "toc_window_display": false
  },
  "varInspector": {
   "cols": {
    "lenName": 16,
    "lenType": 16,
    "lenVar": 40
   },
   "kernels_config": {
    "python": {
     "delete_cmd_postfix": "",
     "delete_cmd_prefix": "del ",
     "library": "var_list.py",
     "varRefreshCmd": "print(var_dic_list())"
    },
    "r": {
     "delete_cmd_postfix": ") ",
     "delete_cmd_prefix": "rm(",
     "library": "var_list.r",
     "varRefreshCmd": "cat(var_dic_list()) "
    }
   },
   "types_to_exclude": [
    "module",
    "function",
    "builtin_function_or_method",
    "instance",
    "_Feature"
   ],
   "window_display": false
  }
 },
 "nbformat": 4,
 "nbformat_minor": 5
}
